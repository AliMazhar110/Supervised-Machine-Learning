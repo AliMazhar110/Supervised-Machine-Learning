{
 "cells": [
  {
   "cell_type": "markdown",
   "metadata": {},
   "source": [
    "# Logistic Regression"
   ]
  },
  {
   "cell_type": "markdown",
   "metadata": {},
   "source": [
    "### Importing the Libraries"
   ]
  },
  {
   "cell_type": "code",
   "execution_count": 2,
   "metadata": {},
   "outputs": [],
   "source": [
    "import numpy as np\n",
    "import matplotlib.pyplot as plt\n",
    "import pandas as pd\n",
    "\n",
    "pd.set_option(\"display.max_columns\",None)\n",
    "pd.set_option(\"display.precision\",2)"
   ]
  },
  {
   "cell_type": "markdown",
   "metadata": {},
   "source": [
    "### Importing the data"
   ]
  },
  {
   "cell_type": "code",
   "execution_count": 3,
   "metadata": {},
   "outputs": [
    {
     "data": {
      "text/html": [
       "<div>\n",
       "<style scoped>\n",
       "    .dataframe tbody tr th:only-of-type {\n",
       "        vertical-align: middle;\n",
       "    }\n",
       "\n",
       "    .dataframe tbody tr th {\n",
       "        vertical-align: top;\n",
       "    }\n",
       "\n",
       "    .dataframe thead th {\n",
       "        text-align: right;\n",
       "    }\n",
       "</style>\n",
       "<table border=\"1\" class=\"dataframe\">\n",
       "  <thead>\n",
       "    <tr style=\"text-align: right;\">\n",
       "      <th></th>\n",
       "      <th>Column1</th>\n",
       "      <th>Column2</th>\n",
       "      <th>Column3</th>\n",
       "    </tr>\n",
       "  </thead>\n",
       "  <tbody>\n",
       "    <tr>\n",
       "      <th>0</th>\n",
       "      <td>34.62</td>\n",
       "      <td>78.02</td>\n",
       "      <td>0</td>\n",
       "    </tr>\n",
       "    <tr>\n",
       "      <th>1</th>\n",
       "      <td>30.29</td>\n",
       "      <td>43.89</td>\n",
       "      <td>0</td>\n",
       "    </tr>\n",
       "    <tr>\n",
       "      <th>2</th>\n",
       "      <td>35.85</td>\n",
       "      <td>72.90</td>\n",
       "      <td>0</td>\n",
       "    </tr>\n",
       "    <tr>\n",
       "      <th>3</th>\n",
       "      <td>60.18</td>\n",
       "      <td>86.31</td>\n",
       "      <td>1</td>\n",
       "    </tr>\n",
       "    <tr>\n",
       "      <th>4</th>\n",
       "      <td>79.03</td>\n",
       "      <td>75.34</td>\n",
       "      <td>1</td>\n",
       "    </tr>\n",
       "  </tbody>\n",
       "</table>\n",
       "</div>"
      ],
      "text/plain": [
       "   Column1  Column2  Column3\n",
       "0    34.62    78.02        0\n",
       "1    30.29    43.89        0\n",
       "2    35.85    72.90        0\n",
       "3    60.18    86.31        1\n",
       "4    79.03    75.34        1"
      ]
     },
     "execution_count": 3,
     "metadata": {},
     "output_type": "execute_result"
    }
   ],
   "source": [
    "data = pd.read_csv(\"ex1data1.csv\")\n",
    "data.head()"
   ]
  },
  {
   "cell_type": "code",
   "execution_count": 4,
   "metadata": {},
   "outputs": [
    {
     "data": {
      "text/plain": [
       "(array([[34.62365962, 78.02469282],\n",
       "        [30.28671077, 43.89499752],\n",
       "        [35.84740877, 72.90219803],\n",
       "        [60.18259939, 86.3085521 ],\n",
       "        [79.03273605, 75.34437644],\n",
       "        [45.08327748, 56.31637178],\n",
       "        [61.10666454, 96.51142588],\n",
       "        [75.02474557, 46.55401354],\n",
       "        [76.0987867 , 87.42056972],\n",
       "        [84.43281996, 43.53339331],\n",
       "        [95.86155507, 38.22527806],\n",
       "        [75.01365839, 30.60326323],\n",
       "        [82.30705337, 76.4819633 ],\n",
       "        [69.36458876, 97.71869196],\n",
       "        [39.53833914, 76.03681085],\n",
       "        [53.97105215, 89.20735014],\n",
       "        [69.07014406, 52.74046973],\n",
       "        [67.94685548, 46.67857411],\n",
       "        [70.66150955, 92.92713789],\n",
       "        [76.97878373, 47.57596365],\n",
       "        [67.37202755, 42.83843832],\n",
       "        [89.67677575, 65.79936593],\n",
       "        [50.53478829, 48.85581153],\n",
       "        [34.21206098, 44.2095286 ],\n",
       "        [77.92409145, 68.97235999],\n",
       "        [62.27101367, 69.95445795],\n",
       "        [80.19018075, 44.82162893],\n",
       "        [93.1143888 , 38.80067034],\n",
       "        [61.83020602, 50.25610789],\n",
       "        [38.7858038 , 64.99568096],\n",
       "        [61.37928945, 72.80788731],\n",
       "        [85.40451939, 57.05198398],\n",
       "        [52.10797973, 63.12762377],\n",
       "        [52.04540477, 69.43286012],\n",
       "        [40.23689374, 71.16774802],\n",
       "        [54.63510555, 52.21388588],\n",
       "        [33.91550011, 98.86943574],\n",
       "        [64.17698887, 80.90806059],\n",
       "        [74.78925296, 41.57341523],\n",
       "        [34.18364003, 75.23772034],\n",
       "        [83.90239366, 56.30804622],\n",
       "        [51.54772027, 46.85629026],\n",
       "        [94.44336777, 65.56892161],\n",
       "        [82.36875376, 40.61825516],\n",
       "        [51.04775177, 45.82270146],\n",
       "        [62.22267576, 52.06099195],\n",
       "        [77.19303493, 70.4582    ],\n",
       "        [97.77159928, 86.72782233],\n",
       "        [62.0730638 , 96.76882412],\n",
       "        [91.5649745 , 88.69629255],\n",
       "        [79.94481794, 74.16311935],\n",
       "        [99.27252693, 60.999031  ],\n",
       "        [90.54671411, 43.39060181],\n",
       "        [34.52451385, 60.39634246],\n",
       "        [50.28649612, 49.80453881],\n",
       "        [49.58667722, 59.80895099],\n",
       "        [97.64563396, 68.86157272],\n",
       "        [32.57720017, 95.59854761],\n",
       "        [74.24869137, 69.82457123],\n",
       "        [71.79646206, 78.45356225],\n",
       "        [75.39561147, 85.75993667],\n",
       "        [35.28611282, 47.02051395],\n",
       "        [56.2538175 , 39.26147251],\n",
       "        [30.05882245, 49.59297387],\n",
       "        [44.66826172, 66.45008615],\n",
       "        [66.56089447, 41.09209808],\n",
       "        [40.45755098, 97.53518549],\n",
       "        [49.07256322, 51.88321182],\n",
       "        [80.27957401, 92.11606081],\n",
       "        [66.74671857, 60.99139403],\n",
       "        [32.72283304, 43.30717306],\n",
       "        [64.03932042, 78.03168802],\n",
       "        [72.34649423, 96.22759297],\n",
       "        [60.45788574, 73.0949981 ],\n",
       "        [58.84095622, 75.85844831],\n",
       "        [99.8278578 , 72.36925193],\n",
       "        [47.26426911, 88.475865  ],\n",
       "        [50.4581598 , 75.80985953],\n",
       "        [60.45555629, 42.50840944],\n",
       "        [82.22666158, 42.71987854],\n",
       "        [88.91389642, 69.8037889 ],\n",
       "        [94.83450672, 45.6943068 ],\n",
       "        [67.31925747, 66.58935318],\n",
       "        [57.23870632, 59.51428198],\n",
       "        [80.366756  , 90.9601479 ],\n",
       "        [68.46852179, 85.5943071 ],\n",
       "        [42.07545454, 78.844786  ],\n",
       "        [75.47770201, 90.424539  ],\n",
       "        [78.63542435, 96.64742717],\n",
       "        [52.34800399, 60.76950526],\n",
       "        [94.09433113, 77.15910509],\n",
       "        [90.44855097, 87.50879176],\n",
       "        [55.48216114, 35.57070347],\n",
       "        [74.49269242, 84.84513685],\n",
       "        [89.84580671, 45.35828361],\n",
       "        [83.48916274, 48.3802858 ],\n",
       "        [42.26170081, 87.10385094],\n",
       "        [99.31500881, 68.77540947],\n",
       "        [55.34001756, 64.93193801],\n",
       "        [74.775893  , 89.5298129 ]]),\n",
       " array([0, 0, 0, 1, 1, 0, 1, 1, 1, 1, 0, 0, 1, 1, 0, 1, 1, 0, 1, 1, 0, 1,\n",
       "        0, 0, 1, 1, 1, 0, 0, 0, 1, 1, 0, 1, 0, 0, 0, 1, 0, 0, 1, 0, 1, 0,\n",
       "        0, 0, 1, 1, 1, 1, 1, 1, 1, 0, 0, 0, 1, 0, 1, 1, 1, 0, 0, 0, 0, 0,\n",
       "        1, 0, 1, 1, 0, 1, 1, 1, 1, 1, 1, 1, 0, 0, 1, 1, 1, 1, 1, 1, 0, 1,\n",
       "        1, 0, 1, 1, 0, 1, 1, 1, 1, 1, 1, 1], dtype=int64))"
      ]
     },
     "execution_count": 4,
     "metadata": {},
     "output_type": "execute_result"
    }
   ],
   "source": [
    "x = data.iloc[:,:-1].values\n",
    "y = data.iloc[:,-1].values\n",
    "x,y"
   ]
  },
  {
   "cell_type": "markdown",
   "metadata": {},
   "source": [
    "### Spliting Data into train and test sets"
   ]
  },
  {
   "cell_type": "code",
   "execution_count": 5,
   "metadata": {},
   "outputs": [],
   "source": [
    "from sklearn.model_selection import train_test_split"
   ]
  },
  {
   "cell_type": "code",
   "execution_count": 6,
   "metadata": {},
   "outputs": [
    {
     "data": {
      "text/plain": [
       "(array([[82.36875376, 40.61825516],\n",
       "        [56.2538175 , 39.26147251],\n",
       "        [60.18259939, 86.3085521 ],\n",
       "        [64.03932042, 78.03168802],\n",
       "        [62.22267576, 52.06099195],\n",
       "        [62.0730638 , 96.76882412],\n",
       "        [61.10666454, 96.51142588],\n",
       "        [74.775893  , 89.5298129 ],\n",
       "        [67.31925747, 66.58935318],\n",
       "        [47.26426911, 88.475865  ],\n",
       "        [75.39561147, 85.75993667],\n",
       "        [88.91389642, 69.8037889 ],\n",
       "        [94.09433113, 77.15910509],\n",
       "        [80.27957401, 92.11606081],\n",
       "        [99.27252693, 60.999031  ],\n",
       "        [93.1143888 , 38.80067034],\n",
       "        [70.66150955, 92.92713789],\n",
       "        [97.64563396, 68.86157272],\n",
       "        [30.05882245, 49.59297387],\n",
       "        [58.84095622, 75.85844831],\n",
       "        [30.28671077, 43.89499752],\n",
       "        [35.28611282, 47.02051395],\n",
       "        [94.44336777, 65.56892161],\n",
       "        [51.54772027, 46.85629026],\n",
       "        [79.03273605, 75.34437644],\n",
       "        [53.97105215, 89.20735014],\n",
       "        [67.94685548, 46.67857411],\n",
       "        [83.90239366, 56.30804622],\n",
       "        [74.78925296, 41.57341523],\n",
       "        [45.08327748, 56.31637178],\n",
       "        [90.44855097, 87.50879176],\n",
       "        [71.79646206, 78.45356225],\n",
       "        [34.62365962, 78.02469282],\n",
       "        [40.23689374, 71.16774802],\n",
       "        [61.83020602, 50.25610789],\n",
       "        [79.94481794, 74.16311935],\n",
       "        [75.01365839, 30.60326323],\n",
       "        [54.63510555, 52.21388588],\n",
       "        [34.21206098, 44.2095286 ],\n",
       "        [90.54671411, 43.39060181],\n",
       "        [95.86155507, 38.22527806],\n",
       "        [85.40451939, 57.05198398],\n",
       "        [40.45755098, 97.53518549],\n",
       "        [32.57720017, 95.59854761],\n",
       "        [82.22666158, 42.71987854],\n",
       "        [68.46852179, 85.5943071 ],\n",
       "        [52.10797973, 63.12762377],\n",
       "        [80.366756  , 90.9601479 ],\n",
       "        [39.53833914, 76.03681085],\n",
       "        [52.34800399, 60.76950526],\n",
       "        [76.97878373, 47.57596365],\n",
       "        [38.7858038 , 64.99568096],\n",
       "        [91.5649745 , 88.69629255],\n",
       "        [99.31500881, 68.77540947],\n",
       "        [55.34001756, 64.93193801],\n",
       "        [66.74671857, 60.99139403],\n",
       "        [67.37202755, 42.83843832],\n",
       "        [89.84580671, 45.35828361],\n",
       "        [72.34649423, 96.22759297],\n",
       "        [50.4581598 , 75.80985953],\n",
       "        [62.27101367, 69.95445795],\n",
       "        [64.17698887, 80.90806059],\n",
       "        [94.83450672, 45.6943068 ],\n",
       "        [77.19303493, 70.4582    ],\n",
       "        [34.18364003, 75.23772034],\n",
       "        [66.56089447, 41.09209808],\n",
       "        [74.24869137, 69.82457123],\n",
       "        [82.30705337, 76.4819633 ],\n",
       "        [78.63542435, 96.64742717],\n",
       "        [32.72283304, 43.30717306],\n",
       "        [75.47770201, 90.424539  ],\n",
       "        [33.91550011, 98.86943574],\n",
       "        [89.67677575, 65.79936593],\n",
       "        [57.23870632, 59.51428198],\n",
       "        [84.43281996, 43.53339331],\n",
       "        [42.26170081, 87.10385094],\n",
       "        [49.07256322, 51.88321182],\n",
       "        [44.66826172, 66.45008615],\n",
       "        [97.77159928, 86.72782233],\n",
       "        [51.04775177, 45.82270146]]),\n",
       " array([0, 0, 1, 1, 0, 1, 1, 1, 1, 1, 1, 1, 1, 1, 1, 0, 1, 1, 0, 1, 0, 0,\n",
       "        1, 0, 1, 1, 0, 1, 0, 0, 1, 1, 0, 0, 0, 1, 0, 0, 0, 1, 0, 1, 1, 0,\n",
       "        0, 1, 0, 1, 0, 0, 1, 0, 1, 1, 1, 1, 0, 1, 1, 1, 1, 1, 1, 1, 0, 0,\n",
       "        1, 1, 1, 0, 1, 0, 1, 1, 1, 1, 0, 0, 1, 0], dtype=int64))"
      ]
     },
     "execution_count": 6,
     "metadata": {},
     "output_type": "execute_result"
    }
   ],
   "source": [
    "x_train,x_test,y_train,y_test = train_test_split(x,y, test_size=0.2, random_state=0)\n",
    "x_train,y_train"
   ]
  },
  {
   "cell_type": "code",
   "execution_count": 7,
   "metadata": {},
   "outputs": [
    {
     "data": {
      "text/plain": [
       "(array([[80.19018075, 44.82162893],\n",
       "        [42.07545454, 78.844786  ],\n",
       "        [35.84740877, 72.90219803],\n",
       "        [49.58667722, 59.80895099],\n",
       "        [99.8278578 , 72.36925193],\n",
       "        [74.49269242, 84.84513685],\n",
       "        [69.07014406, 52.74046973],\n",
       "        [60.45788574, 73.0949981 ],\n",
       "        [50.28649612, 49.80453881],\n",
       "        [83.48916274, 48.3802858 ],\n",
       "        [34.52451385, 60.39634246],\n",
       "        [55.48216114, 35.57070347],\n",
       "        [60.45555629, 42.50840944],\n",
       "        [69.36458876, 97.71869196],\n",
       "        [75.02474557, 46.55401354],\n",
       "        [61.37928945, 72.80788731],\n",
       "        [50.53478829, 48.85581153],\n",
       "        [77.92409145, 68.97235999],\n",
       "        [52.04540477, 69.43286012],\n",
       "        [76.0987867 , 87.42056972]]),\n",
       " array([1, 0, 0, 0, 1, 1, 1, 1, 0, 1, 0, 0, 0, 1, 1, 1, 0, 1, 1, 1],\n",
       "       dtype=int64))"
      ]
     },
     "execution_count": 7,
     "metadata": {},
     "output_type": "execute_result"
    }
   ],
   "source": [
    "x_test,y_test"
   ]
  },
  {
   "cell_type": "markdown",
   "metadata": {},
   "source": [
    "### Data Visualization"
   ]
  },
  {
   "cell_type": "code",
   "execution_count": 8,
   "metadata": {},
   "outputs": [],
   "source": [
    "col1_0,col2_0 = [],[]\n",
    "col1_1,col2_1 = [],[]\n",
    "for i in range(len(y_train)):\n",
    "    if y_train[i] == 0:\n",
    "        col1_0.append(x_train[i][0])\n",
    "        col2_0.append(x_train[i][1])\n",
    "    elif y_train[i] == 1:\n",
    "        col1_1.append(x_train[i][0])\n",
    "        col2_1.append(x_train[i][1])"
   ]
  },
  {
   "cell_type": "code",
   "execution_count": 11,
   "metadata": {},
   "outputs": [
    {
     "data": {
      "text/plain": [
       "(32, 32, 48, 48)"
      ]
     },
     "execution_count": 11,
     "metadata": {},
     "output_type": "execute_result"
    }
   ],
   "source": [
    "len(col1_0),len(col2_0),len(col1_1),len(col2_1)"
   ]
  },
  {
   "cell_type": "code",
   "execution_count": 17,
   "metadata": {},
   "outputs": [
    {
     "data": {
      "image/png": "[encoded data removed]",
      "text/plain": [
       "<Figure size 1500x1000 with 1 Axes>"
      ]
     },
     "metadata": {
      "needs_background": "light"
     },
     "output_type": "display_data"
    }
   ],
   "source": [
    "plt.figure(figsize=(15,10), dpi=100)\n",
    "plt.scatter(col1_0,col2_0,c=\"#FFC900\",s=50,marker=\"+\",label=\"zero\")\n",
    "plt.scatter(col1_1,col2_1,c=\"#086E7D\",s=50,label=\"one\")\n",
    "plt.xlabel(\"Column 1\")\n",
    "plt.ylabel(\"Column 2\")\n",
    "plt.title(\"Column 1 VS. Column 2\")\n",
    "plt.legend(loc=\"upper right\")\n",
    "plt.show()"
   ]
  },
  {
   "cell_type": "markdown",
   "metadata": {},
   "source": [
    "## Using Sklearn"
   ]
  },
  {
   "cell_type": "code",
   "execution_count": 22,
   "metadata": {},
   "outputs": [],
   "source": [
    "from sklearn.linear_model import LogisticRegression\n",
    "from sklearn import metrics"
   ]
  },
  {
   "cell_type": "code",
   "execution_count": 19,
   "metadata": {},
   "outputs": [
    {
     "data": {
      "text/plain": [
       "LogisticRegression()"
      ]
     },
     "execution_count": 19,
     "metadata": {},
     "output_type": "execute_result"
    }
   ],
   "source": [
    "lr = LogisticRegression()\n",
    "lr.fit(x_train,y_train)"
   ]
  },
  {
   "cell_type": "code",
   "execution_count": 20,
   "metadata": {},
   "outputs": [
    {
     "name": "stdout",
     "output_type": "stream",
     "text": [
      "[[0 1]\n",
      " [0 0]\n",
      " [0 0]\n",
      " [0 0]\n",
      " [1 1]\n",
      " [1 1]\n",
      " [0 1]\n",
      " [1 1]\n",
      " [0 0]\n",
      " [1 1]\n",
      " [0 0]\n",
      " [0 0]\n",
      " [0 0]\n",
      " [1 1]\n",
      " [0 1]\n",
      " [1 1]\n",
      " [0 0]\n",
      " [1 1]\n",
      " [0 1]\n",
      " [1 1]]\n"
     ]
    }
   ],
   "source": [
    "y_pred = lr.predict(x_test)\n",
    "print(np.concatenate((y_pred.reshape(len(y_pred),1), y_test.reshape(len(y_test),1)),axis=1))"
   ]
  },
  {
   "cell_type": "code",
   "execution_count": 36,
   "metadata": {},
   "outputs": [
    {
     "name": "stdout",
     "output_type": "stream",
     "text": [
      "Accuracy = 80.0\n",
      "Recall = 0.6666666666666666\n",
      "Precision = 1.0\n"
     ]
    },
    {
     "data": {
      "image/png": "[encoded data removed]",
      "text/plain": [
       "<Figure size 432x288 with 2 Axes>"
      ]
     },
     "metadata": {
      "needs_background": "light"
     },
     "output_type": "display_data"
    }
   ],
   "source": [
    "score = lr.score(x_test,y_test)\n",
    "metrics.plot_confusion_matrix(lr,x_test,y_test)\n",
    "print(\"Accuracy =\",score*100)\n",
    "print(\"Recall =\",metrics.recall_score(y_test,y_pred))\n",
    "print(\"Precision =\",metrics.precision_score(y_test,y_pred))"
   ]
  },
  {
   "cell_type": "code",
   "execution_count": null,
   "metadata": {},
   "outputs": [],
   "source": []
  }
 ],
 "metadata": {
  "interpreter": {
   "hash": "a12d694c3ccac42055183a0ad11e659c6a2db5c6555ad2c8919d5814fd4e404f"
  },
  "kernelspec": {
   "display_name": "Python 3.9.4 64-bit",
   "language": "python",
   "name": "python3"
  },
  "language_info": {
   "codemirror_mode": {
    "name": "ipython",
    "version": 3
   },
   "file_extension": ".py",
   "mimetype": "text/x-python",
   "name": "python",
   "nbconvert_exporter": "python",
   "pygments_lexer": "ipython3",
   "version": "3.9.4"
  },
  "orig_nbformat": 4
 },
 "nbformat": 4,
 "nbformat_minor": 2
}
