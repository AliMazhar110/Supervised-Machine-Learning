{
 "cells": [
  {
   "cell_type": "markdown",
   "id": "175e6119",
   "metadata": {},
   "source": [
    "# Linear Regression With One Variable"
   ]
  },
  {
   "cell_type": "markdown",
   "id": "e62c3813",
   "metadata": {},
   "source": [
    "## Importing the libraries"
   ]
  },
  {
   "cell_type": "code",
   "execution_count": 1,
   "id": "d2bb6ca3",
   "metadata": {},
   "outputs": [],
   "source": [
    "import pandas as pd\n",
    "import numpy as np\n",
    "import matplotlib.pyplot as plt"
   ]
  },
  {
   "cell_type": "markdown",
   "id": "b48fde0f",
   "metadata": {},
   "source": [
    "## Loading the data"
   ]
  },
  {
   "cell_type": "code",
   "execution_count": 2,
   "id": "75ea9e6f",
   "metadata": {},
   "outputs": [],
   "source": [
    "dataset = pd.read_csv(\"ex1data1.csv\")\n",
    "z=dataset.iloc[:,-1].values"
   ]
  },
  {
   "cell_type": "code",
   "execution_count": 3,
   "id": "5cbdf2a9",
   "metadata": {},
   "outputs": [
    {
     "data": {
      "text/html": [
       "<div>\n",
       "<style scoped>\n",
       "    .dataframe tbody tr th:only-of-type {\n",
       "        vertical-align: middle;\n",
       "    }\n",
       "\n",
       "    .dataframe tbody tr th {\n",
       "        vertical-align: top;\n",
       "    }\n",
       "\n",
       "    .dataframe thead th {\n",
       "        text-align: right;\n",
       "    }\n",
       "</style>\n",
       "<table border=\"1\" class=\"dataframe\">\n",
       "  <thead>\n",
       "    <tr style=\"text-align: right;\">\n",
       "      <th></th>\n",
       "      <th>6.1101,17.592</th>\n",
       "    </tr>\n",
       "  </thead>\n",
       "  <tbody>\n",
       "    <tr>\n",
       "      <th>0</th>\n",
       "      <td>5.5277,9.1302</td>\n",
       "    </tr>\n",
       "    <tr>\n",
       "      <th>1</th>\n",
       "      <td>8.5186,13.662</td>\n",
       "    </tr>\n",
       "    <tr>\n",
       "      <th>2</th>\n",
       "      <td>7.0032,11.854</td>\n",
       "    </tr>\n",
       "    <tr>\n",
       "      <th>3</th>\n",
       "      <td>5.8598,6.8233</td>\n",
       "    </tr>\n",
       "    <tr>\n",
       "      <th>4</th>\n",
       "      <td>8.3829,11.886</td>\n",
       "    </tr>\n",
       "  </tbody>\n",
       "</table>\n",
       "</div>"
      ],
      "text/plain": [
       "   6.1101,17.592\n",
       "0  5.5277,9.1302\n",
       "1  8.5186,13.662\n",
       "2  7.0032,11.854\n",
       "3  5.8598,6.8233\n",
       "4  8.3829,11.886"
      ]
     },
     "execution_count": 3,
     "metadata": {},
     "output_type": "execute_result"
    }
   ],
   "source": [
    "dataset.head()"
   ]
  },
  {
   "cell_type": "code",
   "execution_count": 4,
   "id": "54e04bbd",
   "metadata": {},
   "outputs": [
    {
     "name": "stdout",
     "output_type": "stream",
     "text": [
      "['5.5277,9.1302' '8.5186,13.662' '7.0032,11.854' '5.8598,6.8233'\n",
      " '8.3829,11.886' '7.4764,4.3483' '8.5781,12' '6.4862,6.5987'\n",
      " '5.0546,3.8166' '5.7107,3.2522' '14.164,15.505' '5.734,3.1551'\n",
      " '8.4084,7.2258' '5.6407,0.71618' '5.3794,3.5129' '6.3654,5.3048'\n",
      " '5.1301,0.56077' '6.4296,3.6518' '7.0708,5.3893' '6.1891,3.1386'\n",
      " '20.27,21.767' '5.4901,4.263' '6.3261,5.1875' '5.5649,3.0825'\n",
      " '18.945,22.638' '12.828,13.501' '10.957,7.0467' '13.176,14.692'\n",
      " '22.203,24.147' '5.2524,-1.22' '6.5894,5.9966' '9.2482,12.134'\n",
      " '5.8918,1.8495' '8.2111,6.5426' '7.9334,4.5623' '8.0959,4.1164'\n",
      " '5.6063,3.3928' '12.836,10.117' '6.3534,5.4974' '5.4069,0.55657'\n",
      " '6.8825,3.9115' '11.708,5.3854' '5.7737,2.4406' '7.8247,6.7318'\n",
      " '7.0931,1.0463' '5.0702,5.1337' '5.8014,1.844' '11.7,8.0043'\n",
      " '5.5416,1.0179' '7.5402,6.7504' '5.3077,1.8396' '7.4239,4.2885'\n",
      " '7.6031,4.9981' '6.3328,1.4233' '6.3589,-1.4211' '6.2742,2.4756'\n",
      " '5.6397,4.6042' '9.3102,3.9624' '9.4536,5.4141' '8.8254,5.1694'\n",
      " '5.1793,-0.74279' '21.279,17.929' '14.908,12.054' '18.959,17.054'\n",
      " '7.2182,4.8852' '8.2951,5.7442' '10.236,7.7754' '5.4994,1.0173'\n",
      " '20.341,20.992' '10.136,6.6799' '7.3345,4.0259' '6.0062,1.2784'\n",
      " '7.2259,3.3411' '5.0269,-2.6807' '6.5479,0.29678' '7.5386,3.8845'\n",
      " '5.0365,5.7014' '10.274,6.7526' '5.1077,2.0576' '5.7292,0.47953'\n",
      " '5.1884,0.20421' '6.3557,0.67861' '9.7687,7.5435' '6.5159,5.3436'\n",
      " '8.5172,4.2415' '9.1802,6.7981' '6.002,0.92695' '5.5204,0.152'\n",
      " '5.0594,2.8214' '5.7077,1.8451' '7.6366,4.2959' '5.8707,7.2029'\n",
      " '5.3054,1.9869' '8.2934,0.14454' '13.394,9.0551' '5.4369,0.61705']\n"
     ]
    }
   ],
   "source": [
    "print(z)"
   ]
  },
  {
   "cell_type": "markdown",
   "id": "51f8acb7",
   "metadata": {},
   "source": [
    "## Converting dataset in two variables x and y"
   ]
  },
  {
   "cell_type": "code",
   "execution_count": 5,
   "id": "eb59f204",
   "metadata": {},
   "outputs": [],
   "source": [
    "list1 = []\n",
    "x,y = [],[]\n",
    "for s in z:\n",
    "    list1.append(s.split(\",\"))\n",
    "for s in list1:\n",
    "    x.append(float(s[0]))\n",
    "    y.append(float(s[1]))"
   ]
  },
  {
   "cell_type": "code",
   "execution_count": 6,
   "id": "f0ba3a81",
   "metadata": {},
   "outputs": [
    {
     "name": "stdout",
     "output_type": "stream",
     "text": [
      "[5.5277, 8.5186, 7.0032, 5.8598, 8.3829, 7.4764, 8.5781, 6.4862, 5.0546, 5.7107, 14.164, 5.734, 8.4084, 5.6407, 5.3794, 6.3654, 5.1301, 6.4296, 7.0708, 6.1891, 20.27, 5.4901, 6.3261, 5.5649, 18.945, 12.828, 10.957, 13.176, 22.203, 5.2524, 6.5894, 9.2482, 5.8918, 8.2111, 7.9334, 8.0959, 5.6063, 12.836, 6.3534, 5.4069, 6.8825, 11.708, 5.7737, 7.8247, 7.0931, 5.0702, 5.8014, 11.7, 5.5416, 7.5402, 5.3077, 7.4239, 7.6031, 6.3328, 6.3589, 6.2742, 5.6397, 9.3102, 9.4536, 8.8254, 5.1793, 21.279, 14.908, 18.959, 7.2182, 8.2951, 10.236, 5.4994, 20.341, 10.136, 7.3345, 6.0062, 7.2259, 5.0269, 6.5479, 7.5386, 5.0365, 10.274, 5.1077, 5.7292, 5.1884, 6.3557, 9.7687, 6.5159, 8.5172, 9.1802, 6.002, 5.5204, 5.0594, 5.7077, 7.6366, 5.8707, 5.3054, 8.2934, 13.394, 5.4369]\n"
     ]
    }
   ],
   "source": [
    "print(x)"
   ]
  },
  {
   "cell_type": "code",
   "execution_count": 7,
   "id": "25d997db",
   "metadata": {},
   "outputs": [
    {
     "name": "stdout",
     "output_type": "stream",
     "text": [
      "[9.1302, 13.662, 11.854, 6.8233, 11.886, 4.3483, 12.0, 6.5987, 3.8166, 3.2522, 15.505, 3.1551, 7.2258, 0.71618, 3.5129, 5.3048, 0.56077, 3.6518, 5.3893, 3.1386, 21.767, 4.263, 5.1875, 3.0825, 22.638, 13.501, 7.0467, 14.692, 24.147, -1.22, 5.9966, 12.134, 1.8495, 6.5426, 4.5623, 4.1164, 3.3928, 10.117, 5.4974, 0.55657, 3.9115, 5.3854, 2.4406, 6.7318, 1.0463, 5.1337, 1.844, 8.0043, 1.0179, 6.7504, 1.8396, 4.2885, 4.9981, 1.4233, -1.4211, 2.4756, 4.6042, 3.9624, 5.4141, 5.1694, -0.74279, 17.929, 12.054, 17.054, 4.8852, 5.7442, 7.7754, 1.0173, 20.992, 6.6799, 4.0259, 1.2784, 3.3411, -2.6807, 0.29678, 3.8845, 5.7014, 6.7526, 2.0576, 0.47953, 0.20421, 0.67861, 7.5435, 5.3436, 4.2415, 6.7981, 0.92695, 0.152, 2.8214, 1.8451, 4.2959, 7.2029, 1.9869, 0.14454, 9.0551, 0.61705]\n"
     ]
    }
   ],
   "source": [
    "print(y)"
   ]
  },
  {
   "cell_type": "markdown",
   "id": "4e46e403",
   "metadata": {},
   "source": [
    "## Data Visualization"
   ]
  },
  {
   "cell_type": "code",
   "execution_count": 8,
   "id": "251bfd95",
   "metadata": {},
   "outputs": [
    {
     "data": {
      "image/png": "[encoded data removed]",
      "text/plain": [
       "<Figure size 432x288 with 1 Axes>"
      ]
     },
     "metadata": {
      "needs_background": "light"
     },
     "output_type": "display_data"
    }
   ],
   "source": [
    "plt.scatter(x,y)\n",
    "plt.xlabel(\"Population in 10000s\")\n",
    "plt.ylabel(\"Profit in 10000s\")\n",
    "plt.show()"
   ]
  },
  {
   "cell_type": "markdown",
   "id": "ce4ad634",
   "metadata": {},
   "source": [
    "## Cost Function"
   ]
  },
  {
   "cell_type": "code",
   "execution_count": 9,
   "id": "6f011178",
   "metadata": {},
   "outputs": [],
   "source": [
    "m = len(x)\n",
    "x = np.c_[np.ones(m),x]\n",
    "theta = np.zeros((2,1))\n",
    "alpha = 0.01"
   ]
  },
  {
   "cell_type": "code",
   "execution_count": 10,
   "id": "f6e8da67",
   "metadata": {},
   "outputs": [
    {
     "data": {
      "text/plain": [
       "(96, 2)"
      ]
     },
     "execution_count": 10,
     "metadata": {},
     "output_type": "execute_result"
    }
   ],
   "source": [
    "x.shape"
   ]
  },
  {
   "cell_type": "code",
   "execution_count": 11,
   "id": "f5045acc",
   "metadata": {},
   "outputs": [
    {
     "name": "stdout",
     "output_type": "stream",
     "text": [
      "96\n"
     ]
    }
   ],
   "source": [
    "print(m)"
   ]
  },
  {
   "cell_type": "markdown",
   "id": "291505b2",
   "metadata": {},
   "source": [
    "#### Here both theta 1 anf theta 2 are equal to 0"
   ]
  },
  {
   "cell_type": "code",
   "execution_count": 12,
   "id": "fda56d9b",
   "metadata": {},
   "outputs": [],
   "source": [
    "J = 0 # Cost Function\n",
    "s = 0\n",
    "for i in range(0,m):\n",
    "    s = s + (theta[0][0] + theta[1][0]*x[i][1] - y[i])**2\n",
    "J = (1/(2*m))*s"
   ]
  },
  {
   "cell_type": "code",
   "execution_count": 13,
   "id": "df0707b2",
   "metadata": {},
   "outputs": [
    {
     "name": "stdout",
     "output_type": "stream",
     "text": [
      "30.794957855345817\n"
     ]
    }
   ],
   "source": [
    "print(J)"
   ]
  },
  {
   "cell_type": "markdown",
   "id": "82c2e441",
   "metadata": {},
   "source": [
    "#### Changing the value of theta"
   ]
  },
  {
   "cell_type": "code",
   "execution_count": 14,
   "id": "515bf3bc",
   "metadata": {},
   "outputs": [],
   "source": [
    "theta1 = [[-1],\n",
    "         [2]]"
   ]
  },
  {
   "cell_type": "code",
   "execution_count": 15,
   "id": "65a98d54",
   "metadata": {},
   "outputs": [],
   "source": [
    "J1 = 0 # Cost Function\n",
    "s = 0\n",
    "for i in range(0,m):\n",
    "    s = s + (theta1[0][0] + theta1[1][0]*x[i][1] - y[i])**2\n",
    "J1 = (1/(2*m))*s"
   ]
  },
  {
   "cell_type": "code",
   "execution_count": 16,
   "id": "253e0709",
   "metadata": {},
   "outputs": [
    {
     "name": "stdout",
     "output_type": "stream",
     "text": [
      "54.596023180575\n"
     ]
    }
   ],
   "source": [
    "print(J1)"
   ]
  },
  {
   "cell_type": "markdown",
   "id": "53aef38b",
   "metadata": {},
   "source": [
    "## Gradient Descent"
   ]
  },
  {
   "cell_type": "code",
   "execution_count": 17,
   "id": "f356c44f",
   "metadata": {},
   "outputs": [],
   "source": [
    "iterations = 1500\n",
    "j_history = np.zeros(iterations)\n",
    "for i in range(0,iterations):\n",
    "    s = 0\n",
    "    t = 0\n",
    "    u = 0\n",
    "    for j in range(0,m):\n",
    "        s += theta[0][0] + theta[1][0]*x[j][1] - y[j]\n",
    "        t += (theta[0][0] + theta[1][0]*x[j][1] - y[j])*x[j][1]\n",
    "    theta[0][0] = theta[0][0] - (alpha/m)*s\n",
    "    theta[1][0] = theta[1][0] - (alpha/m)*t\n",
    "    \n",
    "    for k in range(0,m):\n",
    "        u += (theta[0][0] + theta[1][0]*x[k][1] - y[k])**2\n",
    "    j_history[i] = (1/(2*m))*u\n"
   ]
  },
  {
   "cell_type": "code",
   "execution_count": 18,
   "id": "cc924cf8",
   "metadata": {},
   "outputs": [
    {
     "name": "stdout",
     "output_type": "stream",
     "text": [
      "[5.90146939 5.14906372 5.12066681 ... 3.46704693 3.46701999 3.46699315]\n"
     ]
    }
   ],
   "source": [
    "print(j_history)"
   ]
  },
  {
   "cell_type": "code",
   "execution_count": 19,
   "id": "7651f17e",
   "metadata": {},
   "outputs": [
    {
     "name": "stdout",
     "output_type": "stream",
     "text": [
      "-3.926439005456633 1.1849957023502022\n"
     ]
    }
   ],
   "source": [
    "print(theta[0][0], theta[1][0])"
   ]
  },
  {
   "cell_type": "code",
   "execution_count": 20,
   "id": "b447ab84",
   "metadata": {},
   "outputs": [
    {
     "data": {
      "image/png": "[encoded data removed]",
      "text/plain": [
       "<Figure size 432x288 with 1 Axes>"
      ]
     },
     "metadata": {
      "needs_background": "light"
     },
     "output_type": "display_data"
    }
   ],
   "source": [
    "plt.scatter(x[:,1],y)\n",
    "plt.plot(x[:,1],np.matmul(x,theta))\n",
    "plt.xlabel(\"Population in 10,000s\")\n",
    "plt.ylabel(\"Profit in $10,000s\")\n",
    "plt.show()"
   ]
  },
  {
   "cell_type": "markdown",
   "id": "ec5fcbb4",
   "metadata": {},
   "source": [
    "# Linear Regression with Multiple Variables"
   ]
  },
  {
   "cell_type": "markdown",
   "id": "a2bae30b",
   "metadata": {},
   "source": [
    "## Loading the data"
   ]
  },
  {
   "cell_type": "code",
   "execution_count": 27,
   "id": "4cef99dc",
   "metadata": {},
   "outputs": [
    {
     "data": {
      "text/html": [
       "<div>\n",
       "<style scoped>\n",
       "    .dataframe tbody tr th:only-of-type {\n",
       "        vertical-align: middle;\n",
       "    }\n",
       "\n",
       "    .dataframe tbody tr th {\n",
       "        vertical-align: top;\n",
       "    }\n",
       "\n",
       "    .dataframe thead th {\n",
       "        text-align: right;\n",
       "    }\n",
       "</style>\n",
       "<table border=\"1\" class=\"dataframe\">\n",
       "  <thead>\n",
       "    <tr style=\"text-align: right;\">\n",
       "      <th></th>\n",
       "      <th>2104,3,399900</th>\n",
       "    </tr>\n",
       "  </thead>\n",
       "  <tbody>\n",
       "    <tr>\n",
       "      <th>0</th>\n",
       "      <td>1600,3,329900</td>\n",
       "    </tr>\n",
       "    <tr>\n",
       "      <th>1</th>\n",
       "      <td>2400,3,369000</td>\n",
       "    </tr>\n",
       "    <tr>\n",
       "      <th>2</th>\n",
       "      <td>1416,2,232000</td>\n",
       "    </tr>\n",
       "    <tr>\n",
       "      <th>3</th>\n",
       "      <td>3000,4,539900</td>\n",
       "    </tr>\n",
       "    <tr>\n",
       "      <th>4</th>\n",
       "      <td>1985,4,299900</td>\n",
       "    </tr>\n",
       "  </tbody>\n",
       "</table>\n",
       "</div>"
      ],
      "text/plain": [
       "   2104,3,399900\n",
       "0  1600,3,329900\n",
       "1  2400,3,369000\n",
       "2  1416,2,232000\n",
       "3  3000,4,539900\n",
       "4  1985,4,299900"
      ]
     },
     "execution_count": 27,
     "metadata": {},
     "output_type": "execute_result"
    }
   ],
   "source": [
    "dataset2 = pd.read_csv(\"ex1data2.csv\")\n",
    "z = dataset2.iloc[:,-1].values\n",
    "dataset2.head()"
   ]
  },
  {
   "cell_type": "code",
   "execution_count": 28,
   "id": "5aedc7df",
   "metadata": {},
   "outputs": [
    {
     "name": "stdout",
     "output_type": "stream",
     "text": [
      "['1600,3,329900' '2400,3,369000' '1416,2,232000' '3000,4,539900'\n",
      " '1985,4,299900' '1534,3,314900' '1427,3,198999' '1380,3,212000'\n",
      " '1494,3,242500' '1940,4,239999' '2000,3,347000' '1890,3,329999'\n",
      " '4478,5,699900' '1268,3,259900' '2300,4,449900' '1320,2,299900'\n",
      " '1236,3,199900' '2609,4,499998' '3031,4,599000' '1767,3,252900'\n",
      " '1888,2,255000' '1604,3,242900' '1962,4,259900' '3890,3,573900'\n",
      " '1100,3,249900' '1458,3,464500' '2526,3,469000' '2200,3,475000'\n",
      " '2637,3,299900' '1839,2,349900' '1000,1,169900' '2040,4,314900'\n",
      " '3137,3,579900' '1811,4,285900' '1437,3,249900' '1239,3,229900'\n",
      " '2132,4,345000' '4215,4,549000' '2162,4,287000' '1664,2,368500'\n",
      " '2238,3,329900' '2567,4,314000' '1200,3,299000' '852,2,179900'\n",
      " '1852,4,299900' '1203,3,239500']\n"
     ]
    }
   ],
   "source": [
    "print(z)"
   ]
  },
  {
   "cell_type": "markdown",
   "id": "3d343083",
   "metadata": {},
   "source": [
    "## Converting dataset into variable x and y"
   ]
  },
  {
   "cell_type": "code",
   "execution_count": 36,
   "id": "cc1d5c08",
   "metadata": {},
   "outputs": [],
   "source": [
    "list1 = []\n",
    "x,y = [],[]\n",
    "for s in z:\n",
    "    list1.append(s.split(\",\"))\n",
    "for s in list1:\n",
    "    lst = []\n",
    "    lst.append(float(s[0]))\n",
    "    lst.append(float(s[1]))\n",
    "    x.append(lst)\n",
    "    y.append(float(s[2]))"
   ]
  },
  {
   "cell_type": "code",
   "execution_count": 40,
   "id": "4bd67db6",
   "metadata": {},
   "outputs": [
    {
     "name": "stdout",
     "output_type": "stream",
     "text": [
      "[[1600.0, 3.0], [2400.0, 3.0], [1416.0, 2.0], [3000.0, 4.0], [1985.0, 4.0], [1534.0, 3.0], [1427.0, 3.0], [1380.0, 3.0], [1494.0, 3.0], [1940.0, 4.0], [2000.0, 3.0], [1890.0, 3.0], [4478.0, 5.0], [1268.0, 3.0], [2300.0, 4.0], [1320.0, 2.0], [1236.0, 3.0], [2609.0, 4.0], [3031.0, 4.0], [1767.0, 3.0], [1888.0, 2.0], [1604.0, 3.0], [1962.0, 4.0], [3890.0, 3.0], [1100.0, 3.0], [1458.0, 3.0], [2526.0, 3.0], [2200.0, 3.0], [2637.0, 3.0], [1839.0, 2.0], [1000.0, 1.0], [2040.0, 4.0], [3137.0, 3.0], [1811.0, 4.0], [1437.0, 3.0], [1239.0, 3.0], [2132.0, 4.0], [4215.0, 4.0], [2162.0, 4.0], [1664.0, 2.0], [2238.0, 3.0], [2567.0, 4.0], [1200.0, 3.0], [852.0, 2.0], [1852.0, 4.0], [1203.0, 3.0]]\n"
     ]
    }
   ],
   "source": [
    "print(x)"
   ]
  },
  {
   "cell_type": "code",
   "execution_count": 38,
   "id": "91cad9b0",
   "metadata": {},
   "outputs": [
    {
     "name": "stdout",
     "output_type": "stream",
     "text": [
      "[329900.0, 369000.0, 232000.0, 539900.0, 299900.0, 314900.0, 198999.0, 212000.0, 242500.0, 239999.0, 347000.0, 329999.0, 699900.0, 259900.0, 449900.0, 299900.0, 199900.0, 499998.0, 599000.0, 252900.0, 255000.0, 242900.0, 259900.0, 573900.0, 249900.0, 464500.0, 469000.0, 475000.0, 299900.0, 349900.0, 169900.0, 314900.0, 579900.0, 285900.0, 249900.0, 229900.0, 345000.0, 549000.0, 287000.0, 368500.0, 329900.0, 314000.0, 299000.0, 179900.0, 299900.0, 239500.0]\n"
     ]
    }
   ],
   "source": [
    "print(y)"
   ]
  },
  {
   "cell_type": "markdown",
   "id": "a9503ec9",
   "metadata": {},
   "source": [
    "## Feature Scaling"
   ]
  },
  {
   "cell_type": "code",
   "execution_count": 41,
   "id": "2630dedd",
   "metadata": {},
   "outputs": [],
   "source": [
    "house_size = []\n",
    "bedrooms = []\n",
    "for s in x:\n",
    "    house_size.append(s[0])\n",
    "    bedrooms.append(s[1])\n"
   ]
  },
  {
   "cell_type": "code",
   "execution_count": 47,
   "id": "a97725c4",
   "metadata": {},
   "outputs": [],
   "source": [
    "mean_house_size = np.mean(house_size)\n",
    "mean_bedrooms = np.mean(bedrooms)\n",
    "sd_house_size = np.std(house_size)\n",
    "sd_bedrooms = np.std(bedrooms)"
   ]
  },
  {
   "cell_type": "code",
   "execution_count": 48,
   "id": "e8d08caa",
   "metadata": {},
   "outputs": [
    {
     "name": "stdout",
     "output_type": "stream",
     "text": [
      "mean_house_size = 1998.4347826086957 mean_bedrooms = 3.1739130434782608\n"
     ]
    }
   ],
   "source": [
    "print(\"mean_house_size =\",mean_house_size,\"mean_bedrooms =\",mean_bedrooms)"
   ]
  },
  {
   "cell_type": "code",
   "execution_count": 49,
   "id": "78edf80e",
   "metadata": {},
   "outputs": [
    {
     "name": "stdout",
     "output_type": "stream",
     "text": [
      "sd_house_size = 794.5531599632346 sd_bedrooms = 0.7605589428059087\n"
     ]
    }
   ],
   "source": [
    "print(\"sd_house_size =\",sd_house_size,\"sd_bedrooms =\",sd_bedrooms)"
   ]
  },
  {
   "cell_type": "code",
   "execution_count": 94,
   "id": "00b331ff",
   "metadata": {},
   "outputs": [
    {
     "name": "stdout",
     "output_type": "stream",
     "text": [
      "[[-0.5014576779571703, -0.22866478019001163], [0.5053975462257118, -0.22866478019001163], [-0.7330343795192332, -1.5434872662825794], [1.2605389643628735, 1.0861577059025562], [-0.016908601319158296, 1.0861577059025562], [-0.5845232339522581, -0.22866478019001163], [-0.7191901201867186, -0.22866478019001163], [-0.7783428646074629, -0.22866478019001163], [-0.6348659951614022, -0.22866478019001163], [-0.07354420767944542, 1.0861577059025562], [0.0019699341342707443, -0.22866478019001163], [-0.13647265919087553, -0.22866478019001163], [3.120703991040748, 2.400980191995124], [-0.9193025959930664, -0.22866478019001163], [0.3795406432028515, 1.0861577059025562], [-0.853857006421179, -1.5434872662825794], [-0.9595768049603817, -0.22866478019001163], [0.7684384735434897, 1.0861577059025562], [1.2995546042999602, 1.0861577059025562], [-0.29127664990899366, -0.22866478019001163], [-0.13898979725133276, -1.5434872662825794], [-0.4964234018362559, -0.22866478019001163], [-0.045855689014416154, 1.0861577059025562], [2.3806654012663295, -0.22866478019001163], [-1.1307421930714716, -0.22866478019001163], [-0.6801744802496319, -0.22866478019001163], [0.6639772440345157, -0.22866478019001163], [0.2536837401799913, -0.22866478019001163], [0.8036784063898906, -0.22866478019001163], [-0.2006596797325343, -1.5434872662825794], [-1.2565990960943318, -2.8583097523751473], [0.05231269534341485, 1.0861577059025562], [1.432962921504192, -0.22866478019001163], [-0.23589961257893516, 1.0861577059025562], [-0.7066044298844325, -0.22866478019001163], [-0.9558010978696959, -0.22866478019001163], [0.1681010461244463, 1.0861577059025562], [2.7897003360906254, 1.0861577059025562], [0.20585811703130438, 1.0861577059025562], [-0.42090926002253976, -1.5434872662825794], [0.30150936332867817, -0.22866478019001163], [0.7155785742738885, 1.0861577059025562], [-1.0048852900486114, -0.22866478019001163], [-1.442867312568165, -1.5434872662825794], [-0.18429828233956244, 1.0861577059025562], [-1.0011095829579255, -0.22866478019001163]]\n"
     ]
    }
   ],
   "source": [
    "new_x = []\n",
    "for s in x:\n",
    "    lst = []\n",
    "    hs = (s[0] - mean_house_size)/sd_house_size\n",
    "    bd = (s[1] - mean_bedrooms)/sd_bedrooms\n",
    "    lst.append(hs)\n",
    "    lst.append(bd)\n",
    "    new_x.append(lst)\n",
    "print(new_x)"
   ]
  },
  {
   "cell_type": "code",
   "execution_count": 95,
   "id": "90ee43a9",
   "metadata": {},
   "outputs": [],
   "source": [
    "new_y = []\n",
    "for s in y:\n",
    "    new_y.append((s-np.mean(y))/np.std(y))"
   ]
  },
  {
   "cell_type": "code",
   "execution_count": 96,
   "id": "7e3f49fc",
   "metadata": {},
   "outputs": [
    {
     "name": "stdout",
     "output_type": "stream",
     "text": [
      "[-0.07391815529455438, 0.23957102546160977, -0.858843751100909, 1.6097833270275548, -0.31444693848342714, -0.19418254688899075, -1.1234334302347755, -1.0191962732268243, -0.7746586769848036, -0.7947107598766493, 0.06318325112310308, -0.0731244103100311, 2.8926035040348763, -0.6351519827352574, 0.8881969774609366, -0.31444693848342714, -1.1162095491130029, 1.2898640101341414, 2.083625029909634, -0.6912753654793278, -0.6744383506561067, -0.7714516265422853, -0.6351519827352574, 1.8823826146416105, -0.715328243798215, 1.0052543186128546, 1.0413336360911856, 1.08943939272896, -0.31444693848342714, 0.08643436683136078, -1.3567383323018756, -0.19418254688899075, 1.9304883712793852, -0.42669370397156775, -0.715328243798215, -0.8756807659241301, 0.047147998910511565, 1.6827437245948462, -0.4178743152546424, 0.2355622124084619, -0.07391815529455438, -0.20139841038465692, -0.3216628019790933, -1.276562071238918, -0.31444693848342714, -0.7987115553036909]\n"
     ]
    }
   ],
   "source": [
    "print(new_y)"
   ]
  },
  {
   "cell_type": "markdown",
   "id": "398c468d",
   "metadata": {},
   "source": [
    "## Cost Function"
   ]
  },
  {
   "cell_type": "code",
   "execution_count": 97,
   "id": "080a209b",
   "metadata": {},
   "outputs": [],
   "source": [
    "m = len(new_x)\n",
    "new_x = np.c_[np.ones(m),new_x]\n",
    "theta = np.zeros((3,1))\n",
    "alpha = 0.1\n",
    "iterations = 400"
   ]
  },
  {
   "cell_type": "code",
   "execution_count": 98,
   "id": "1fb4c58a",
   "metadata": {},
   "outputs": [
    {
     "data": {
      "text/plain": [
       "(array([[ 1.00000000e+00, -5.01457678e-01, -2.28664780e-01],\n",
       "        [ 1.00000000e+00,  5.05397546e-01, -2.28664780e-01],\n",
       "        [ 1.00000000e+00, -7.33034380e-01, -1.54348727e+00],\n",
       "        [ 1.00000000e+00,  1.26053896e+00,  1.08615771e+00],\n",
       "        [ 1.00000000e+00, -1.69086013e-02,  1.08615771e+00],\n",
       "        [ 1.00000000e+00, -5.84523234e-01, -2.28664780e-01],\n",
       "        [ 1.00000000e+00, -7.19190120e-01, -2.28664780e-01],\n",
       "        [ 1.00000000e+00, -7.78342865e-01, -2.28664780e-01],\n",
       "        [ 1.00000000e+00, -6.34865995e-01, -2.28664780e-01],\n",
       "        [ 1.00000000e+00, -7.35442077e-02,  1.08615771e+00],\n",
       "        [ 1.00000000e+00,  1.96993413e-03, -2.28664780e-01],\n",
       "        [ 1.00000000e+00, -1.36472659e-01, -2.28664780e-01],\n",
       "        [ 1.00000000e+00,  3.12070399e+00,  2.40098019e+00],\n",
       "        [ 1.00000000e+00, -9.19302596e-01, -2.28664780e-01],\n",
       "        [ 1.00000000e+00,  3.79540643e-01,  1.08615771e+00],\n",
       "        [ 1.00000000e+00, -8.53857006e-01, -1.54348727e+00],\n",
       "        [ 1.00000000e+00, -9.59576805e-01, -2.28664780e-01],\n",
       "        [ 1.00000000e+00,  7.68438474e-01,  1.08615771e+00],\n",
       "        [ 1.00000000e+00,  1.29955460e+00,  1.08615771e+00],\n",
       "        [ 1.00000000e+00, -2.91276650e-01, -2.28664780e-01],\n",
       "        [ 1.00000000e+00, -1.38989797e-01, -1.54348727e+00],\n",
       "        [ 1.00000000e+00, -4.96423402e-01, -2.28664780e-01],\n",
       "        [ 1.00000000e+00, -4.58556890e-02,  1.08615771e+00],\n",
       "        [ 1.00000000e+00,  2.38066540e+00, -2.28664780e-01],\n",
       "        [ 1.00000000e+00, -1.13074219e+00, -2.28664780e-01],\n",
       "        [ 1.00000000e+00, -6.80174480e-01, -2.28664780e-01],\n",
       "        [ 1.00000000e+00,  6.63977244e-01, -2.28664780e-01],\n",
       "        [ 1.00000000e+00,  2.53683740e-01, -2.28664780e-01],\n",
       "        [ 1.00000000e+00,  8.03678406e-01, -2.28664780e-01],\n",
       "        [ 1.00000000e+00, -2.00659680e-01, -1.54348727e+00],\n",
       "        [ 1.00000000e+00, -1.25659910e+00, -2.85830975e+00],\n",
       "        [ 1.00000000e+00,  5.23126953e-02,  1.08615771e+00],\n",
       "        [ 1.00000000e+00,  1.43296292e+00, -2.28664780e-01],\n",
       "        [ 1.00000000e+00, -2.35899613e-01,  1.08615771e+00],\n",
       "        [ 1.00000000e+00, -7.06604430e-01, -2.28664780e-01],\n",
       "        [ 1.00000000e+00, -9.55801098e-01, -2.28664780e-01],\n",
       "        [ 1.00000000e+00,  1.68101046e-01,  1.08615771e+00],\n",
       "        [ 1.00000000e+00,  2.78970034e+00,  1.08615771e+00],\n",
       "        [ 1.00000000e+00,  2.05858117e-01,  1.08615771e+00],\n",
       "        [ 1.00000000e+00, -4.20909260e-01, -1.54348727e+00],\n",
       "        [ 1.00000000e+00,  3.01509363e-01, -2.28664780e-01],\n",
       "        [ 1.00000000e+00,  7.15578574e-01,  1.08615771e+00],\n",
       "        [ 1.00000000e+00, -1.00488529e+00, -2.28664780e-01],\n",
       "        [ 1.00000000e+00, -1.44286731e+00, -1.54348727e+00],\n",
       "        [ 1.00000000e+00, -1.84298282e-01,  1.08615771e+00],\n",
       "        [ 1.00000000e+00, -1.00110958e+00, -2.28664780e-01]]),\n",
       " array([[0.],\n",
       "        [0.],\n",
       "        [0.]]))"
      ]
     },
     "execution_count": 98,
     "metadata": {},
     "output_type": "execute_result"
    }
   ],
   "source": [
    "new_x,theta"
   ]
  },
  {
   "cell_type": "code",
   "execution_count": 99,
   "id": "360a41bf",
   "metadata": {},
   "outputs": [],
   "source": [
    "J_multi = 0\n",
    "s=0\n",
    "for i in range(0,m):\n",
    "    s += (theta[0][0] + theta[1][0]*new_x[i][1] + theta[2][0]*new_x[i][2] - new_y[i])**2\n",
    "J_multi = (1/(2*m))*s"
   ]
  },
  {
   "cell_type": "code",
   "execution_count": 100,
   "id": "8316ebac",
   "metadata": {},
   "outputs": [
    {
     "name": "stdout",
     "output_type": "stream",
     "text": [
      "0.4999999999999999\n"
     ]
    }
   ],
   "source": [
    "print(J_multi)"
   ]
  },
  {
   "cell_type": "code",
   "execution_count": 101,
   "id": "13abad4f",
   "metadata": {},
   "outputs": [],
   "source": [
    "j_multi_history = np.zeros(iterations)\n",
    "for i in range(iterations):\n",
    "    s,t,u,v=0,0,0,0\n",
    "    for j in range(m):\n",
    "        s += theta[0][0] + theta[1][0]*new_x[j][1] + theta[2][0]*new_x[j][2] - new_y[j]\n",
    "        t += (theta[0][0] + theta[1][0]*new_x[j][1] + theta[2][0]*new_x[j][2] - new_y[j])*new_x[j][1]\n",
    "        u += (theta[0][0] + theta[1][0]*new_x[j][1] + theta[2][0]*new_x[j][2] - new_y[j])*new_x[j][2]\n",
    "    theta[0][0] = theta[0][0] - (alpha/m)*s\n",
    "    theta[1][0] = theta[1][0] - (alpha/m)*t\n",
    "    theta[2][0] = theta[2][0] - (alpha/m)*u\n",
    "    \n",
    "    for j in range(m):\n",
    "        v += (theta[0][0] + theta[1][0]*new_x[j][1] + theta[2][0]*new_x[j][2] - new_y[j])**2\n",
    "    j_multi_history[i] = (1/(2*m))*v\n",
    "    "
   ]
  },
  {
   "cell_type": "code",
   "execution_count": 102,
   "id": "843aa433",
   "metadata": {},
   "outputs": [
    {
     "name": "stdout",
     "output_type": "stream",
     "text": [
      "[0.41364687 0.35048967 0.30399426 0.26949502 0.24365809 0.22409901\n",
      " 0.20911028 0.19746737 0.18829038 0.18094555 0.17497502 0.17004672\n",
      " 0.16591874 0.16241381 0.15940111 0.15678332 0.15448733 0.15245757\n",
      " 0.1506513  0.14903517 0.14758276 0.14627285 0.14508806 0.14401402\n",
      " 0.14303863 0.14215156 0.14134392 0.14060794 0.13993681 0.13932449\n",
      " 0.13876558 0.13825526 0.13778918 0.13736343 0.13697445 0.13661902\n",
      " 0.13629423 0.1359974  0.13572611 0.13547816 0.13525152 0.13504437\n",
      " 0.13485502 0.13468194 0.13452372 0.1343791  0.1342469  0.13412605\n",
      " 0.13401559 0.13391461 0.1338223  0.13373791 0.13366078 0.13359027\n",
      " 0.13352581 0.13346689 0.13341302 0.13336379 0.13331878 0.13327763\n",
      " 0.13324002 0.13320564 0.13317421 0.13314548 0.13311921 0.13309521\n",
      " 0.13307326 0.1330532  0.13303486 0.13301809 0.13300276 0.13298876\n",
      " 0.13297595 0.13296424 0.13295354 0.13294376 0.13293481 0.13292664\n",
      " 0.13291917 0.13291234 0.13290609 0.13290038 0.13289516 0.13289039\n",
      " 0.13288603 0.13288205 0.1328784  0.13287507 0.13287203 0.13286924\n",
      " 0.1328667  0.13286437 0.13286225 0.1328603  0.13285853 0.1328569\n",
      " 0.13285542 0.13285406 0.13285282 0.13285168 0.13285065 0.1328497\n",
      " 0.13284883 0.13284804 0.13284732 0.13284666 0.13284605 0.1328455\n",
      " 0.13284499 0.13284453 0.13284411 0.13284372 0.13284337 0.13284305\n",
      " 0.13284275 0.13284248 0.13284223 0.13284201 0.1328418  0.13284162\n",
      " 0.13284144 0.13284129 0.13284114 0.13284101 0.13284089 0.13284078\n",
      " 0.13284068 0.13284059 0.1328405  0.13284043 0.13284036 0.13284029\n",
      " 0.13284023 0.13284018 0.13284013 0.13284009 0.13284005 0.13284001\n",
      " 0.13283997 0.13283994 0.13283991 0.13283989 0.13283986 0.13283984\n",
      " 0.13283982 0.1328398  0.13283979 0.13283977 0.13283976 0.13283975\n",
      " 0.13283973 0.13283972 0.13283971 0.13283971 0.1328397  0.13283969\n",
      " 0.13283968 0.13283968 0.13283967 0.13283967 0.13283966 0.13283966\n",
      " 0.13283965 0.13283965 0.13283965 0.13283964 0.13283964 0.13283964\n",
      " 0.13283964 0.13283963 0.13283963 0.13283963 0.13283963 0.13283963\n",
      " 0.13283962 0.13283962 0.13283962 0.13283962 0.13283962 0.13283962\n",
      " 0.13283962 0.13283962 0.13283962 0.13283962 0.13283962 0.13283962\n",
      " 0.13283962 0.13283961 0.13283961 0.13283961 0.13283961 0.13283961\n",
      " 0.13283961 0.13283961 0.13283961 0.13283961 0.13283961 0.13283961\n",
      " 0.13283961 0.13283961 0.13283961 0.13283961 0.13283961 0.13283961\n",
      " 0.13283961 0.13283961 0.13283961 0.13283961 0.13283961 0.13283961\n",
      " 0.13283961 0.13283961 0.13283961 0.13283961 0.13283961 0.13283961\n",
      " 0.13283961 0.13283961 0.13283961 0.13283961 0.13283961 0.13283961\n",
      " 0.13283961 0.13283961 0.13283961 0.13283961 0.13283961 0.13283961\n",
      " 0.13283961 0.13283961 0.13283961 0.13283961 0.13283961 0.13283961\n",
      " 0.13283961 0.13283961 0.13283961 0.13283961 0.13283961 0.13283961\n",
      " 0.13283961 0.13283961 0.13283961 0.13283961 0.13283961 0.13283961\n",
      " 0.13283961 0.13283961 0.13283961 0.13283961 0.13283961 0.13283961\n",
      " 0.13283961 0.13283961 0.13283961 0.13283961 0.13283961 0.13283961\n",
      " 0.13283961 0.13283961 0.13283961 0.13283961 0.13283961 0.13283961\n",
      " 0.13283961 0.13283961 0.13283961 0.13283961 0.13283961 0.13283961\n",
      " 0.13283961 0.13283961 0.13283961 0.13283961 0.13283961 0.13283961\n",
      " 0.13283961 0.13283961 0.13283961 0.13283961 0.13283961 0.13283961\n",
      " 0.13283961 0.13283961 0.13283961 0.13283961 0.13283961 0.13283961\n",
      " 0.13283961 0.13283961 0.13283961 0.13283961 0.13283961 0.13283961\n",
      " 0.13283961 0.13283961 0.13283961 0.13283961 0.13283961 0.13283961\n",
      " 0.13283961 0.13283961 0.13283961 0.13283961 0.13283961 0.13283961\n",
      " 0.13283961 0.13283961 0.13283961 0.13283961 0.13283961 0.13283961\n",
      " 0.13283961 0.13283961 0.13283961 0.13283961 0.13283961 0.13283961\n",
      " 0.13283961 0.13283961 0.13283961 0.13283961 0.13283961 0.13283961\n",
      " 0.13283961 0.13283961 0.13283961 0.13283961 0.13283961 0.13283961\n",
      " 0.13283961 0.13283961 0.13283961 0.13283961 0.13283961 0.13283961\n",
      " 0.13283961 0.13283961 0.13283961 0.13283961 0.13283961 0.13283961\n",
      " 0.13283961 0.13283961 0.13283961 0.13283961 0.13283961 0.13283961\n",
      " 0.13283961 0.13283961 0.13283961 0.13283961 0.13283961 0.13283961\n",
      " 0.13283961 0.13283961 0.13283961 0.13283961 0.13283961 0.13283961\n",
      " 0.13283961 0.13283961 0.13283961 0.13283961 0.13283961 0.13283961\n",
      " 0.13283961 0.13283961 0.13283961 0.13283961 0.13283961 0.13283961\n",
      " 0.13283961 0.13283961 0.13283961 0.13283961 0.13283961 0.13283961\n",
      " 0.13283961 0.13283961 0.13283961 0.13283961 0.13283961 0.13283961\n",
      " 0.13283961 0.13283961 0.13283961 0.13283961 0.13283961 0.13283961\n",
      " 0.13283961 0.13283961 0.13283961 0.13283961 0.13283961 0.13283961\n",
      " 0.13283961 0.13283961 0.13283961 0.13283961]\n"
     ]
    }
   ],
   "source": [
    "print(j_multi_history)"
   ]
  },
  {
   "cell_type": "code",
   "execution_count": 103,
   "id": "b5bec455",
   "metadata": {},
   "outputs": [
    {
     "name": "stdout",
     "output_type": "stream",
     "text": [
      "8.646465186346995e-17 0.8839346250492243 -0.04991955034567862\n"
     ]
    }
   ],
   "source": [
    "print(theta[0][0],theta[1][0],theta[2][0])"
   ]
  },
  {
   "cell_type": "markdown",
   "id": "f39c0c34",
   "metadata": {},
   "source": [
    "## Making a prediction"
   ]
  },
  {
   "cell_type": "code",
   "execution_count": 105,
   "id": "495e06b8",
   "metadata": {},
   "outputs": [
    {
     "name": "stdout",
     "output_type": "stream",
     "text": [
      "292195.8011458614\n"
     ]
    }
   ],
   "source": [
    "# Estimate the price of a 1650 sq-ft, 3 br house\n",
    "y_pred = theta[0][0] + theta[1][0]*((1650-mean_house_size)/sd_house_size) + theta[2][0]*((3-mean_bedrooms)/sd_bedrooms)\n",
    "print(y_pred*np.std(y) + np.mean(y))"
   ]
  },
  {
   "cell_type": "code",
   "execution_count": 108,
   "id": "d06f67b4",
   "metadata": {},
   "outputs": [
    {
     "data": {
      "image/png": "[encoded data removed]",
      "text/plain": [
       "<Figure size 432x288 with 1 Axes>"
      ]
     },
     "metadata": {
      "needs_background": "light"
     },
     "output_type": "display_data"
    }
   ],
   "source": [
    "plt.plot(np.arange(iterations),j_multi_history)\n",
    "plt.xlabel(\"Iterations\")\n",
    "plt.ylabel(\"J(theta)\")\n",
    "plt.show()"
   ]
  }
 ],
 "metadata": {
  "kernelspec": {
   "display_name": "Python 3 (ipykernel)",
   "language": "python",
   "name": "python3"
  },
  "language_info": {
   "codemirror_mode": {
    "name": "ipython",
    "version": 3
   },
   "file_extension": ".py",
   "mimetype": "text/x-python",
   "name": "python",
   "nbconvert_exporter": "python",
   "pygments_lexer": "ipython3",
   "version": "3.9.4"
  }
 },
 "nbformat": 4,
 "nbformat_minor": 5
}
