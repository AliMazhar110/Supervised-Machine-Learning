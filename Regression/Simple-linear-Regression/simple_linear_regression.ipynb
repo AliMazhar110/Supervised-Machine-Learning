{
 "cells": [
  {
   "cell_type": "markdown",
   "metadata": {},
   "source": [
    "# Simple Linear Regression"
   ]
  },
  {
   "cell_type": "code",
   "execution_count": 1,
   "metadata": {},
   "outputs": [],
   "source": [
    "import pandas as pd\n",
    "import numpy as np\n",
    "import matplotlib.pyplot as plt"
   ]
  },
  {
   "cell_type": "code",
   "execution_count": 2,
   "metadata": {},
   "outputs": [
    {
     "data": {
      "text/html": [
       "<div>\n",
       "<style scoped>\n",
       "    .dataframe tbody tr th:only-of-type {\n",
       "        vertical-align: middle;\n",
       "    }\n",
       "\n",
       "    .dataframe tbody tr th {\n",
       "        vertical-align: top;\n",
       "    }\n",
       "\n",
       "    .dataframe thead th {\n",
       "        text-align: right;\n",
       "    }\n",
       "</style>\n",
       "<table border=\"1\" class=\"dataframe\">\n",
       "  <thead>\n",
       "    <tr style=\"text-align: right;\">\n",
       "      <th></th>\n",
       "      <th>Population,Profit</th>\n",
       "    </tr>\n",
       "  </thead>\n",
       "  <tbody>\n",
       "    <tr>\n",
       "      <th>0</th>\n",
       "      <td>6.1101,17.592</td>\n",
       "    </tr>\n",
       "    <tr>\n",
       "      <th>1</th>\n",
       "      <td>5.5277,9.1302</td>\n",
       "    </tr>\n",
       "    <tr>\n",
       "      <th>2</th>\n",
       "      <td>8.5186,13.662</td>\n",
       "    </tr>\n",
       "    <tr>\n",
       "      <th>3</th>\n",
       "      <td>7.0032,11.854</td>\n",
       "    </tr>\n",
       "    <tr>\n",
       "      <th>4</th>\n",
       "      <td>5.8598,6.8233</td>\n",
       "    </tr>\n",
       "  </tbody>\n",
       "</table>\n",
       "</div>"
      ],
      "text/plain": [
       "  Population,Profit\n",
       "0     6.1101,17.592\n",
       "1     5.5277,9.1302\n",
       "2     8.5186,13.662\n",
       "3     7.0032,11.854\n",
       "4     5.8598,6.8233"
      ]
     },
     "execution_count": 2,
     "metadata": {},
     "output_type": "execute_result"
    }
   ],
   "source": [
    "data = pd.read_csv(\"ex1data1.csv\")\n",
    "data.head()"
   ]
  },
  {
   "cell_type": "code",
   "execution_count": 3,
   "metadata": {},
   "outputs": [
    {
     "data": {
      "text/plain": [
       "Population,Profit    object\n",
       "dtype: object"
      ]
     },
     "execution_count": 3,
     "metadata": {},
     "output_type": "execute_result"
    }
   ],
   "source": [
    "data.dtypes"
   ]
  },
  {
   "cell_type": "code",
   "execution_count": 4,
   "metadata": {},
   "outputs": [
    {
     "name": "stdout",
     "output_type": "stream",
     "text": [
      "['6.1101,17.592' '5.5277,9.1302' '8.5186,13.662' '7.0032,11.854'\n",
      " '5.8598,6.8233' '8.3829,11.886' '7.4764,4.3483' '8.5781,12'\n",
      " '6.4862,6.5987' '5.0546,3.8166' '5.7107,3.2522' '14.164,15.505'\n",
      " '5.734,3.1551' '8.4084,7.2258' '5.6407,0.71618' '5.3794,3.5129'\n",
      " '6.3654,5.3048' '5.1301,0.56077' '6.4296,3.6518' '7.0708,5.3893'\n",
      " '6.1891,3.1386' '20.27,21.767' '5.4901,4.263' '6.3261,5.1875'\n",
      " '5.5649,3.0825' '18.945,22.638' '12.828,13.501' '10.957,7.0467'\n",
      " '13.176,14.692' '22.203,24.147' '5.2524,-1.22' '6.5894,5.9966'\n",
      " '9.2482,12.134' '5.8918,1.8495' '8.2111,6.5426' '7.9334,4.5623'\n",
      " '8.0959,4.1164' '5.6063,3.3928' '12.836,10.117' '6.3534,5.4974'\n",
      " '5.4069,0.55657' '6.8825,3.9115' '11.708,5.3854' '5.7737,2.4406'\n",
      " '7.8247,6.7318' '7.0931,1.0463' '5.0702,5.1337' '5.8014,1.844'\n",
      " '11.7,8.0043' '5.5416,1.0179' '7.5402,6.7504' '5.3077,1.8396'\n",
      " '7.4239,4.2885' '7.6031,4.9981' '6.3328,1.4233' '6.3589,-1.4211'\n",
      " '6.2742,2.4756' '5.6397,4.6042' '9.3102,3.9624' '9.4536,5.4141'\n",
      " '8.8254,5.1694' '5.1793,-0.74279' '21.279,17.929' '14.908,12.054'\n",
      " '18.959,17.054' '7.2182,4.8852' '8.2951,5.7442' '10.236,7.7754'\n",
      " '5.4994,1.0173' '20.341,20.992' '10.136,6.6799' '7.3345,4.0259'\n",
      " '6.0062,1.2784' '7.2259,3.3411' '5.0269,-2.6807' '6.5479,0.29678'\n",
      " '7.5386,3.8845' '5.0365,5.7014' '10.274,6.7526' '5.1077,2.0576'\n",
      " '5.7292,0.47953' '5.1884,0.20421' '6.3557,0.67861' '9.7687,7.5435'\n",
      " '6.5159,5.3436' '8.5172,4.2415' '9.1802,6.7981' '6.002,0.92695'\n",
      " '5.5204,0.152' '5.0594,2.8214' '5.7077,1.8451' '7.6366,4.2959'\n",
      " '5.8707,7.2029' '5.3054,1.9869' '8.2934,0.14454' '13.394,9.0551'\n",
      " '5.4369,0.61705']\n"
     ]
    }
   ],
   "source": [
    "pop_pro = data.iloc[:,-1].values\n",
    "print(pop_pro)"
   ]
  },
  {
   "cell_type": "code",
   "execution_count": 5,
   "metadata": {},
   "outputs": [
    {
     "name": "stdout",
     "output_type": "stream",
     "text": [
      "[6.1101, 5.5277, 8.5186, 7.0032, 5.8598, 8.3829, 7.4764, 8.5781, 6.4862, 5.0546, 5.7107, 14.164, 5.734, 8.4084, 5.6407, 5.3794, 6.3654, 5.1301, 6.4296, 7.0708, 6.1891, 20.27, 5.4901, 6.3261, 5.5649, 18.945, 12.828, 10.957, 13.176, 22.203, 5.2524, 6.5894, 9.2482, 5.8918, 8.2111, 7.9334, 8.0959, 5.6063, 12.836, 6.3534, 5.4069, 6.8825, 11.708, 5.7737, 7.8247, 7.0931, 5.0702, 5.8014, 11.7, 5.5416, 7.5402, 5.3077, 7.4239, 7.6031, 6.3328, 6.3589, 6.2742, 5.6397, 9.3102, 9.4536, 8.8254, 5.1793, 21.279, 14.908, 18.959, 7.2182, 8.2951, 10.236, 5.4994, 20.341, 10.136, 7.3345, 6.0062, 7.2259, 5.0269, 6.5479, 7.5386, 5.0365, 10.274, 5.1077, 5.7292, 5.1884, 6.3557, 9.7687, 6.5159, 8.5172, 9.1802, 6.002, 5.5204, 5.0594, 5.7077, 7.6366, 5.8707, 5.3054, 8.2934, 13.394, 5.4369] [17.592, 9.1302, 13.662, 11.854, 6.8233, 11.886, 4.3483, 12.0, 6.5987, 3.8166, 3.2522, 15.505, 3.1551, 7.2258, 0.71618, 3.5129, 5.3048, 0.56077, 3.6518, 5.3893, 3.1386, 21.767, 4.263, 5.1875, 3.0825, 22.638, 13.501, 7.0467, 14.692, 24.147, -1.22, 5.9966, 12.134, 1.8495, 6.5426, 4.5623, 4.1164, 3.3928, 10.117, 5.4974, 0.55657, 3.9115, 5.3854, 2.4406, 6.7318, 1.0463, 5.1337, 1.844, 8.0043, 1.0179, 6.7504, 1.8396, 4.2885, 4.9981, 1.4233, -1.4211, 2.4756, 4.6042, 3.9624, 5.4141, 5.1694, -0.74279, 17.929, 12.054, 17.054, 4.8852, 5.7442, 7.7754, 1.0173, 20.992, 6.6799, 4.0259, 1.2784, 3.3411, -2.6807, 0.29678, 3.8845, 5.7014, 6.7526, 2.0576, 0.47953, 0.20421, 0.67861, 7.5435, 5.3436, 4.2415, 6.7981, 0.92695, 0.152, 2.8214, 1.8451, 4.2959, 7.2029, 1.9869, 0.14454, 9.0551, 0.61705]\n"
     ]
    }
   ],
   "source": [
    "pop = []\n",
    "pro = []\n",
    "for i in pop_pro:\n",
    "    lst = i.split(\",\")\n",
    "    pop.append(float(lst[0]))\n",
    "    pro.append(float(lst[1]))\n",
    "print(pop, pro)"
   ]
  },
  {
   "cell_type": "code",
   "execution_count": 6,
   "metadata": {},
   "outputs": [
    {
     "name": "stdout",
     "output_type": "stream",
     "text": [
      "[[ 6.1101]\n",
      " [ 5.5277]\n",
      " [ 8.5186]\n",
      " [ 7.0032]\n",
      " [ 5.8598]\n",
      " [ 8.3829]\n",
      " [ 7.4764]\n",
      " [ 8.5781]\n",
      " [ 6.4862]\n",
      " [ 5.0546]\n",
      " [ 5.7107]\n",
      " [14.164 ]\n",
      " [ 5.734 ]\n",
      " [ 8.4084]\n",
      " [ 5.6407]\n",
      " [ 5.3794]\n",
      " [ 6.3654]\n",
      " [ 5.1301]\n",
      " [ 6.4296]\n",
      " [ 7.0708]\n",
      " [ 6.1891]\n",
      " [20.27  ]\n",
      " [ 5.4901]\n",
      " [ 6.3261]\n",
      " [ 5.5649]\n",
      " [18.945 ]\n",
      " [12.828 ]\n",
      " [10.957 ]\n",
      " [13.176 ]\n",
      " [22.203 ]\n",
      " [ 5.2524]\n",
      " [ 6.5894]\n",
      " [ 9.2482]\n",
      " [ 5.8918]\n",
      " [ 8.2111]\n",
      " [ 7.9334]\n",
      " [ 8.0959]\n",
      " [ 5.6063]\n",
      " [12.836 ]\n",
      " [ 6.3534]\n",
      " [ 5.4069]\n",
      " [ 6.8825]\n",
      " [11.708 ]\n",
      " [ 5.7737]\n",
      " [ 7.8247]\n",
      " [ 7.0931]\n",
      " [ 5.0702]\n",
      " [ 5.8014]\n",
      " [11.7   ]\n",
      " [ 5.5416]\n",
      " [ 7.5402]\n",
      " [ 5.3077]\n",
      " [ 7.4239]\n",
      " [ 7.6031]\n",
      " [ 6.3328]\n",
      " [ 6.3589]\n",
      " [ 6.2742]\n",
      " [ 5.6397]\n",
      " [ 9.3102]\n",
      " [ 9.4536]\n",
      " [ 8.8254]\n",
      " [ 5.1793]\n",
      " [21.279 ]\n",
      " [14.908 ]\n",
      " [18.959 ]\n",
      " [ 7.2182]\n",
      " [ 8.2951]\n",
      " [10.236 ]\n",
      " [ 5.4994]\n",
      " [20.341 ]\n",
      " [10.136 ]\n",
      " [ 7.3345]\n",
      " [ 6.0062]\n",
      " [ 7.2259]\n",
      " [ 5.0269]\n",
      " [ 6.5479]\n",
      " [ 7.5386]\n",
      " [ 5.0365]\n",
      " [10.274 ]\n",
      " [ 5.1077]\n",
      " [ 5.7292]\n",
      " [ 5.1884]\n",
      " [ 6.3557]\n",
      " [ 9.7687]\n",
      " [ 6.5159]\n",
      " [ 8.5172]\n",
      " [ 9.1802]\n",
      " [ 6.002 ]\n",
      " [ 5.5204]\n",
      " [ 5.0594]\n",
      " [ 5.7077]\n",
      " [ 7.6366]\n",
      " [ 5.8707]\n",
      " [ 5.3054]\n",
      " [ 8.2934]\n",
      " [13.394 ]\n",
      " [ 5.4369]]\n"
     ]
    }
   ],
   "source": [
    "x = np.array(pop)\n",
    "x = x.reshape(-1,1)\n",
    "print(x)"
   ]
  },
  {
   "cell_type": "code",
   "execution_count": 7,
   "metadata": {},
   "outputs": [
    {
     "name": "stdout",
     "output_type": "stream",
     "text": [
      "[[17.592  ]\n",
      " [ 9.1302 ]\n",
      " [13.662  ]\n",
      " [11.854  ]\n",
      " [ 6.8233 ]\n",
      " [11.886  ]\n",
      " [ 4.3483 ]\n",
      " [12.     ]\n",
      " [ 6.5987 ]\n",
      " [ 3.8166 ]\n",
      " [ 3.2522 ]\n",
      " [15.505  ]\n",
      " [ 3.1551 ]\n",
      " [ 7.2258 ]\n",
      " [ 0.71618]\n",
      " [ 3.5129 ]\n",
      " [ 5.3048 ]\n",
      " [ 0.56077]\n",
      " [ 3.6518 ]\n",
      " [ 5.3893 ]\n",
      " [ 3.1386 ]\n",
      " [21.767  ]\n",
      " [ 4.263  ]\n",
      " [ 5.1875 ]\n",
      " [ 3.0825 ]\n",
      " [22.638  ]\n",
      " [13.501  ]\n",
      " [ 7.0467 ]\n",
      " [14.692  ]\n",
      " [24.147  ]\n",
      " [-1.22   ]\n",
      " [ 5.9966 ]\n",
      " [12.134  ]\n",
      " [ 1.8495 ]\n",
      " [ 6.5426 ]\n",
      " [ 4.5623 ]\n",
      " [ 4.1164 ]\n",
      " [ 3.3928 ]\n",
      " [10.117  ]\n",
      " [ 5.4974 ]\n",
      " [ 0.55657]\n",
      " [ 3.9115 ]\n",
      " [ 5.3854 ]\n",
      " [ 2.4406 ]\n",
      " [ 6.7318 ]\n",
      " [ 1.0463 ]\n",
      " [ 5.1337 ]\n",
      " [ 1.844  ]\n",
      " [ 8.0043 ]\n",
      " [ 1.0179 ]\n",
      " [ 6.7504 ]\n",
      " [ 1.8396 ]\n",
      " [ 4.2885 ]\n",
      " [ 4.9981 ]\n",
      " [ 1.4233 ]\n",
      " [-1.4211 ]\n",
      " [ 2.4756 ]\n",
      " [ 4.6042 ]\n",
      " [ 3.9624 ]\n",
      " [ 5.4141 ]\n",
      " [ 5.1694 ]\n",
      " [-0.74279]\n",
      " [17.929  ]\n",
      " [12.054  ]\n",
      " [17.054  ]\n",
      " [ 4.8852 ]\n",
      " [ 5.7442 ]\n",
      " [ 7.7754 ]\n",
      " [ 1.0173 ]\n",
      " [20.992  ]\n",
      " [ 6.6799 ]\n",
      " [ 4.0259 ]\n",
      " [ 1.2784 ]\n",
      " [ 3.3411 ]\n",
      " [-2.6807 ]\n",
      " [ 0.29678]\n",
      " [ 3.8845 ]\n",
      " [ 5.7014 ]\n",
      " [ 6.7526 ]\n",
      " [ 2.0576 ]\n",
      " [ 0.47953]\n",
      " [ 0.20421]\n",
      " [ 0.67861]\n",
      " [ 7.5435 ]\n",
      " [ 5.3436 ]\n",
      " [ 4.2415 ]\n",
      " [ 6.7981 ]\n",
      " [ 0.92695]\n",
      " [ 0.152  ]\n",
      " [ 2.8214 ]\n",
      " [ 1.8451 ]\n",
      " [ 4.2959 ]\n",
      " [ 7.2029 ]\n",
      " [ 1.9869 ]\n",
      " [ 0.14454]\n",
      " [ 9.0551 ]\n",
      " [ 0.61705]]\n"
     ]
    }
   ],
   "source": [
    "y = np.array(pro).reshape(-1,1)\n",
    "print(y)"
   ]
  },
  {
   "cell_type": "code",
   "execution_count": 8,
   "metadata": {},
   "outputs": [
    {
     "name": "stdout",
     "output_type": "stream",
     "text": [
      "Shape of X = (97, 1)\n",
      "Shape of Y = (97, 1)\n"
     ]
    }
   ],
   "source": [
    "print(\"Shape of X =\",x.shape)\n",
    "print(\"Shape of Y =\", y.shape)"
   ]
  },
  {
   "cell_type": "code",
   "execution_count": 9,
   "metadata": {},
   "outputs": [
    {
     "name": "stdout",
     "output_type": "stream",
     "text": [
      "[[ 5.7737]\n",
      " [21.279 ]\n",
      " [ 7.0032]\n",
      " [ 9.1802]\n",
      " [ 7.0931]\n",
      " [11.7   ]\n",
      " [ 7.4764]\n",
      " [ 5.4369]\n",
      " [ 5.7292]\n",
      " [ 6.5479]\n",
      " [ 8.8254]\n",
      " [ 5.1077]\n",
      " [ 8.5172]\n",
      " [ 5.8707]\n",
      " [ 5.3077]\n",
      " [10.957 ]\n",
      " [ 6.4296]\n",
      " [ 6.2742]\n",
      " [14.908 ]\n",
      " [ 7.2259]\n",
      " [ 5.5277]\n",
      " [ 5.1793]\n",
      " [11.708 ]\n",
      " [ 6.8825]\n",
      " [ 5.8598]\n",
      " [ 5.3794]\n",
      " [ 5.1301]\n",
      " [ 5.4069]\n",
      " [12.836 ]\n",
      " [ 8.3829]\n",
      " [ 5.5204]\n",
      " [ 9.4536]\n",
      " [ 6.1101]\n",
      " [ 8.2111]\n",
      " [13.176 ]\n",
      " [ 7.5402]\n",
      " [14.164 ]\n",
      " [ 7.9334]\n",
      " [ 6.3261]\n",
      " [ 7.4239]\n",
      " [ 5.7107]\n",
      " [ 6.5894]\n",
      " [ 5.7077]\n",
      " [ 5.6397]\n",
      " [ 7.5386]\n",
      " [ 9.2482]\n",
      " [ 6.3557]\n",
      " [ 5.6407]\n",
      " [ 5.0269]\n",
      " [ 7.0708]\n",
      " [22.203 ]\n",
      " [ 5.5416]\n",
      " [ 8.2934]\n",
      " [13.394 ]\n",
      " [20.341 ]\n",
      " [ 6.1891]\n",
      " [ 7.6366]\n",
      " [ 6.0062]\n",
      " [ 5.0365]\n",
      " [18.945 ]\n",
      " [ 5.6063]\n",
      " [ 5.0702]\n",
      " [ 6.3534]\n",
      " [ 7.2182]\n",
      " [ 9.3102]\n",
      " [ 5.734 ]\n",
      " [10.136 ]\n",
      " [ 6.002 ]\n",
      " [ 8.0959]\n",
      " [20.27  ]\n",
      " [ 9.7687]\n",
      " [ 5.0546]\n",
      " [ 5.3054]\n",
      " [10.236 ]\n",
      " [18.959 ]\n",
      " [ 5.8014]\n",
      " [ 7.8247]] [[ 2.4406 ]\n",
      " [17.929  ]\n",
      " [11.854  ]\n",
      " [ 6.7981 ]\n",
      " [ 1.0463 ]\n",
      " [ 8.0043 ]\n",
      " [ 4.3483 ]\n",
      " [ 0.61705]\n",
      " [ 0.47953]\n",
      " [ 0.29678]\n",
      " [ 5.1694 ]\n",
      " [ 2.0576 ]\n",
      " [ 4.2415 ]\n",
      " [ 7.2029 ]\n",
      " [ 1.8396 ]\n",
      " [ 7.0467 ]\n",
      " [ 3.6518 ]\n",
      " [ 2.4756 ]\n",
      " [12.054  ]\n",
      " [ 3.3411 ]\n",
      " [ 9.1302 ]\n",
      " [-0.74279]\n",
      " [ 5.3854 ]\n",
      " [ 3.9115 ]\n",
      " [ 6.8233 ]\n",
      " [ 3.5129 ]\n",
      " [ 0.56077]\n",
      " [ 0.55657]\n",
      " [10.117  ]\n",
      " [11.886  ]\n",
      " [ 0.152  ]\n",
      " [ 5.4141 ]\n",
      " [17.592  ]\n",
      " [ 6.5426 ]\n",
      " [14.692  ]\n",
      " [ 6.7504 ]\n",
      " [15.505  ]\n",
      " [ 4.5623 ]\n",
      " [ 5.1875 ]\n",
      " [ 4.2885 ]\n",
      " [ 3.2522 ]\n",
      " [ 5.9966 ]\n",
      " [ 1.8451 ]\n",
      " [ 4.6042 ]\n",
      " [ 3.8845 ]\n",
      " [12.134  ]\n",
      " [ 0.67861]\n",
      " [ 0.71618]\n",
      " [-2.6807 ]\n",
      " [ 5.3893 ]\n",
      " [24.147  ]\n",
      " [ 1.0179 ]\n",
      " [ 0.14454]\n",
      " [ 9.0551 ]\n",
      " [20.992  ]\n",
      " [ 3.1386 ]\n",
      " [ 4.2959 ]\n",
      " [ 1.2784 ]\n",
      " [ 5.7014 ]\n",
      " [22.638  ]\n",
      " [ 3.3928 ]\n",
      " [ 5.1337 ]\n",
      " [ 5.4974 ]\n",
      " [ 4.8852 ]\n",
      " [ 3.9624 ]\n",
      " [ 3.1551 ]\n",
      " [ 6.6799 ]\n",
      " [ 0.92695]\n",
      " [ 4.1164 ]\n",
      " [21.767  ]\n",
      " [ 7.5435 ]\n",
      " [ 3.8166 ]\n",
      " [ 1.9869 ]\n",
      " [ 7.7754 ]\n",
      " [17.054  ]\n",
      " [ 1.844  ]\n",
      " [ 6.7318 ]]\n"
     ]
    }
   ],
   "source": [
    "from sklearn.model_selection import train_test_split\n",
    "x_train,x_test,y_train,y_test = train_test_split(x,y,train_size=0.8, random_state=0)\n",
    "print(x_train,y_train)"
   ]
  },
  {
   "cell_type": "code",
   "execution_count": 10,
   "metadata": {},
   "outputs": [
    {
     "data": {
      "text/plain": [
       "((77, 1), (77, 1), (20, 1), (20, 1))"
      ]
     },
     "execution_count": 10,
     "metadata": {},
     "output_type": "execute_result"
    }
   ],
   "source": [
    "x_train.shape,y_train.shape,x_test.shape,y_test.shape"
   ]
  },
  {
   "cell_type": "markdown",
   "metadata": {},
   "source": [
    "## Visualization of Data"
   ]
  },
  {
   "cell_type": "code",
   "execution_count": 11,
   "metadata": {},
   "outputs": [
    {
     "data": {
      "image/png": "[encoded data removed]",
      "text/plain": [
       "<Figure size 1080x720 with 1 Axes>"
      ]
     },
     "metadata": {
      "needs_background": "light"
     },
     "output_type": "display_data"
    }
   ],
   "source": [
    "plt.figure(figsize=(15,10))\n",
    "plt.scatter(x_train,y_train,marker=\"x\",color=\"red\",s=100)\n",
    "plt.xlabel(\"Population in 10,000s\")\n",
    "plt.ylabel(\"Profit in 10,000s\")\n",
    "plt.title(\"Population vs Profit\")\n",
    "plt.show()"
   ]
  },
  {
   "cell_type": "markdown",
   "metadata": {},
   "source": [
    "## Model Building"
   ]
  },
  {
   "cell_type": "markdown",
   "metadata": {},
   "source": [
    "### Using sklearn"
   ]
  },
  {
   "cell_type": "code",
   "execution_count": 12,
   "metadata": {},
   "outputs": [],
   "source": [
    "from sklearn.linear_model import LinearRegression\n",
    "from sklearn.metrics import r2_score, mean_absolute_error, mean_squared_error"
   ]
  },
  {
   "cell_type": "code",
   "execution_count": 13,
   "metadata": {},
   "outputs": [
    {
     "data": {
      "text/plain": [
       "LinearRegression()"
      ]
     },
     "execution_count": 13,
     "metadata": {},
     "output_type": "execute_result"
    }
   ],
   "source": [
    "regressor = LinearRegression()\n",
    "regressor.fit(x_train,y_train)"
   ]
  },
  {
   "cell_type": "code",
   "execution_count": 14,
   "metadata": {},
   "outputs": [
    {
     "name": "stdout",
     "output_type": "stream",
     "text": [
      "[[11.23095229]\n",
      " [ 3.84605479]\n",
      " [ 6.18913145]\n",
      " [ 3.66237124]\n",
      " [ 2.65679157]\n",
      " [ 2.29293436]\n",
      " [ 3.66997597]\n",
      " [ 8.24287729]\n",
      " [ 3.63183531]\n",
      " [ 5.92764564]\n",
      " [ 5.11803409]\n",
      " [ 2.14200966]\n",
      " [ 4.80378313]\n",
      " [ 6.06020198]\n",
      " [ 6.25874401]\n",
      " [ 2.36781173]\n",
      " [ 2.64591096]\n",
      " [ 2.73342388]\n",
      " [ 3.11588344]\n",
      " [ 3.81130701]]\n"
     ]
    }
   ],
   "source": [
    "y_pred = regressor.predict(x_test)\n",
    "print(y_pred)"
   ]
  },
  {
   "cell_type": "code",
   "execution_count": 15,
   "metadata": {},
   "outputs": [
    {
     "name": "stdout",
     "output_type": "stream",
     "text": [
      "[[13.501      11.23095229]\n",
      " [ 5.3436      3.84605479]\n",
      " [13.662       6.18913145]\n",
      " [-1.4211      3.66237124]\n",
      " [ 1.0173      2.65679157]\n",
      " [ 0.20421     2.29293436]\n",
      " [ 5.3048      3.66997597]\n",
      " [ 6.7526      8.24287729]\n",
      " [ 1.4233      3.63183531]\n",
      " [ 5.7442      5.92764564]\n",
      " [ 4.9981      5.11803409]\n",
      " [ 2.8214      2.14200966]\n",
      " [ 4.0259      4.80378313]\n",
      " [ 7.2258      6.06020198]\n",
      " [12.          6.25874401]\n",
      " [-1.22        2.36781173]\n",
      " [ 4.263       2.64591096]\n",
      " [ 3.0825      2.73342388]\n",
      " [ 1.8495      3.11588344]\n",
      " [ 6.5987      3.81130701]]\n"
     ]
    }
   ],
   "source": [
    "print(np.concatenate((y_test,y_pred), axis=1))"
   ]
  },
  {
   "cell_type": "code",
   "execution_count": 16,
   "metadata": {},
   "outputs": [
    {
     "data": {
      "image/png": "[encoded data removed]",
      "text/plain": [
       "<Figure size 1080x720 with 1 Axes>"
      ]
     },
     "metadata": {
      "needs_background": "light"
     },
     "output_type": "display_data"
    }
   ],
   "source": [
    "plt.figure(figsize=(15,10))\n",
    "plt.scatter(x_train,y_train,marker=\"x\",color=\"red\",s=70)\n",
    "plt.plot(x_train, regressor.predict(x_train),color=\"blue\")\n",
    "plt.xlabel(\"Population in 10,000s\")\n",
    "plt.ylabel(\"Profit in 10,000s\")\n",
    "plt.title(\"Population vs Profit\")\n",
    "plt.show()"
   ]
  },
  {
   "cell_type": "code",
   "execution_count": 17,
   "metadata": {},
   "outputs": [
    {
     "data": {
      "image/png": "[encoded data removed]",
      "text/plain": [
       "<Figure size 1080x720 with 1 Axes>"
      ]
     },
     "metadata": {
      "needs_background": "light"
     },
     "output_type": "display_data"
    }
   ],
   "source": [
    "plt.figure(figsize=(15,10))\n",
    "plt.scatter(x_test,y_test,marker=\"x\",color=\"red\",s=70)\n",
    "plt.plot(x_test, y_pred,color=\"blue\")\n",
    "plt.xlabel(\"Population in 10,000s\")\n",
    "plt.ylabel(\"Profit in 10,000s\")\n",
    "plt.title(\"Population vs Profit\")\n",
    "plt.show()"
   ]
  },
  {
   "cell_type": "code",
   "execution_count": 18,
   "metadata": {},
   "outputs": [
    {
     "name": "stdout",
     "output_type": "stream",
     "text": [
      "R2 Score - 0.5362701266498038\n"
     ]
    }
   ],
   "source": [
    "r_score = r2_score(y_test,y_pred)\n",
    "print(\"R2 Score -\",r_score)"
   ]
  },
  {
   "cell_type": "code",
   "execution_count": 19,
   "metadata": {},
   "outputs": [
    {
     "name": "stdout",
     "output_type": "stream",
     "text": [
      "MSE = 8.316048426424132 ,MAE = 2.1830522903040017\n"
     ]
    }
   ],
   "source": [
    "mse = mean_squared_error(y_test,y_pred)\n",
    "mae = mean_absolute_error(y_test,y_pred)\n",
    "print(\"MSE =\",mse,\",MAE =\",mae)"
   ]
  },
  {
   "cell_type": "markdown",
   "metadata": {},
   "source": [
    "### Without using Sklearn"
   ]
  },
  {
   "cell_type": "code",
   "execution_count": 20,
   "metadata": {},
   "outputs": [
    {
     "name": "stdout",
     "output_type": "stream",
     "text": [
      "Shape of x_train = (77, 1)\n",
      "Shape of y_train = (77, 1)\n",
      "Shape of x_test = (20, 1)\n",
      "Shape of y_test = (20, 1)\n"
     ]
    }
   ],
   "source": [
    "print(\"Shape of x_train =\", x_train.shape)\n",
    "print(\"Shape of y_train =\", y_train.shape)\n",
    "print(\"Shape of x_test =\", x_test.shape)\n",
    "print(\"Shape of y_test =\", y_test.shape)"
   ]
  },
  {
   "cell_type": "code",
   "execution_count": 21,
   "metadata": {},
   "outputs": [
    {
     "name": "stdout",
     "output_type": "stream",
     "text": [
      "[[ 1.      5.7737]\n",
      " [ 1.     21.279 ]\n",
      " [ 1.      7.0032]\n",
      " [ 1.      9.1802]\n",
      " [ 1.      7.0931]\n",
      " [ 1.     11.7   ]\n",
      " [ 1.      7.4764]\n",
      " [ 1.      5.4369]\n",
      " [ 1.      5.7292]\n",
      " [ 1.      6.5479]\n",
      " [ 1.      8.8254]\n",
      " [ 1.      5.1077]\n",
      " [ 1.      8.5172]\n",
      " [ 1.      5.8707]\n",
      " [ 1.      5.3077]\n",
      " [ 1.     10.957 ]\n",
      " [ 1.      6.4296]\n",
      " [ 1.      6.2742]\n",
      " [ 1.     14.908 ]\n",
      " [ 1.      7.2259]\n",
      " [ 1.      5.5277]\n",
      " [ 1.      5.1793]\n",
      " [ 1.     11.708 ]\n",
      " [ 1.      6.8825]\n",
      " [ 1.      5.8598]\n",
      " [ 1.      5.3794]\n",
      " [ 1.      5.1301]\n",
      " [ 1.      5.4069]\n",
      " [ 1.     12.836 ]\n",
      " [ 1.      8.3829]\n",
      " [ 1.      5.5204]\n",
      " [ 1.      9.4536]\n",
      " [ 1.      6.1101]\n",
      " [ 1.      8.2111]\n",
      " [ 1.     13.176 ]\n",
      " [ 1.      7.5402]\n",
      " [ 1.     14.164 ]\n",
      " [ 1.      7.9334]\n",
      " [ 1.      6.3261]\n",
      " [ 1.      7.4239]\n",
      " [ 1.      5.7107]\n",
      " [ 1.      6.5894]\n",
      " [ 1.      5.7077]\n",
      " [ 1.      5.6397]\n",
      " [ 1.      7.5386]\n",
      " [ 1.      9.2482]\n",
      " [ 1.      6.3557]\n",
      " [ 1.      5.6407]\n",
      " [ 1.      5.0269]\n",
      " [ 1.      7.0708]\n",
      " [ 1.     22.203 ]\n",
      " [ 1.      5.5416]\n",
      " [ 1.      8.2934]\n",
      " [ 1.     13.394 ]\n",
      " [ 1.     20.341 ]\n",
      " [ 1.      6.1891]\n",
      " [ 1.      7.6366]\n",
      " [ 1.      6.0062]\n",
      " [ 1.      5.0365]\n",
      " [ 1.     18.945 ]\n",
      " [ 1.      5.6063]\n",
      " [ 1.      5.0702]\n",
      " [ 1.      6.3534]\n",
      " [ 1.      7.2182]\n",
      " [ 1.      9.3102]\n",
      " [ 1.      5.734 ]\n",
      " [ 1.     10.136 ]\n",
      " [ 1.      6.002 ]\n",
      " [ 1.      8.0959]\n",
      " [ 1.     20.27  ]\n",
      " [ 1.      9.7687]\n",
      " [ 1.      5.0546]\n",
      " [ 1.      5.3054]\n",
      " [ 1.     10.236 ]\n",
      " [ 1.     18.959 ]\n",
      " [ 1.      5.8014]\n",
      " [ 1.      7.8247]] [[ 1.     12.828 ]\n",
      " [ 1.      6.5159]\n",
      " [ 1.      8.5186]\n",
      " [ 1.      6.3589]\n",
      " [ 1.      5.4994]\n",
      " [ 1.      5.1884]\n",
      " [ 1.      6.3654]\n",
      " [ 1.     10.274 ]\n",
      " [ 1.      6.3328]\n",
      " [ 1.      8.2951]\n",
      " [ 1.      7.6031]\n",
      " [ 1.      5.0594]\n",
      " [ 1.      7.3345]\n",
      " [ 1.      8.4084]\n",
      " [ 1.      8.5781]\n",
      " [ 1.      5.2524]\n",
      " [ 1.      5.4901]\n",
      " [ 1.      5.5649]\n",
      " [ 1.      5.8918]\n",
      " [ 1.      6.4862]]\n"
     ]
    }
   ],
   "source": [
    "x_train_ws = np.c_[np.ones(len(x_train)), x_train]\n",
    "x_test_ws = np.c_[np.ones(len(x_test)), x_test]\n",
    "print(x_train_ws, x_test_ws)"
   ]
  },
  {
   "cell_type": "code",
   "execution_count": 22,
   "metadata": {},
   "outputs": [
    {
     "name": "stdout",
     "output_type": "stream",
     "text": [
      "Shape of x_train = (77, 2)\n",
      "Shape of y_train = (77, 1)\n",
      "Shape of x_test = (20, 2)\n",
      "Shape of y_test = (20, 1)\n"
     ]
    }
   ],
   "source": [
    "print(\"Shape of x_train =\", x_train_ws.shape)\n",
    "print(\"Shape of y_train =\", y_train.shape)\n",
    "print(\"Shape of x_test =\", x_test_ws.shape)\n",
    "print(\"Shape of y_test =\", y_test.shape)"
   ]
  },
  {
   "cell_type": "code",
   "execution_count": 23,
   "metadata": {},
   "outputs": [
    {
     "name": "stdout",
     "output_type": "stream",
     "text": [
      "theta = [[0.]\n",
      " [0.]]\n",
      "Shape of theta = (2, 1)\n"
     ]
    }
   ],
   "source": [
    "theta = np.zeros((x_train_ws.shape[1], 1))\n",
    "print(\"theta =\", theta)\n",
    "print(\"Shape of theta =\",theta.shape)"
   ]
  },
  {
   "cell_type": "code",
   "execution_count": 24,
   "metadata": {},
   "outputs": [],
   "source": [
    "def hypothesis(train, theta, y_train):\n",
    "    return (train.dot(theta) - y_train)"
   ]
  },
  {
   "cell_type": "code",
   "execution_count": 25,
   "metadata": {},
   "outputs": [
    {
     "name": "stdout",
     "output_type": "stream",
     "text": [
      "(77, 1)\n"
     ]
    }
   ],
   "source": [
    "print((hypothesis(x_train_ws, theta, y_train)).shape)"
   ]
  },
  {
   "cell_type": "code",
   "execution_count": 26,
   "metadata": {},
   "outputs": [],
   "source": [
    "def cost_function(x_train, y_train, theta):\n",
    "    J = (hypothesis(x_train, theta, y_train)**2)/(len(x_train)*2)\n",
    "    return np.sum(J)"
   ]
  },
  {
   "cell_type": "code",
   "execution_count": 27,
   "metadata": {},
   "outputs": [
    {
     "name": "stdout",
     "output_type": "stream",
     "text": [
      "35.00834148378116\n"
     ]
    }
   ],
   "source": [
    "print(cost_function(x_train_ws, y_train, theta))"
   ]
  },
  {
   "cell_type": "code",
   "execution_count": 28,
   "metadata": {},
   "outputs": [],
   "source": [
    "def gradient_descent(x_train, y_train, theta, iterations, alpha):\n",
    "    print(x_train.shape, y_train.shape, theta.shape)\n",
    "    J_history = []\n",
    "    J_history.append(cost_function(x_train,y_train,theta))\n",
    "    for i in range(iterations):\n",
    "        temp = x_train.T.dot(hypothesis(x_train,theta,y_train))\n",
    "        theta = theta - (alpha/y_train.shape[0])*temp\n",
    "        J_history.append(cost_function(x_train, y_train, theta))\n",
    "    return theta,J_history"
   ]
  },
  {
   "cell_type": "code",
   "execution_count": 29,
   "metadata": {},
   "outputs": [
    {
     "name": "stdout",
     "output_type": "stream",
     "text": [
      "(77, 2) (77, 1) (2, 1)\n",
      "[[-3.56853014]\n",
      " [ 1.15002156]] [35.00834148378116, 6.346891159120934, 6.015569718092274, 6.006265224860465, 6.0006422114878, 5.995082448399424, 5.98954472835919, 5.984028500274048, 5.978533675462713, 5.973060170819383, 5.967607903620158, 5.962176791462795, 5.956766752264784, 5.95137770426209, 5.946009566007931, 5.940662256371548, 5.9353356945369615, 5.930029800001773, 5.924744492575927, 5.919479692380518, 5.914235319846566, 5.909011295713829, 5.903807541029595, 5.89862397714749, 5.893460525726299, 5.888317108728764, 5.883193648420425, 5.878090067368427, 5.8730062884403615, 5.867942234803099, 5.862897829921627, 5.857872997557886, 5.852867661769626, 5.847881746909264, 5.84291517762272, 5.837967878848302, 5.83303977581555, 5.828130794044134, 5.82324085934269, 5.818369897807737, 5.813517835822533, 5.808684600055978, 5.803870117461493, 5.79907431527593, 5.79429712101846, 5.78953846248949, 5.784798267769556, 5.780076465218251, 5.775372983473131, 5.770687751448649, 5.766020698335066, 5.7613717535973885, 5.7567408469743055, 5.752127908477121, 5.7475328683887, 5.742955657262412, 5.738396205921081, 5.733854445455942, 5.729330307225602, 5.724823722854997, 5.7203346242343605, 5.715862943518197, 5.711408613124258, 5.70697156573251, 5.702551734284125, 5.698149051980472, 5.6937634522821, 5.689394868907729, 5.685043235833256, 5.680708487290762, 5.676390557767494, 5.672089382004911, 5.667804894997662, 5.663537031992628, 5.659285728487932, 5.65505092023197, 5.6508325432224344, 5.646630533705349, 5.642444828174109, 5.638275363368516, 5.634122076273825, 5.629984904119789, 5.625863784379713, 5.62175865476951, 5.617669453246759, 5.61359611800976, 5.60953858749662, 5.60549680038429, 5.601470695587672, 5.597460212258672, 5.593465289785298, 5.589485867790731, 5.585521886132412, 5.581573284901145, 5.5776400044201795, 5.573721985244319, 5.569819168159009, 5.565931494179461, 5.562058904549735, 5.558201340741882, 5.554358744455039, 5.5505310576145455, 5.5467182223710845, 5.542920181099788, 5.5391368763993825, 5.535368251091308, 5.531614248218861, 5.5278748110463365, 5.524149883058164, 5.5204394079580545, 5.516743329668153, 5.513061592328189, 5.509394140294631, 5.505740918139849, 5.5021018706512725, 5.49847694283056, 5.494866079892766, 5.491269227265512, 5.487686330588162, 5.484117335711007, 5.480562188694433, 5.477020835808116, 5.473493223530216, 5.469979298546552, 5.4664790077498076, 5.462992298238726, 5.459519117317306, 5.45605941249401, 5.452613131480978, 5.449180222193214, 5.445760632747828, 5.442354311463236, 5.438961206858369, 5.435581267651919, 5.432214442761551, 5.428860681303127, 5.4255199325899435, 5.422192146131964, 5.418877271635057, 5.41557525900023, 5.4122860583228825, 5.409009619892044, 5.40574589418962, 5.402494831889656, 5.399256383857581, 5.396030501149469, 5.392817135011298, 5.389616236878212, 5.386427758373791, 5.383251651309318, 5.380087867683052, 5.376936359679497, 5.373797079668684, 5.3706699802054505, 5.367555014028727, 5.364452134060816, 5.3613612934066825, 5.3582824453532485, 5.3552155433686845, 5.352160541101706, 5.349117392380872, 5.346086051213895, 5.343066471786928, 5.340058608463898, 5.337062415785792, 5.334077848469983, 5.331104861409543, 5.328143409672558, 5.325193448501459, 5.3222549333123315, 5.3193278196942515, 5.316412063408609, 5.313507620388443, 5.310614446737778, 5.307732498730951, 5.304861732811961, 5.302002105593805, 5.29915357385782, 5.296316094553037, 5.293489624795531, 5.290674121867756, 5.2878695432179255, 5.285075846459347, 5.282292989369793, 5.279520929890862, 5.276759626127337, 5.274009036346562, 5.271269118977799, 5.268539832611614, 5.265821135999234, 5.263112988051939, 5.260415347840437, 5.257728174594239, 5.255051427701048, 5.252385066706147, 5.249729051311785, 5.247083341376563, 5.244447896914839, 5.241822678096115, 5.239207645244434, 5.236602758837788, 5.2340079795075125, 5.231423268037696, 5.228848585364591, 5.226283892576013, 5.22372915091076, 5.221184321758025, 5.2186493666568206, 5.216124247295374, 5.213608925510576, 5.211103363287395, 5.2086075227582835, 5.206121366202638, 5.203644856046202, 5.2011779548605155, 5.1987206253623395, 5.196272830413094, 5.193834533018303, 5.1914056963270285, 5.188986283631314, 5.1865762583656325, 5.184175584106335, 5.181784224571096, 5.1794021436183675, 5.177029305246832, 5.174665673594856, 5.1723112129399595, 5.169965887698257, 5.167629662423936, 5.165302501808714, 5.162984370681307, 5.160675234006894, 5.158375056886596, 5.156083804556939, 5.153801442389331, 5.151527935889548, 5.1492632506971985, 5.147007352585212, 5.144760207459327, 5.142521781357555, 5.140292040449699, 5.1380709510368145, 5.135858479550707, 5.133654592553437, 5.131459256736801, 5.129272438921834, 5.127094106058306, 5.124924225224226, 5.122762763625335, 5.120609688594628, 5.118464967591839, 5.116328568202966, 5.114200458139773, 5.112080605239303, 5.109968977463392, 5.10786554289819, 5.105770269753669, 5.10368312636315, 5.101604081182823, 5.099533102791267, 5.097470159888979, 5.095415221297902, 5.093368255960945, 5.091329232941525, 5.089298121423093, 5.0872748907086685, 5.08525951022038, 5.083251949498996, 5.081252178203471, 5.079260166110477, 5.077275883113964, 5.075299299224689, 5.07333038456977, 5.071369109392234, 5.069415444050562, 5.067469359018251, 5.06553082488336, 5.063599812348067, 5.061676292228227, 5.0597602354529325, 5.05785161306407, 5.055950396215886, 5.054056556174551, 5.052170064317723, 5.050290892134111, 5.048419011223057, 5.0465543932941, 5.044697010166537, 5.042846833769012, 5.0410038361390965, 5.039167989422841, 5.037339265874386, 5.035517637855515, 5.033703077835256, 5.031895558389456, 5.03009505220037, 5.028301532056247, 5.0265149708509185, 5.02473534158339, 5.022962617357427, 5.021196771381164, 5.0194377769666785, 5.0176856075296055, 5.015940236588723, 5.01420163776556, 5.012469784783998, 5.010744651469868, 5.009026211750556, 5.007314439654615, 5.005609309311366, 5.00391079495051, 5.002218870901737, 5.00053351159434, 4.99885469155683, 4.997182385416543, 4.995516567899266, 4.993857213828848, 4.992204298126828, 4.990557795812045, 4.988917682000267, 4.98728393190382, 4.985656520831196, 4.984035424186701, 4.982420617470072, 4.980812076276101, 4.979209776294284, 4.977613693308432, 4.976023803196327, 4.974440081929331, 4.972862505572059, 4.9712910502819785, 4.9697256923090745, 4.968166407995481, 4.96661317377513, 4.965065966173385, 4.9635247618066956, 4.96198953738224, 4.960460269697576, 4.95893693564028, 4.957419512187615, 4.955907976406169, 4.954402305451512, 4.952902476567853, 4.951408467087692, 4.949920254431485, 4.948437816107291, 4.946961129710445, 4.9454901729232095, 4.944024923514441, 4.942565359339255, 4.941111458338689, 4.939663198539372, 4.93822055805319, 4.936783515076952, 4.93535204789207, 4.933926134864223, 4.932505754443033, 4.931090885161734, 4.92968150563686, 4.9282775945679065, 4.926879130737017, 4.925486093008669, 4.9240984603293345, 4.922716211727183, 4.921339326311751, 4.919967783273635, 4.918601561884172, 4.917240641495122, 4.915885001538368, 4.914534621525594, 4.913189481047983, 4.9118495597759, 4.910514837458596, 4.909185293923889, 4.907860909077873, 4.906541662904603, 4.905227535465795, 4.903918506900533, 4.902614557424959, 4.90131566733197, 4.900021816990944, 4.898732986847409, 4.897449157422775, 4.896170309314027, 4.89489642319344, 4.893627479808273, 4.892363459980492, 4.891104344606469, 4.889850114656707, 4.888600751175541, 4.8873562352808495, 4.886116548163783, 4.884881671088464, 4.883651585391719, 4.882426272482781, 4.881205713843017, 4.879989891025651, 4.878778785655479, 4.877572379428592, 4.8763706541121055, 4.875173591543875, 4.873981173632229, 4.87279338235569, 4.871610199762706, 4.870431607971376, 4.8692575891691865, 4.868088125612733, 4.866923199627454, 4.865762793607374, 4.864606890014821, 4.863455471380177, 4.862308520301601, 4.861166019444778, 4.860027951542643, 4.8588942993951365, 4.857765045868929, 4.856640173897174, 4.855519666479241, 4.854403506680469, 4.853291677631897, 4.852184162530021, 4.851080944636531, 4.849982007278068, 4.848887333845964, 4.847796907795992, 4.846710712648119, 4.8456287319862525, 4.844550949457999, 4.843477348774412, 4.842407913709747, 4.841342628101212, 4.84028147584873, 4.839224440914699, 4.838171507323736, 4.837122659162444, 4.836077880579173, 4.835037155783776, 4.8340004690473775, 4.832967804702124, 4.831939147140957, 4.830914480817376, 4.829893790245197, 4.828877059998329, 4.827864274710529, 4.82685541907518, 4.825850477845054, 4.824849435832082, 4.823852277907124, 4.822858988999748, 4.821869554097991, 4.820883958248136, 4.81990218655449, 4.8189242241791534, 4.817950056341804, 4.816979668319459, 4.816013045446269, 4.815050173113287, 4.814091036768245, 4.813135621915345, 4.812183914115027, 4.811235898983764, 4.810291562193832, 4.8093508894731, 4.808413866604817, 4.807480479427391, 4.806550713834176, 4.805624555773268, 4.804701991247272, 4.8037830063131155, 4.8028675870818205, 4.8019557197183005, 4.801047390441146, 4.800142585522424, 4.799241291287468, 4.798343494114665, 4.797449180435255, 4.796558336733127, 4.795670949544618, 4.794787005458297, 4.793906491114771, 4.793029393206483, 4.792155698477515, 4.791285393723376, 4.79041846579081, 4.789554901577599, 4.78869468803236, 4.7878378121543514, 4.786984260993274, 4.786134021649077, 4.785287081271759, 4.784443427061187, 4.7836030462668795, 4.782765926187835, 4.781932054172336, 4.781101417617746, 4.780274003970332, 4.779449800725072, 4.7786287954254565, 4.777810975663315, 4.776996329078622, 4.776184843359301, 4.775376506241055, 4.774571305507169, 4.773769228988334, 4.772970264562453, 4.772174400154463, 4.771381623736157, 4.770591923325997, 4.769805286988935, 4.769021702836225, 4.768241159025256, 4.76746364375937, 4.766689145287667, 4.765917651904857, 4.765149151951058, 4.76438363381163, 4.763621085917, 4.762861496742486, 4.762104854808121, 4.761351148678477, 4.760600366962501, 4.7598524983133395, 4.75910753142816, 4.758365455047988, 4.757626257957532, 4.756889928985022, 4.7561564570020325, 4.75542583092331, 4.754698039706623, 4.753973072352577, 4.753250917904458, 4.752531565448065, 4.751815004111544, 4.751101223065229, 4.7503902115214585, 4.749681958734448, 4.748976454000093, 4.748273686655824, 4.747573646080449, 4.746876321693978, 4.746181702957479, 4.745489779372905, 4.744800540482949, 4.7441139758708735, 4.743430075160361, 4.742748828015351, 4.742070224139892, 4.741394253277981, 4.740720905213404, 4.7400501697695905, 4.739382036809456, 4.738716496235243, 4.738053537988383, 4.737393152049325, 4.7367353284374, 4.7360800572106685, 4.735427328465754, 4.734777132337716, 4.7341294589998855, 4.733484298663727, 4.732841641578677, 4.732201478032012, 4.731563798348688, 4.730928592891206, 4.730295852059458, 4.729665566290583, 4.729037726058828, 4.7284123218754, 4.727789344288322, 4.727168783882287, 4.726550631278531, 4.725934877134667, 4.725321512144567, 4.724710527038203, 4.724101912581524, 4.7234956595762965, 4.722891758859985, 4.722290201305608, 4.721690977821585, 4.721094079351619, 4.720499496874554, 4.719907221404232, 4.719317243989363, 4.718729555713389, 4.718144147694346, 4.7175610110847375, 4.716980137071392, 4.716401516875334, 4.71582514175165, 4.715251002989359, 4.71467909191128, 4.714109399873895, 4.713541918267229, 4.712976638514711, 4.712413552073046, 4.711852650432089, 4.711293925114719, 4.710737367676699, 4.71018296970656, 4.709630722825471, 4.70908061868711, 4.7085326489775365, 4.707986805415075, 4.707443079750176, 4.7069014637653, 4.706361949274798, 4.705824528124774, 4.705289192192975, 4.704755933388657, 4.704224743652477, 4.703695614956355, 4.7031685393033635, 4.7026435087276015, 4.7021205152940775, 4.70159955109859, 4.701080608267604, 4.700563678958132, 4.7000487553576225, 4.699535829683833, 4.699024894184717, 4.698515941138313, 4.698008962852608, 4.6975039516654435, 4.697000899944391, 4.6964998000866345, 4.696000644518855, 4.695503425697119, 4.6950081361067655, 4.694514768262291, 4.694023314707233, 4.693533768014068, 4.693046120784079, 4.692560365647266, 4.692076495262224, 4.691594502316032, 4.691114379524138, 4.690636119630264, 4.69015971540628, 4.689685159652104, 4.68921244519559, 4.688741564892419, 4.688272511625996, 4.687805278307333, 4.687339857874956, 4.686876243294779, 4.686414427560019, 4.6859544036910705, 4.685496164735416, 4.685039703767512, 4.684585013888685, 4.684132088227032, 4.683680919937306, 4.683231502200831, 4.682783828225379, 4.682337891245078, 4.681893684520309, 4.681451201337604, 4.681010435009542, 4.680571378874649, 4.680134026297298, 4.6796983706676105, 4.679264405401352, 4.6788321239398405, 4.678401519749832, 4.677972586323441, 4.677545317178028, 4.677119705856109, 4.6766957459252545, 4.676273430977994, 4.6758527546317135, 4.675433710528572, 4.675016292335389, 4.674600493743562, 4.674186308468966, 4.673773730251858, 4.67336275285678, 4.672953370072472, 4.672545575711773, 4.672139363611527, 4.671734727632492, 4.6713316616592495, 4.670930159600104, 4.670530215387, 4.670131822975423, 4.669734976344314, 4.669339669495977, 4.668945896455984, 4.668553651273088, 4.668162928019138, 4.66777372078898, 4.667386023700373, 4.6669998308939, 4.66661513653288, 4.6662319348032755, 4.665850219913612, 4.66546998609488, 4.665091227600461, 4.664713938706027, 4.664338113709467, 4.66396374693079, 4.663590832712045, 4.663219365417238, 4.662849339432232, 4.662480749164686, 4.662113589043947, 4.661747853520986, 4.661383537068296, 4.661020634179821, 4.660659139370871, 4.660299047178033, 4.65994035215909, 4.659583048892949, 4.659227131979544, 4.658872596039766, 4.658519435715371, 4.6581676456689145, 4.657817220583653, 4.65746815516348, 4.657120444132828, 4.65677408223661, 4.656429064240119, 4.656085384928967, 4.655743039108995, 4.655402021606196, 4.655062327266637, 4.65472395095639, 4.65438688756144, 4.654051131987615, 4.653716679160512, 4.6533835240254176, 4.653051661547224, 4.652721086710364, 4.652391794518736, 4.652063779995615, 4.6517370381835885, 4.651411564144487, 4.651087352959289, 4.650764399728065, 4.650442699569899, 4.650122247622809, 4.649803039043681, 4.6494850690081915, 4.649168332710734, 4.648852825364353, 4.648538542200661, 4.648225478469772, 4.647913629440236, 4.647602990398954, 4.647293556651118, 4.646985323520135, 4.64667828634756, 4.646372440493016, 4.646067781334142, 4.645764304266498, 4.645462004703521, 4.6451608780764415, 4.644860919834213, 4.644562125443449, 4.6442644903883545, 4.6439680101706555, 4.643672680309533, 4.643378496341546, 4.643085453820584, 4.642793548317775, 4.642502775421442, 4.64221313073702, 4.641924609886997, 4.6416372085108435, 4.641350922264948, 4.6410657468225605, 4.640781677873708, 4.640498711125151, 4.6402168423003, 4.639936067139162, 4.6396563813982725, 4.63937778085063, 4.639100261285641, 4.638823818509041, 4.638548448342841, 4.6382741466252675, 4.63800090921069, 4.637728731969565, 4.637457610788372, 4.637187541569553, 4.636918520231444, 4.636650542708224, 4.63638360494984, 4.63611770292196, 4.635852832605903, 4.635588989998581, 4.635326171112437, 4.635064371975388, 4.634803588630761, 4.634543817137235, 4.634285053568784, 4.63402729401461, 4.633770534579098, 4.633514771381739, 4.633260000557082, 4.63300621825468, 4.632753420639022, 4.632501603889478, 4.632250764200244, 4.632000897780282, 4.631752000853263, 4.631504069657511, 4.631257100445944, 4.631011089486021, 4.630766033059685, 4.630521927463301, 4.630278769007606, 4.630036554017648, 4.629795278832744, 4.629554939806404, 4.629315533306292, 4.629077055714162, 4.628839503425813, 4.6286028728510225, 4.6283671604135, 4.628132362550834, 4.6278984757144315, 4.627665496369467, 4.627433420994838, 4.627202246083095, 4.6269719681404045, 4.626742583686484, 4.626514089254557, 4.6262864813913005, 4.626059756656785, 4.625833911624433, 4.6256089428809615, 4.625384847026327, 4.625161620673685, 4.6249392604493265, 4.624717762992636, 4.6244971249560365, 4.624277343004938, 4.624058413817692, 4.623840334085534, 4.6236231005125425, 4.62340670981558, 4.623191158724251, 4.622976443980846, 4.6227625623403, 4.622549510570136, 4.622337285450418, 4.622125883773706, 4.621915302345002, 4.62170553798171, 4.6214965875135805, 4.621288447782661, 4.621081115643254, 4.620874587961871, 4.620668861617175, 4.620463933499946, 4.620259800513026, 4.620056459571273, 4.619853907601517, 4.619652141542508, 4.619451158344881, 4.619250954971095, 4.619051528395403, 4.618852875603789, 4.618654993593936, 4.61845787937518, 4.618261529968454, 4.618065942406255, 4.61787111373259, 4.617677041002937, 4.617483721284201, 4.617291151654666, 4.617099329203951, 4.616908251032968, 4.616717914253881, 4.616528315990053, 4.616339453376015, 4.616151323557407, 4.615963923690957, 4.6157772509444115, 4.615591302496516, 4.615406075536959, 4.615221567266332, 4.615037774896089, 4.614854695648507, 4.6146723267566365, 4.614490665464266, 4.6143097090258784, 4.614129454706604, 4.613949899782195, 4.613771041538966, 4.61359287727376, 4.613415404293914, 4.613238619917208, 4.613062521471833, 4.612887106296342, 4.612712371739621, 4.612538315160834, 4.612364933929396, 4.612192225424934, 4.612020187037235, 4.611848816166213, 4.611678110221875, 4.611508066624276, 4.611338682803482, 4.611169956199528, 4.611001884262382, 4.610834464451907, 4.6106676942378275, 4.610501571099675, 4.610336092526765, 4.610171256018161, 4.61000705908262, 4.6098434992385675, 4.609680574014068, 4.609518280946762, 4.609356617583856, 4.609195581482065, 4.609035170207591, 4.608875381336071, 4.608716212452558, 4.608557661151469, 4.608399725036555, 4.608242401720869, 4.608085688826721, 4.607929583985648, 4.607774084838376, 4.607619189034786, 4.607464894233879, 4.607311198103736, 4.607158098321489, 4.607005592573281, 4.606853678554231, 4.606702353968404, 4.606551616528774, 4.606401463957186, 4.60625189398433, 4.606102904349691, 4.605954492801532, 4.605806657096853, 4.605659395001356, 4.605512704289409, 4.6053665827440184, 4.605221028156795, 4.605076038327913, 4.604931611066086, 4.6047877441885285, 4.6046444355209255, 4.604501682897393, 4.60435948416046, 4.604217837161017, 4.604076739758303, 4.603936189819853, 4.603796185221485, 4.603656723847253, 4.603517803589421, 4.603379422348436, 4.603241578032888, 4.603104268559482, 4.602967491853005, 4.602831245846299, 4.602695528480226, 4.602560337703633, 4.602425671473332, 4.60229152775406, 4.602157904518448, 4.602024799746998, 4.601892211428047, 4.601760137557735, 4.6016285761399764, 4.601497525186433, 4.60136698271648, 4.601236946757183, 4.601107415343252, 4.600978386517032, 4.600849858328457, 4.600721828835034, 4.600594296101802, 4.6004672582013075, 4.600340713213579, 4.60021465922609, 4.600089094333742, 4.599964016638823, 4.599839424250979, 4.599715315287206, 4.599591687871788, 4.599468540136305, 4.59934587021957, 4.599223676267625, 4.599101956433711, 4.598980708878222, 4.598859931768701, 4.598739623279793, 4.598619781593234, 4.5985004048978055, 4.598381491389322, 4.598263039270596, 4.59814504675142, 4.598027512048519, 4.597910433385551, 4.597793808993061, 4.597677637108457, 4.597561915975986, 4.5974466438467125, 4.597331818978483, 4.597217439635905, 4.59710350409032, 4.5969900106197725, 4.596876957508995, 4.59676434304937, 4.596652165538908, 4.5965404232822324, 4.596429114590537, 4.596318237781569, 4.596207791179605, 4.596097773115422, 4.595988181926275, 4.595879015955869, 4.595770273554334, 4.595661953078208, 4.595554052890398, 4.595446571360169, 4.595339506863109, 4.595232857781111, 4.595126622502348, 4.59502079942124, 4.594915386938445, 4.594810383460825, 4.594705787401416, 4.5946015971794205, 4.594497811220172, 4.59439442795511, 4.594291445821766, 4.594188863263729, 4.594086678730629, 4.593984890678111, 4.593883497567813, 4.593782497867343, 4.593681890050249, 4.593581672596011, 4.59348184399, 4.59338240272347, 4.593283347293523, 4.593184676203098, 4.59308638796094, 4.592988481081582, 4.592890954085317, 4.5927938054981805, 4.59269703385193, 4.592600637684021, 4.5925046155375755, 4.592408965961375, 4.59231368750983, 4.592218778742962, 4.592124238226376, 4.592030064531244, 4.591936256234283, 4.591842811917733, 4.59174973016933, 4.591657009582299, 4.591564648755312, 4.591472646292486, 4.591381000803355, 4.5912897109028386, 4.591198775211241, 4.591108192354218, 4.59101796096275, 4.590928079673137, 4.590838547126973, 4.590749361971109, 4.590660522857661, 4.590572028443967, 4.590483877392578, 4.59039606837123, 4.590308600052834, 4.590221471115445, 4.59013468024225, 4.590048226121547, 4.589962107446717, 4.589876322916218, 4.589790871233553, 4.589705751107261, 4.589620961250884, 4.589536500382962, 4.589452367227006, 4.589368560511476, 4.589285078969771, 4.5892019213402016, 4.589119086365973, 4.589036572795169, 4.58895437938073, 4.588872504880434, 4.588790948056879, 4.588709707677466, 4.588628782514379, 4.588548171344561, 4.588467872949709, 4.588387886116237, 4.588308209635276, 4.588228842302644, 4.58814978291883, 4.588071030288978, 4.587992583222872, 4.5879144405349095, 4.58783660104409, 4.587759063573993, 4.587681826952768, 4.587604890013106, 4.587528251592229, 4.587451910531868, 4.587375865678253, 4.587300115882093, 4.587224659998543, 4.587149496887218, 4.587074625412142, 4.587000044441755, 4.586925752848887, 4.586851749510739, 4.586778033308871, 4.58670460312918, 4.586631457861886, 4.58655859640152, 4.5864860176468945, 4.586413720501101, 4.586341703871484, 4.586269966669626, 4.586198507811338, 4.586127326216632, 4.586056420809714, 4.585985790518962, 4.585915434276915, 4.585845351020251, 4.58577553968977, 4.585705999230393, 4.5856367285911235, 4.585567726725049, 4.585498992589319, 4.5854305251451235, 4.585362323357689, 4.585294386196259, 4.585226712634068, 4.585159301648342, 4.58509215222027, 4.585025263334998, 4.584958633981608, 4.584892263153105, 4.584826149846401, 4.5847602930623, 4.584694691805481, 4.584629345084488, 4.58456425191171, 4.58449941130337, 4.584434822279504, 4.584370483863957, 4.584306395084353, 4.5842425549720955, 4.584178962562344, 4.5841156168940005, 4.5840525170097, 4.583989661955785, 4.583927050782307, 4.583864682542998, 4.583802556295258, 4.583740671100156, 4.583679026022391, 4.5836176201303, 4.583556452495831, 4.583495522194534, 4.583434828305545, 4.583374369911574, 4.583314146098892, 4.583254155957308, 4.583194398580171, 4.583134873064345, 4.583075578510194, 4.583016514021582, 4.5829576787058395, 4.582899071673768, 4.582840692039617, 4.582782538921069, 4.582724611439235, 4.582666908718637, 4.582609429887189, 4.5825521740761905, 4.582495140420312, 4.582438328057585, 4.582381736129378, 4.582325363780396, 4.582269210158664, 4.582213274415508, 4.5821575557055505, 4.582102053186693, 4.582046766020103, 4.581991693370208, 4.581936834404666, 4.5818821882943785, 4.581827754213459, 4.581773531339216, 4.581719518852165, 4.581665715935992, 4.581612121777555, 4.581558735566859, 4.581505556497062, 4.581452583764446, 4.581399816568415, 4.581347254111477, 4.581294895599235, 4.5812427402403735, 4.581190787246649, 4.581139035832877, 4.581087485216917, 4.581036134619665, 4.580984983265039, 4.580934030379969, 4.580883275194381, 4.580832716941197, 4.58078235485631, 4.580732188178573, 4.580682216149806, 4.580632438014753, 4.580582853021103, 4.580533460419459, 4.580484259463328, 4.580435249409121, 4.580386429516127, 4.580337799046512, 4.580289357265308, 4.580241103440389, 4.580193036842483, 4.580145156745136, 4.58009746242472, 4.580049953160413, 4.580002628234186, 4.5799554869308015, 4.579908528537794, 4.579861752345458, 4.579815157646856, 4.579768743737778, 4.579722509916755, 4.579676455485034, 4.57963057974658, 4.579584882008054, 4.5795393615788065, 4.579494017770874, 4.579448849898951, 4.579403857280405, 4.579359039235241, 4.579314395086106, 4.579269924158278, 4.5792256257796495, 4.579181499280719, 4.579137543994592, 4.57909375925695, 4.579050144406059, 4.579006698782749, 4.578963421730412, 4.578920312594983, 4.578877370724937, 4.578834595471279, 4.578791986187526, 4.578749542229713, 4.578707262956362, 4.5786651477284925, 4.578623195909602, 4.578581406865655, 4.578539779965077, 4.578498314578744, 4.578457010079973, 4.578415865844516, 4.578374881250541, 4.578334055678637, 4.578293388511782, 4.578252879135366, 4.578212526937152, 4.578172331307281, 4.578132291638261, 4.578092407324956, 4.57805267776458, 4.578013102356685, 4.577973680503152, 4.577934411608182, 4.577895295078292, 4.577856330322294, 4.5778175167513036, 4.577778853778713, 4.577740340820193, 4.577701977293685, 4.577663762619383, 4.577625696219737, 4.577587777519433, 4.57755000594539, 4.577512380926753, 4.577474901894879, 4.577437568283336, 4.577400379527883, 4.577363335066472, 4.5773264343392395, 4.577289676788485, 4.57725306185868, 4.577216588996451, 4.577180257650565, 4.577144067271935, 4.577108017313602, 4.577072107230728, 4.57703633648059, 4.57700070452257, 4.576965210818149, 4.576929854830897, 4.576894636026466, 4.57685955387258, 4.5768246078390264, 4.576789797397657, 4.576755122022362, 4.576720581189084, 4.5766861743757925, 4.576651901062482, 4.576617760731167, 4.576583752865875, 4.57654987695263, 4.576516132479449, 4.5764825189363405, 4.576449035815293, 4.57641568261026, 4.57638245881716, 4.576349363933874, 4.576316397460221, 4.576283558897968, 4.5762508477508135, 4.576218263524379, 4.57618580572621, 4.576153473865757, 4.576121267454376, 4.576089186005317, 4.576057229033727, 4.57602539605662, 4.575993686592897, 4.575962100163318, 4.575930636290505, 4.575899294498935, 4.5758680743149265, 4.575836975266633, 4.575805996884045, 4.575775138698976, 4.57574440024505, 4.5757137810577095, 4.575683280674191, 4.575652898633534, 4.5756226344765585, 4.575592487745873, 4.575562457985859, 4.575532544742664, 4.575502747564196, 4.5754730660001215, 4.575443499601847, 4.575414047922531, 4.575384710517053, 4.575355486942029, 4.575326376755788, 4.575297379518379, 4.575268494791555, 4.57523972213877, 4.575211061125169, 4.5751825113175935, 4.575154072284552, 4.575125743596239, 4.575097524824508, 4.575069415542882, 4.575041415326532, 4.575013523752279, 4.574985740398589, 4.574958064845562, 4.574930496674924, 4.574903035470026, 4.574875680815838, 4.574848432298937, 4.574821289507511, 4.5747942520313325, 4.574767319461779, 4.574740491391805, 4.5747137674159495, 4.574687147130321, 4.574660630132599, 4.57463421602202, 4.574607904399376, 4.574581694867011, 4.574555587028811, 4.574529580490196, 4.5745036748581205, 4.574477869741064, 4.574452164749018, 4.5744265594935, 4.574401053587524, 4.57437564664561, 4.574350338283772, 4.574325128119516, 4.574300015771832, 4.574275000861184, 4.574250083009515, 4.5742252618402315, 4.574200536978199, 4.574175908049744, 4.574151374682637, 4.5741269365061, 4.574102593150786, 4.574078344248784, 4.574054189433612, 4.574030128340211, 4.574006160604932, 4.573982285865544, 4.573958503761217, 4.573934813932525, 4.573911216021436, 4.5738877096712995, 4.573864294526861, 4.573840970234232, 4.573817736440908, 4.573794592795751, 4.573771538948973, 4.573748574552159, 4.573725699258236, 4.573702912721484, 4.573680214597516, 4.573657604543292, 4.573635082217093, 4.573612647278534, 4.573590299388543, 4.5735680382093715, 4.5735458634045765, 4.57352377463902, 4.5735017715788695, 4.573479853891578, 4.573458021245901, 4.573436273311869, 4.5734146097608, 4.573393030265282, 4.573371534499179, 4.573350122137614, 4.573328792856972, 4.573307546334901, 4.57328638225029, 4.573265300283278, 4.573244300115246, 4.573223381428812, 4.573202543907819, 4.573181787237347, 4.573161111103688, 4.573140515194358, 4.573119999198081, 4.573099562804793, 4.573079205705629, 4.573058927592924, 4.573038728160212, 4.5730186071022025, 4.572998564114805, 4.572978598895101, 4.572958711141345, 4.572938900552967, 4.572919166830564, 4.572899509675891, 4.572879928791862, 4.572860423882542, 4.572840994653149, 4.572821640810038, 4.572802362060709, 4.572783158113794, 4.5727640286790585, 4.572744973467387, 4.5727259921907955, 4.572707084562408, 4.57268825029647, 4.572669489108332, 4.572650800714445, 4.572632184832369, 4.572613641180752, 4.572595169479336, 4.572576769448952, 4.572558440811513, 4.5725401832900125, 4.572521996608514, 4.5725038804921585, 4.572485834667152, 4.572467858860753, 4.572449952801294, 4.572432116218148, 4.572414348841749, 4.57239665040357, 4.572379020636125, 4.572361459272969, 4.572343966048695, 4.572326540698916, 4.572309182960277, 4.572291892570444, 4.572274669268102, 4.572257512792948, 4.572240422885689, 4.572223399288037, 4.5722064417427095, 4.5721895499934195, 4.572172723784879, 4.572155962862782, 4.572139266973817, 4.572122635865652]\n"
     ]
    }
   ],
   "source": [
    "theta, J_history = gradient_descent(x_train_ws, y_train, theta, 1500, 0.01)\n",
    "print(theta, J_history)"
   ]
  },
  {
   "cell_type": "code",
   "execution_count": 30,
   "metadata": {},
   "outputs": [
    {
     "name": "stdout",
     "output_type": "stream",
     "text": [
      "The equation y => -3.57 + 1.15 * x\n"
     ]
    }
   ],
   "source": [
    "print(f\"The equation y => {theta[0][0]:.2f} + {theta[1][0]:.2f} * x\")"
   ]
  },
  {
   "cell_type": "code",
   "execution_count": 35,
   "metadata": {},
   "outputs": [
    {
     "data": {
      "image/png": "[encoded data removed]",
      "text/plain": [
       "<Figure size 1080x720 with 1 Axes>"
      ]
     },
     "metadata": {
      "needs_background": "light"
     },
     "output_type": "display_data"
    }
   ],
   "source": [
    "plt.figure(figsize=(15,10))\n",
    "plt.plot(J_history,color=\"blue\")\n",
    "plt.xlabel(\"Iterations\")\n",
    "plt.ylabel(\"Cost\")\n",
    "plt.title(\"J vs Iterations\")\n",
    "plt.show()"
   ]
  },
  {
   "cell_type": "code",
   "execution_count": 33,
   "metadata": {},
   "outputs": [
    {
     "data": {
      "image/png": "[encoded data removed]",
      "text/plain": [
       "<Figure size 1080x720 with 1 Axes>"
      ]
     },
     "metadata": {
      "needs_background": "light"
     },
     "output_type": "display_data"
    }
   ],
   "source": [
    "plt.figure(figsize=(15,10))\n",
    "plt.scatter(x_train, y_train, marker=\"x\", color=\"red\",s=70)\n",
    "plt.plot(x_train,x_train_ws.dot(theta),color=\"blue\")\n",
    "plt.xlabel(\"Population in 10,000s\")\n",
    "plt.ylabel(\"Profit in 10,000s\")\n",
    "plt.title(\"Population vs Profit\")\n",
    "plt.show()"
   ]
  },
  {
   "cell_type": "code",
   "execution_count": 34,
   "metadata": {},
   "outputs": [
    {
     "data": {
      "image/png": "[encoded data removed]",
      "text/plain": [
       "<Figure size 1080x720 with 1 Axes>"
      ]
     },
     "metadata": {
      "needs_background": "light"
     },
     "output_type": "display_data"
    }
   ],
   "source": [
    "plt.figure(figsize=(15,10))\n",
    "plt.scatter(x_test, y_test, marker=\"x\", color=\"red\",s=70)\n",
    "plt.plot(x_test,x_test_ws.dot(theta),color=\"blue\")\n",
    "plt.xlabel(\"Population in 10,000s\")\n",
    "plt.ylabel(\"Profit in 10,000s\")\n",
    "plt.title(\"Population vs Profit\")\n",
    "plt.show()"
   ]
  },
  {
   "cell_type": "code",
   "execution_count": 36,
   "metadata": {},
   "outputs": [
    {
     "data": {
      "text/plain": [
       "(6.093757012987013,\n",
       " array([[ 2.4406 ],\n",
       "        [17.929  ],\n",
       "        [11.854  ],\n",
       "        [ 6.7981 ],\n",
       "        [ 1.0463 ],\n",
       "        [ 8.0043 ],\n",
       "        [ 4.3483 ],\n",
       "        [ 0.61705],\n",
       "        [ 0.47953],\n",
       "        [ 0.29678],\n",
       "        [ 5.1694 ],\n",
       "        [ 2.0576 ],\n",
       "        [ 4.2415 ],\n",
       "        [ 7.2029 ],\n",
       "        [ 1.8396 ],\n",
       "        [ 7.0467 ],\n",
       "        [ 3.6518 ],\n",
       "        [ 2.4756 ],\n",
       "        [12.054  ],\n",
       "        [ 3.3411 ],\n",
       "        [ 9.1302 ],\n",
       "        [-0.74279],\n",
       "        [ 5.3854 ],\n",
       "        [ 3.9115 ],\n",
       "        [ 6.8233 ],\n",
       "        [ 3.5129 ],\n",
       "        [ 0.56077],\n",
       "        [ 0.55657],\n",
       "        [10.117  ],\n",
       "        [11.886  ],\n",
       "        [ 0.152  ],\n",
       "        [ 5.4141 ],\n",
       "        [17.592  ],\n",
       "        [ 6.5426 ],\n",
       "        [14.692  ],\n",
       "        [ 6.7504 ],\n",
       "        [15.505  ],\n",
       "        [ 4.5623 ],\n",
       "        [ 5.1875 ],\n",
       "        [ 4.2885 ],\n",
       "        [ 3.2522 ],\n",
       "        [ 5.9966 ],\n",
       "        [ 1.8451 ],\n",
       "        [ 4.6042 ],\n",
       "        [ 3.8845 ],\n",
       "        [12.134  ],\n",
       "        [ 0.67861],\n",
       "        [ 0.71618],\n",
       "        [-2.6807 ],\n",
       "        [ 5.3893 ],\n",
       "        [24.147  ],\n",
       "        [ 1.0179 ],\n",
       "        [ 0.14454],\n",
       "        [ 9.0551 ],\n",
       "        [20.992  ],\n",
       "        [ 3.1386 ],\n",
       "        [ 4.2959 ],\n",
       "        [ 1.2784 ],\n",
       "        [ 5.7014 ],\n",
       "        [22.638  ],\n",
       "        [ 3.3928 ],\n",
       "        [ 5.1337 ],\n",
       "        [ 5.4974 ],\n",
       "        [ 4.8852 ],\n",
       "        [ 3.9624 ],\n",
       "        [ 3.1551 ],\n",
       "        [ 6.6799 ],\n",
       "        [ 0.92695],\n",
       "        [ 4.1164 ],\n",
       "        [21.767  ],\n",
       "        [ 7.5435 ],\n",
       "        [ 3.8166 ],\n",
       "        [ 1.9869 ],\n",
       "        [ 7.7754 ],\n",
       "        [17.054  ],\n",
       "        [ 1.844  ],\n",
       "        [ 6.7318 ]]))"
      ]
     },
     "execution_count": 36,
     "metadata": {},
     "output_type": "execute_result"
    }
   ],
   "source": [
    "y_mean = np.mean(y_train)\n",
    "y_mean,y_train"
   ]
  },
  {
   "cell_type": "code",
   "execution_count": 41,
   "metadata": {},
   "outputs": [
    {
     "name": "stdout",
     "output_type": "stream",
     "text": [
      "16.44140421711697\n"
     ]
    }
   ],
   "source": [
    "J_mean = np.sum((y_train - y_mean)**2/(len(y_train)*2))\n",
    "print(J_mean)"
   ]
  },
  {
   "cell_type": "code",
   "execution_count": 42,
   "metadata": {},
   "outputs": [
    {
     "name": "stdout",
     "output_type": "stream",
     "text": [
      "0.7219141032305705\n"
     ]
    }
   ],
   "source": [
    "r2_score_ws = (J_mean - J_history[-1])/J_mean\n",
    "print(r2_score_ws)"
   ]
  },
  {
   "cell_type": "code",
   "execution_count": 43,
   "metadata": {},
   "outputs": [
    {
     "data": {
      "text/plain": [
       "array([[11.23095229],\n",
       "       [ 3.84605479],\n",
       "       [ 6.18913145],\n",
       "       [ 3.66237124],\n",
       "       [ 2.65679157],\n",
       "       [ 2.29293436],\n",
       "       [ 3.66997597],\n",
       "       [ 8.24287729],\n",
       "       [ 3.63183531],\n",
       "       [ 5.92764564],\n",
       "       [ 5.11803409],\n",
       "       [ 2.14200966],\n",
       "       [ 4.80378313],\n",
       "       [ 6.06020198],\n",
       "       [ 6.25874401],\n",
       "       [ 2.36781173],\n",
       "       [ 2.64591096],\n",
       "       [ 2.73342388],\n",
       "       [ 3.11588344],\n",
       "       [ 3.81130701]])"
      ]
     },
     "execution_count": 43,
     "metadata": {},
     "output_type": "execute_result"
    }
   ],
   "source": [
    "y_pred_ws = x_test_ws.dot(theta)\n",
    "y_pred"
   ]
  },
  {
   "cell_type": "code",
   "execution_count": 44,
   "metadata": {},
   "outputs": [
    {
     "data": {
      "text/plain": [
       "4.858840500000001"
      ]
     },
     "execution_count": 44,
     "metadata": {},
     "output_type": "execute_result"
    }
   ],
   "source": [
    "y_test_mean = np.mean(y_test)\n",
    "y_test_mean"
   ]
  },
  {
   "cell_type": "code",
   "execution_count": 45,
   "metadata": {},
   "outputs": [
    {
     "data": {
      "text/plain": [
       "8.966479090882377"
      ]
     },
     "execution_count": 45,
     "metadata": {},
     "output_type": "execute_result"
    }
   ],
   "source": [
    "J_test_mean = np.sum((y_test - y_test_mean)**2/(len(y_test)*2))\n",
    "J_test_mean"
   ]
  },
  {
   "cell_type": "code",
   "execution_count": 46,
   "metadata": {},
   "outputs": [
    {
     "data": {
      "text/plain": [
       "4.178498179111123"
      ]
     },
     "execution_count": 46,
     "metadata": {},
     "output_type": "execute_result"
    }
   ],
   "source": [
    "J_test = cost_function(x_test_ws, y_test, theta)\n",
    "J_test"
   ]
  },
  {
   "cell_type": "code",
   "execution_count": 47,
   "metadata": {},
   "outputs": [
    {
     "data": {
      "text/plain": [
       "0.5339867369612163"
      ]
     },
     "execution_count": 47,
     "metadata": {},
     "output_type": "execute_result"
    }
   ],
   "source": [
    "r2_score_test_ws = (J_test_mean - J_test)/J_test_mean\n",
    "r2_score_test_ws"
   ]
  },
  {
   "cell_type": "code",
   "execution_count": null,
   "metadata": {},
   "outputs": [],
   "source": []
  }
 ],
 "metadata": {
  "kernelspec": {
   "display_name": "Python 3.10.2 64-bit",
   "language": "python",
   "name": "python3"
  },
  "language_info": {
   "codemirror_mode": {
    "name": "ipython",
    "version": 3
   },
   "file_extension": ".py",
   "mimetype": "text/x-python",
   "name": "python",
   "nbconvert_exporter": "python",
   "pygments_lexer": "ipython3",
   "version": "3.10.2"
  },
  "orig_nbformat": 4,
  "vscode": {
   "interpreter": {
    "hash": "369f2c481f4da34e4445cda3fffd2e751bd1c4d706f27375911949ba6bb62e1c"
   }
  }
 },
 "nbformat": 4,
 "nbformat_minor": 2
}
