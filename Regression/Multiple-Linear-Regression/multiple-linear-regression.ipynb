{
 "cells": [
  {
   "cell_type": "markdown",
   "metadata": {},
   "source": [
    "# Multiple Linear Regression"
   ]
  },
  {
   "cell_type": "code",
   "execution_count": 50,
   "metadata": {},
   "outputs": [],
   "source": [
    "import pandas as pd\n",
    "import numpy as np\n",
    "import matplotlib.pyplot as plt\n",
    "np.set_printoptions(precision=2)"
   ]
  },
  {
   "cell_type": "code",
   "execution_count": 51,
   "metadata": {},
   "outputs": [
    {
     "data": {
      "text/html": [
       "<div>\n",
       "<style scoped>\n",
       "    .dataframe tbody tr th:only-of-type {\n",
       "        vertical-align: middle;\n",
       "    }\n",
       "\n",
       "    .dataframe tbody tr th {\n",
       "        vertical-align: top;\n",
       "    }\n",
       "\n",
       "    .dataframe thead th {\n",
       "        text-align: right;\n",
       "    }\n",
       "</style>\n",
       "<table border=\"1\" class=\"dataframe\">\n",
       "  <thead>\n",
       "    <tr style=\"text-align: right;\">\n",
       "      <th></th>\n",
       "      <th>Size,Bedrooms,Price</th>\n",
       "    </tr>\n",
       "  </thead>\n",
       "  <tbody>\n",
       "    <tr>\n",
       "      <th>0</th>\n",
       "      <td>2104,3,399900</td>\n",
       "    </tr>\n",
       "    <tr>\n",
       "      <th>1</th>\n",
       "      <td>1600,3,329900</td>\n",
       "    </tr>\n",
       "    <tr>\n",
       "      <th>2</th>\n",
       "      <td>2400,3,369000</td>\n",
       "    </tr>\n",
       "    <tr>\n",
       "      <th>3</th>\n",
       "      <td>1416,2,232000</td>\n",
       "    </tr>\n",
       "    <tr>\n",
       "      <th>4</th>\n",
       "      <td>3000,4,539900</td>\n",
       "    </tr>\n",
       "  </tbody>\n",
       "</table>\n",
       "</div>"
      ],
      "text/plain": [
       "  Size,Bedrooms,Price\n",
       "0       2104,3,399900\n",
       "1       1600,3,329900\n",
       "2       2400,3,369000\n",
       "3       1416,2,232000\n",
       "4       3000,4,539900"
      ]
     },
     "execution_count": 51,
     "metadata": {},
     "output_type": "execute_result"
    }
   ],
   "source": [
    "data = pd.read_csv(\"ex1data2.csv\")\n",
    "data.head()"
   ]
  },
  {
   "cell_type": "code",
   "execution_count": 52,
   "metadata": {},
   "outputs": [
    {
     "data": {
      "text/plain": [
       "Size,Bedrooms,Price    object\n",
       "dtype: object"
      ]
     },
     "execution_count": 52,
     "metadata": {},
     "output_type": "execute_result"
    }
   ],
   "source": [
    "data.dtypes"
   ]
  },
  {
   "cell_type": "code",
   "execution_count": 53,
   "metadata": {},
   "outputs": [
    {
     "data": {
      "text/plain": [
       "array(['2104,3,399900', '1600,3,329900', '2400,3,369000', '1416,2,232000',\n",
       "       '3000,4,539900', '1985,4,299900', '1534,3,314900', '1427,3,198999',\n",
       "       '1380,3,212000', '1494,3,242500', '1940,4,239999', '2000,3,347000',\n",
       "       '1890,3,329999', '4478,5,699900', '1268,3,259900', '2300,4,449900',\n",
       "       '1320,2,299900', '1236,3,199900', '2609,4,499998', '3031,4,599000',\n",
       "       '1767,3,252900', '1888,2,255000', '1604,3,242900', '1962,4,259900',\n",
       "       '3890,3,573900', '1100,3,249900', '1458,3,464500', '2526,3,469000',\n",
       "       '2200,3,475000', '2637,3,299900', '1839,2,349900', '1000,1,169900',\n",
       "       '2040,4,314900', '3137,3,579900', '1811,4,285900', '1437,3,249900',\n",
       "       '1239,3,229900', '2132,4,345000', '4215,4,549000', '2162,4,287000',\n",
       "       '1664,2,368500', '2238,3,329900', '2567,4,314000', '1200,3,299000',\n",
       "       '852,2,179900', '1852,4,299900', '1203,3,239500'], dtype=object)"
      ]
     },
     "execution_count": 53,
     "metadata": {},
     "output_type": "execute_result"
    }
   ],
   "source": [
    "d = data.iloc[:,-1].values\n",
    "d"
   ]
  },
  {
   "cell_type": "code",
   "execution_count": 54,
   "metadata": {},
   "outputs": [
    {
     "name": "stdout",
     "output_type": "stream",
     "text": [
      "[2104.0, 1600.0, 2400.0, 1416.0, 3000.0, 1985.0, 1534.0, 1427.0, 1380.0, 1494.0, 1940.0, 2000.0, 1890.0, 4478.0, 1268.0, 2300.0, 1320.0, 1236.0, 2609.0, 3031.0, 1767.0, 1888.0, 1604.0, 1962.0, 3890.0, 1100.0, 1458.0, 2526.0, 2200.0, 2637.0, 1839.0, 1000.0, 2040.0, 3137.0, 1811.0, 1437.0, 1239.0, 2132.0, 4215.0, 2162.0, 1664.0, 2238.0, 2567.0, 1200.0, 852.0, 1852.0, 1203.0] [3.0, 3.0, 3.0, 2.0, 4.0, 4.0, 3.0, 3.0, 3.0, 3.0, 4.0, 3.0, 3.0, 5.0, 3.0, 4.0, 2.0, 3.0, 4.0, 4.0, 3.0, 2.0, 3.0, 4.0, 3.0, 3.0, 3.0, 3.0, 3.0, 3.0, 2.0, 1.0, 4.0, 3.0, 4.0, 3.0, 3.0, 4.0, 4.0, 4.0, 2.0, 3.0, 4.0, 3.0, 2.0, 4.0, 3.0] [399900.0, 329900.0, 369000.0, 232000.0, 539900.0, 299900.0, 314900.0, 198999.0, 212000.0, 242500.0, 239999.0, 347000.0, 329999.0, 699900.0, 259900.0, 449900.0, 299900.0, 199900.0, 499998.0, 599000.0, 252900.0, 255000.0, 242900.0, 259900.0, 573900.0, 249900.0, 464500.0, 469000.0, 475000.0, 299900.0, 349900.0, 169900.0, 314900.0, 579900.0, 285900.0, 249900.0, 229900.0, 345000.0, 549000.0, 287000.0, 368500.0, 329900.0, 314000.0, 299000.0, 179900.0, 299900.0, 239500.0]\n"
     ]
    }
   ],
   "source": [
    "size = []\n",
    "bedrooms = []\n",
    "price = []\n",
    "for i in d:\n",
    "    lst = i.split(\",\")\n",
    "    size.append(float(lst[0]))\n",
    "    bedrooms.append(float(lst[1]))        \n",
    "    price.append(float(lst[2]))\n",
    "print(size,bedrooms,price)"
   ]
  },
  {
   "cell_type": "code",
   "execution_count": 55,
   "metadata": {},
   "outputs": [
    {
     "data": {
      "text/plain": [
       "(array([[2.10e+03, 3.00e+00],\n",
       "        [1.60e+03, 3.00e+00],\n",
       "        [2.40e+03, 3.00e+00],\n",
       "        [1.42e+03, 2.00e+00],\n",
       "        [3.00e+03, 4.00e+00],\n",
       "        [1.98e+03, 4.00e+00],\n",
       "        [1.53e+03, 3.00e+00],\n",
       "        [1.43e+03, 3.00e+00],\n",
       "        [1.38e+03, 3.00e+00],\n",
       "        [1.49e+03, 3.00e+00],\n",
       "        [1.94e+03, 4.00e+00],\n",
       "        [2.00e+03, 3.00e+00],\n",
       "        [1.89e+03, 3.00e+00],\n",
       "        [4.48e+03, 5.00e+00],\n",
       "        [1.27e+03, 3.00e+00],\n",
       "        [2.30e+03, 4.00e+00],\n",
       "        [1.32e+03, 2.00e+00],\n",
       "        [1.24e+03, 3.00e+00],\n",
       "        [2.61e+03, 4.00e+00],\n",
       "        [3.03e+03, 4.00e+00],\n",
       "        [1.77e+03, 3.00e+00],\n",
       "        [1.89e+03, 2.00e+00],\n",
       "        [1.60e+03, 3.00e+00],\n",
       "        [1.96e+03, 4.00e+00],\n",
       "        [3.89e+03, 3.00e+00],\n",
       "        [1.10e+03, 3.00e+00],\n",
       "        [1.46e+03, 3.00e+00],\n",
       "        [2.53e+03, 3.00e+00],\n",
       "        [2.20e+03, 3.00e+00],\n",
       "        [2.64e+03, 3.00e+00],\n",
       "        [1.84e+03, 2.00e+00],\n",
       "        [1.00e+03, 1.00e+00],\n",
       "        [2.04e+03, 4.00e+00],\n",
       "        [3.14e+03, 3.00e+00],\n",
       "        [1.81e+03, 4.00e+00],\n",
       "        [1.44e+03, 3.00e+00],\n",
       "        [1.24e+03, 3.00e+00],\n",
       "        [2.13e+03, 4.00e+00],\n",
       "        [4.22e+03, 4.00e+00],\n",
       "        [2.16e+03, 4.00e+00],\n",
       "        [1.66e+03, 2.00e+00],\n",
       "        [2.24e+03, 3.00e+00],\n",
       "        [2.57e+03, 4.00e+00],\n",
       "        [1.20e+03, 3.00e+00],\n",
       "        [8.52e+02, 2.00e+00],\n",
       "        [1.85e+03, 4.00e+00],\n",
       "        [1.20e+03, 3.00e+00]]),\n",
       " array([[399900.],\n",
       "        [329900.],\n",
       "        [369000.],\n",
       "        [232000.],\n",
       "        [539900.],\n",
       "        [299900.],\n",
       "        [314900.],\n",
       "        [198999.],\n",
       "        [212000.],\n",
       "        [242500.],\n",
       "        [239999.],\n",
       "        [347000.],\n",
       "        [329999.],\n",
       "        [699900.],\n",
       "        [259900.],\n",
       "        [449900.],\n",
       "        [299900.],\n",
       "        [199900.],\n",
       "        [499998.],\n",
       "        [599000.],\n",
       "        [252900.],\n",
       "        [255000.],\n",
       "        [242900.],\n",
       "        [259900.],\n",
       "        [573900.],\n",
       "        [249900.],\n",
       "        [464500.],\n",
       "        [469000.],\n",
       "        [475000.],\n",
       "        [299900.],\n",
       "        [349900.],\n",
       "        [169900.],\n",
       "        [314900.],\n",
       "        [579900.],\n",
       "        [285900.],\n",
       "        [249900.],\n",
       "        [229900.],\n",
       "        [345000.],\n",
       "        [549000.],\n",
       "        [287000.],\n",
       "        [368500.],\n",
       "        [329900.],\n",
       "        [314000.],\n",
       "        [299000.],\n",
       "        [179900.],\n",
       "        [299900.],\n",
       "        [239500.]]))"
      ]
     },
     "execution_count": 55,
     "metadata": {},
     "output_type": "execute_result"
    }
   ],
   "source": [
    "x = np.c_[size, bedrooms]\n",
    "y = np.array(price)\n",
    "y = y.reshape(-1,1)\n",
    "x,y"
   ]
  },
  {
   "cell_type": "markdown",
   "metadata": {},
   "source": [
    "### Splitting the data into train data and test data"
   ]
  },
  {
   "cell_type": "code",
   "execution_count": 56,
   "metadata": {},
   "outputs": [
    {
     "name": "stdout",
     "output_type": "stream",
     "text": [
      "Shape of x_train (37, 2)\n",
      "Shape of y_train (37, 1)\n",
      "Shape of x_test (10, 2)\n",
      "Shape of y_test (10, 1)\n"
     ]
    }
   ],
   "source": [
    "from sklearn.model_selection import train_test_split\n",
    "x_train,x_test,y_train,y_test = train_test_split(x,y,train_size=0.8,random_state=1)\n",
    "print(\"Shape of x_train\", x_train.shape)\n",
    "print(\"Shape of y_train\", y_train.shape)\n",
    "print(\"Shape of x_test\", x_test.shape)\n",
    "print(\"Shape of y_test\", y_test.shape)"
   ]
  },
  {
   "cell_type": "code",
   "execution_count": 57,
   "metadata": {},
   "outputs": [
    {
     "name": "stdout",
     "output_type": "stream",
     "text": [
      "[[ 1.79 -0.87]\n",
      " [ 0.22 -0.87]\n",
      " [ 0.19 -0.87]\n",
      " [ 1.89 -0.87]\n",
      " [ 0.85 -0.87]\n",
      " [ 0.72 -0.87]\n",
      " [ 1.35 -0.87]\n",
      " [ 0.79 -0.87]\n",
      " [ 3.07 -0.87]\n",
      " [ 2.83 -0.87]\n",
      " [ 0.22 -0.87]\n",
      " [ 1.39 -0.87]\n",
      " [ 1.77 -0.87]\n",
      " [ 1.06 -0.87]\n",
      " [ 0.24 -0.87]\n",
      " [ 0.84 -0.87]\n",
      " [ 1.1  -0.87]\n",
      " [ 0.75 -0.87]\n",
      " [ 0.01 -0.87]\n",
      " [ 0.59 -0.87]\n",
      " [ 0.68 -0.87]\n",
      " [ 1.42 -0.87]\n",
      " [ 0.1  -0.87]\n",
      " [ 0.48 -0.87]\n",
      " [ 0.38 -0.87]\n",
      " [-0.12 -0.87]\n",
      " [ 0.54 -0.87]\n",
      " [ 0.29 -0.87]\n",
      " [ 0.98 -0.87]\n",
      " [ 1.15 -0.87]\n",
      " [ 0.87 -0.87]\n",
      " [ 0.89 -0.87]\n",
      " [ 0.44 -0.87]\n",
      " [ 0.34 -0.87]\n",
      " [ 0.79 -0.87]\n",
      " [ 0.18 -0.87]\n",
      " [ 1.   -0.87]] [[ 2.  ]\n",
      " [-0.87]\n",
      " [-0.8 ]\n",
      " [ 1.85]\n",
      " [-0.64]\n",
      " [-0.44]\n",
      " [ 0.98]\n",
      " [-0.68]\n",
      " [ 2.78]\n",
      " [ 1.61]\n",
      " [-1.11]\n",
      " [-0.22]\n",
      " [ 1.54]\n",
      " [ 1.03]\n",
      " [-0.64]\n",
      " [-0.8 ]\n",
      " [-0.1 ]\n",
      " [ 0.06]\n",
      " [-1.34]\n",
      " [ 0.2 ]\n",
      " [-0.7 ]\n",
      " [ 1.23]\n",
      " [-0.72]\n",
      " [-0.21]\n",
      " [-1.11]\n",
      " [-1.26]\n",
      " [-0.1 ]\n",
      " [-0.33]\n",
      " [ 0.45]\n",
      " [ 0.84]\n",
      " [-0.33]\n",
      " [ 0.04]\n",
      " [-0.78]\n",
      " [-1.01]\n",
      " [-0.1 ]\n",
      " [-0.34]\n",
      " [ 0.02]] [[ 2.55 -0.87]\n",
      " [ 0.54 -0.87]\n",
      " [ 1.03 -0.87]\n",
      " [ 0.39 -0.87]\n",
      " [ 1.24 -0.87]\n",
      " [ 0.37 -0.87]\n",
      " [ 1.45 -0.87]\n",
      " [ 0.92 -0.87]\n",
      " [ 0.76 -0.87]\n",
      " [ 0.41 -0.87]]\n"
     ]
    }
   ],
   "source": [
    "#Standardize the dataset\n",
    "x_train_new = (x_train - np.mean(x_train)) / np.std(x_train)\n",
    "y_train_new = (y_train - np.mean(y_train)) / np.std(y_train)\n",
    "x_test_new = (x_test - np.mean(x_train)) / np.std(x_train)\n",
    "print(x_train_new,y_train_new,x_test_new)"
   ]
  },
  {
   "cell_type": "markdown",
   "metadata": {},
   "source": [
    "### Using sklearn"
   ]
  },
  {
   "cell_type": "code",
   "execution_count": 58,
   "metadata": {},
   "outputs": [
    {
     "data": {
      "text/plain": [
       "LinearRegression()"
      ]
     },
     "execution_count": 58,
     "metadata": {},
     "output_type": "execute_result"
    }
   ],
   "source": [
    "from sklearn.linear_model import LinearRegression\n",
    "regressor = LinearRegression()\n",
    "regressor.fit(x_train_new,y_train_new)"
   ]
  },
  {
   "cell_type": "code",
   "execution_count": 59,
   "metadata": {},
   "outputs": [
    {
     "name": "stdout",
     "output_type": "stream",
     "text": [
      "[[599000.   490563.9 ]\n",
      " [229900.   231457.11]\n",
      " [239500.   225913.92]\n",
      " [579900.   523706.35]\n",
      " [259900.   325961.98]\n",
      " [285900.   302711.38]\n",
      " [469000.   429626.11]\n",
      " [255000.   348209.32]\n",
      " [699900.   696548.46]\n",
      " [549000.   672873.22]\n",
      " [199900.   230995.17]\n",
      " [314000.   419118.35]\n",
      " [539900.   485790.6 ]\n",
      " [475000.   379429.46]\n",
      " [259900.   235922.45]\n",
      " [239999.   322574.48]\n",
      " [329900.   385280.6 ]\n",
      " [349900.   340664.42]\n",
      " [169900.   228298.16]\n",
      " [368500.   313718.37]\n",
      " [252900.   312757.21]\n",
      " [499998.   425585.4 ]\n",
      " [249900.   210054.24]\n",
      " [314900.   276880.46]\n",
      " [198999.   260404.87]\n",
      " [179900.   188688.66]\n",
      " [329900.   287042.97]\n",
      " [299900.   260750.12]\n",
      " [399900.   364647.62]\n",
      " [449900.   378006.37]\n",
      " [299900.   329503.46]\n",
      " [347000.   348633.96]\n",
      " [242500.   270721.36]\n",
      " [212000.   253167.93]\n",
      " [329999.   331696.44]\n",
      " [299000.   225451.98]\n",
      " [345000.   352138.15]]\n"
     ]
    }
   ],
   "source": [
    "y_pred_train = regressor.predict(x_train_new)\n",
    "print(np.concatenate(((np.std(y_train)*y_train_new)+np.mean(y_train), (np.std(y_train)*y_pred_train)+np.mean(y_train)), axis=1))"
   ]
  },
  {
   "cell_type": "code",
   "execution_count": 60,
   "metadata": {},
   "outputs": [
    {
     "name": "stdout",
     "output_type": "stream",
     "text": [
      "[[573900.   639651.38]\n",
      " [242900.   287658.88]\n",
      " [287000.   356757.47]\n",
      " [249900.   261944.64]\n",
      " [369000.   410224.95]\n",
      " [232000.   275531.95]\n",
      " [299900.   446717.61]\n",
      " [314900.   337972.22]\n",
      " [299900.   309024.46]\n",
      " [464500.   265178.17]]\n"
     ]
    }
   ],
   "source": [
    "y_pred_test = regressor.predict(x_test_new)\n",
    "print(np.concatenate((y_test, (np.std(y_train)*y_pred_test)+np.mean(y_train)), axis=1))"
   ]
  },
  {
   "cell_type": "code",
   "execution_count": 61,
   "metadata": {},
   "outputs": [
    {
     "name": "stdout",
     "output_type": "stream",
     "text": [
      "R2Score = 0.27842578033086307\n",
      "MSE = 7683249339.883362\n",
      "MAE = 65540.54082322547\n"
     ]
    }
   ],
   "source": [
    "from sklearn.metrics import r2_score, mean_squared_error , mean_absolute_error\n",
    "print(\"R2Score =\", r2_score(y_test, (y_pred_test*np.std(y_train)) + np.mean(y_train)))\n",
    "print(\"MSE =\", mean_squared_error(y_test, (y_pred_test*np.std(y_train)) + np.mean(y_train)))\n",
    "print(\"MAE =\", mean_absolute_error(y_test, (y_pred_test*np.std(y_train)) + np.mean(y_train)))"
   ]
  },
  {
   "cell_type": "code",
   "execution_count": 62,
   "metadata": {},
   "outputs": [
    {
     "data": {
      "image/png": "[encoded data removed]",
      "text/plain": [
       "<Figure size 1080x720 with 1 Axes>"
      ]
     },
     "metadata": {
      "needs_background": "light"
     },
     "output_type": "display_data"
    }
   ],
   "source": [
    "plt.figure(figsize=(15,10))\n",
    "plt.scatter(y_test, (y_pred_test*np.std(y_train)) + np.mean(y_train), color=\"red\", s=50)\n",
    "plt.xlabel(\"y_test\")\n",
    "plt.ylabel(\"y_pred_test\")\n",
    "plt.title(\"y_pred_test VS. y_test\")\n",
    "plt.show()"
   ]
  },
  {
   "cell_type": "markdown",
   "metadata": {},
   "source": [
    "### Without Sklearn"
   ]
  },
  {
   "cell_type": "code",
   "execution_count": 63,
   "metadata": {},
   "outputs": [
    {
     "name": "stdout",
     "output_type": "stream",
     "text": [
      "Shape of x_train (37, 2)\n",
      "Shape of y_train (37, 1)\n",
      "Shape of x_test (10, 2)\n",
      "Shape of y_test (10, 1)\n"
     ]
    }
   ],
   "source": [
    "print(\"Shape of x_train\", x_train.shape)\n",
    "print(\"Shape of y_train\", y_train.shape)\n",
    "print(\"Shape of x_test\", x_test.shape)\n",
    "print(\"Shape of y_test\", y_test.shape)"
   ]
  },
  {
   "cell_type": "code",
   "execution_count": 64,
   "metadata": {},
   "outputs": [],
   "source": [
    "theta = np.zeros((3,1))\n",
    "x_train_new = np.c_[np.ones(len(x_train_new)), x_train_new]\n",
    "x_test_new = np.c_[np.ones(len(x_test_new)), x_test_new]\n",
    "iterations = 1000\n",
    "alpha = 0.001"
   ]
  },
  {
   "cell_type": "code",
   "execution_count": 65,
   "metadata": {},
   "outputs": [
    {
     "name": "stdout",
     "output_type": "stream",
     "text": [
      "Shape of theta = (3, 1)\n",
      "shape of x_train_new = (37, 3)\n",
      "Shape of x_test_new = (10, 3)\n"
     ]
    }
   ],
   "source": [
    "print(\"Shape of theta =\",theta.shape)\n",
    "print(\"shape of x_train_new =\",x_train_new.shape)\n",
    "print(\"Shape of x_test_new =\",x_test_new.shape)"
   ]
  },
  {
   "cell_type": "code",
   "execution_count": 66,
   "metadata": {},
   "outputs": [],
   "source": [
    "def hypothesis(x,theta):\n",
    "    return x.dot(theta)"
   ]
  },
  {
   "cell_type": "code",
   "execution_count": 67,
   "metadata": {},
   "outputs": [],
   "source": [
    "def cost_function(x,y,theta):\n",
    "    return np.sum((hypothesis(x,theta) - y)**2/(2*len(x)))"
   ]
  },
  {
   "cell_type": "code",
   "execution_count": 68,
   "metadata": {},
   "outputs": [],
   "source": [
    "def gradient_descent(x,y,theta,iterations,alpha):\n",
    "    J=[]\n",
    "    for i in range(iterations):\n",
    "        theta = theta - (alpha/len(x))*x.T.dot((hypothesis(x,theta) - y))\n",
    "        J.append(cost_function(x,y,theta))\n",
    "        if(i%100==0):\n",
    "            print(\"Cost function =\",J[-1])\n",
    "    return J, theta"
   ]
  },
  {
   "cell_type": "code",
   "execution_count": 69,
   "metadata": {},
   "outputs": [
    {
     "name": "stdout",
     "output_type": "stream",
     "text": [
      "Cost function = 0.4996057032934443\n",
      "Cost function = 0.46446848654785494\n",
      "Cost function = 0.4357412879655398\n",
      "Cost function = 0.411278898768605\n",
      "Cost function = 0.3897935933037188\n",
      "Cost function = 0.37050149638578633\n",
      "Cost function = 0.35291550156615775\n",
      "Cost function = 0.33672396240047553\n",
      "Cost function = 0.321719587575247\n",
      "Cost function = 0.30775772354246755\n",
      "Cost = 0.2948577544243743\n",
      "theta = [[-0.12]\n",
      " [ 0.41]\n",
      " [ 0.1 ]]\n"
     ]
    }
   ],
   "source": [
    "J, theta = gradient_descent(x_train_new,y_train_new,theta,iterations,alpha)\n",
    "print(\"Cost =\",J[-1])\n",
    "print(\"theta =\", theta)"
   ]
  },
  {
   "cell_type": "code",
   "execution_count": 70,
   "metadata": {},
   "outputs": [
    {
     "name": "stdout",
     "output_type": "stream",
     "text": [
      "[[599000.   410878.07]\n",
      " [229900.   327463.11]\n",
      " [239500.   325787.59]\n",
      " [579900.   415800.01]\n",
      " [259900.   361124.57]\n",
      " [285900.   354096.71]\n",
      " [469000.   387362.79]\n",
      " [255000.   357657.41]\n",
      " [699900.   478236.01]\n",
      " [549000.   465983.92]\n",
      " [199900.   327323.48]\n",
      " [314000.   389282.54]\n",
      " [539900.   409435.27]\n",
      " [475000.   372190.07]\n",
      " [259900.   328812.83]\n",
      " [239999.   360100.64]\n",
      " [329900.   373958.67]\n",
      " [349900.   355376.85]\n",
      " [169900.   316316.5 ]\n",
      " [368500.   347231.98]\n",
      " [252900.   352037.34]\n",
      " [499998.   391237.31]\n",
      " [249900.   320993.76]\n",
      " [314900.   341193.03]\n",
      " [198999.   336213.02]\n",
      " [179900.   309439.79]\n",
      " [329900.   344264.81]\n",
      " [299900.   331221.5 ]\n",
      " [399900.   367722.02]\n",
      " [449900.   376855.8 ]\n",
      " [299900.   362195.04]\n",
      " [347000.   362881.65]\n",
      " [242500.   339331.34]\n",
      " [212000.   334025.54]\n",
      " [329999.   357762.02]\n",
      " [299000.   325647.97]\n",
      " [345000.   369036.72]]\n"
     ]
    }
   ],
   "source": [
    "y_pred = hypothesis(x_train_new,theta)\n",
    "print(np.concatenate((y_train, (np.std(y_train)*y_pred)+np.mean(y_train)), axis=1))"
   ]
  },
  {
   "cell_type": "code",
   "execution_count": 71,
   "metadata": {},
   "outputs": [
    {
     "name": "stdout",
     "output_type": "stream",
     "text": [
      "[[573900.   450846.22 639651.38]\n",
      " [242900.   344450.97 287658.88]\n",
      " [287000.   370432.99 356757.47]\n",
      " [249900.   336678.44 261944.64]\n",
      " [369000.   381498.49 410224.95]\n",
      " [232000.   335689.54 275531.95]\n",
      " [299900.   392528.96 446717.61]\n",
      " [314900.   364754.85 337972.22]\n",
      " [299900.   356004.94 309024.46]\n",
      " [464500.   337655.83 265178.17]]\n"
     ]
    }
   ],
   "source": [
    "y_pred_t = hypothesis(x_test_new,theta)\n",
    "print(np.concatenate((y_test, (np.std(y_train)*y_pred_t)+np.mean(y_train), (np.std(y_train)*y_pred_test)+np.mean(y_train)), axis=1))"
   ]
  },
  {
   "cell_type": "code",
   "execution_count": 72,
   "metadata": {},
   "outputs": [
    {
     "data": {
      "image/png": "[encoded data removed]",
      "text/plain": [
       "<Figure size 1080x720 with 1 Axes>"
      ]
     },
     "metadata": {
      "needs_background": "light"
     },
     "output_type": "display_data"
    }
   ],
   "source": [
    "plt.figure(figsize=(15,10))\n",
    "plt.scatter(y_test, (y_pred_t*np.std(y_train)) + np.mean(y_train), color=\"red\", s=50)\n",
    "plt.xlabel(\"y_test\")\n",
    "plt.ylabel(\"y_pred_test\")\n",
    "plt.title(\"y_pred_test VS. y_test\")\n",
    "plt.show()"
   ]
  },
  {
   "cell_type": "code",
   "execution_count": 73,
   "metadata": {},
   "outputs": [
    {
     "name": "stdout",
     "output_type": "stream",
     "text": [
      "0.3111299351659572\n",
      "0.2948577544243743\n"
     ]
    }
   ],
   "source": [
    "r2score = 1 - np.sum((y_test - ((np.std(y_train)*y_pred_t)+np.mean(y_train)))**2)/np.sum((y_test - np.average((np.std(y_train)*y_pred_t)+np.mean(y_train)))**2)\n",
    "print(r2score)\n",
    "print(J[-1])\n"
   ]
  },
  {
   "cell_type": "code",
   "execution_count": 74,
   "metadata": {},
   "outputs": [
    {
     "name": "stdout",
     "output_type": "stream",
     "text": [
      "R2Score = 0.2378123763541543\n",
      "MSE = 8115696759.412214\n",
      "MAE = 83643.71390700377\n"
     ]
    }
   ],
   "source": [
    "print(\"R2Score =\", r2_score(y_test, (y_pred_t*np.std(y_train)) + np.mean(y_train)))\n",
    "print(\"MSE =\", mean_squared_error(y_test, (y_pred_t*np.std(y_train)) + np.mean(y_train)))\n",
    "print(\"MAE =\", mean_absolute_error(y_test, (y_pred_t*np.std(y_train)) + np.mean(y_train)))"
   ]
  }
 ],
 "metadata": {
  "kernelspec": {
   "display_name": "Python 3.10.2 64-bit",
   "language": "python",
   "name": "python3"
  },
  "language_info": {
   "codemirror_mode": {
    "name": "ipython",
    "version": 3
   },
   "file_extension": ".py",
   "mimetype": "text/x-python",
   "name": "python",
   "nbconvert_exporter": "python",
   "pygments_lexer": "ipython3",
   "version": "3.10.2"
  },
  "orig_nbformat": 4,
  "vscode": {
   "interpreter": {
    "hash": "369f2c481f4da34e4445cda3fffd2e751bd1c4d706f27375911949ba6bb62e1c"
   }
  }
 },
 "nbformat": 4,
 "nbformat_minor": 2
}
