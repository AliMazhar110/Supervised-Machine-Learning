{
 "cells": [
  {
   "cell_type": "markdown",
   "id": "c88a279f",
   "metadata": {},
   "source": [
    "# ANN - Brain Tumor MRI Classification"
   ]
  },
  {
   "cell_type": "markdown",
   "id": "23ae1ed5",
   "metadata": {},
   "source": [
    "Brain tumors are abnormal growths of cells within the brain, which can be life-threatening and require accurate diagnosis for effective treatment. MRI (Magnetic Resonance Imaging) is a non-invasive imaging technique widely used for the diagnosis and monitoring of brain tumors. In this notebook, we will develop a classification model to identify different types of brain tumors from MRI images using Artificial Neural Networks (ANN).\n",
    "\n",
    "### Dataset Details\n",
    "The dataset used in this notebook contains MRI images classified into four categories of brain tumors:\n",
    "\n",
    "No Tumor - 0, Glioma Tumor - 1, Meningioma Tumor - 2, Pituitary Tumor - 3\n",
    "\n",
    "Each MRI image is labeled according to these categories, allowing us to train and evaluate our classification models effectively.\n",
    "\n",
    "### Section 1: Brain Tumor Classification Using TensorFlow\n",
    "In this section, we will leverage TensorFlow, a powerful and widely-used deep learning library, to create, train, and evaluate a neural network model for classifying brain tumors from MRI images. TensorFlow provides high-level APIs that simplify the process of building and training neural networks, allowing us to focus on the overall architecture and performance of our model.\n",
    "\n",
    "### Section 2: Brain Tumor Classification by Manually Implementing an ANN\n",
    "In this section, we will take a deeper dive into the workings of neural networks by manually implementing all the necessary components from scratch. This includes defining the network architecture, initializing weights, implementing forward and backward propagation, and training the network. By doing so, we will gain a deeper understanding of the inner workings of ANNs and the mathematical principles behind them.\n",
    "\n",
    "#### Let's get started!"
   ]
  },
  {
   "cell_type": "markdown",
   "id": "59f5c593",
   "metadata": {},
   "source": [
    "## Importing Libraries"
   ]
  },
  {
   "cell_type": "code",
   "execution_count": 1,
   "id": "82f6a1d5",
   "metadata": {},
   "outputs": [
    {
     "name": "stdout",
     "output_type": "stream",
     "text": [
      "2.11.0\n"
     ]
    }
   ],
   "source": [
    "import os\n",
    "import pandas as pd\n",
    "import numpy as np\n",
    "import matplotlib.pyplot as plt\n",
    "import seaborn as sns\n",
    "from PIL import Image\n",
    "import random\n",
    "import tensorflow as tf\n",
    "\n",
    "print(tf.__version__)"
   ]
  },
  {
   "cell_type": "markdown",
   "id": "9ca33b3c",
   "metadata": {},
   "source": [
    "## Importing Data"
   ]
  },
  {
   "cell_type": "markdown",
   "id": "36a00bfa",
   "metadata": {},
   "source": [
    "### Training set"
   ]
  },
  {
   "cell_type": "code",
   "execution_count": 2,
   "id": "55f001fe",
   "metadata": {},
   "outputs": [],
   "source": [
    "# Creating a dataframe with 'Imagepaths' and 'labels'\n",
    "training_path = \"Training/\"\n",
    "training_folders = os.listdir(training_path)\n",
    "\n",
    "labels = {\n",
    "    \"no_tumor\" : 0,\n",
    "    \"glioma_tumor\": 1,\n",
    "    \"meningioma_tumor\": 2,\n",
    "    \"pituitary_tumor\": 3\n",
    "}\n",
    "\n",
    "images = []\n",
    "img_labels = []\n",
    "\n",
    "for folder in training_folders:\n",
    "    for img in os.listdir(training_path+folder):\n",
    "        images.append(training_path+folder+\"/\"+img)\n",
    "        img_labels.append(labels[folder])\n",
    "\n",
    "training_data = pd.DataFrame({\"imagepaths\": images, \"labels\": img_labels})"
   ]
  },
  {
   "cell_type": "code",
   "execution_count": 3,
   "id": "6b62fe6b",
   "metadata": {},
   "outputs": [
    {
     "data": {
      "text/html": [
       "<div>\n",
       "<style scoped>\n",
       "    .dataframe tbody tr th:only-of-type {\n",
       "        vertical-align: middle;\n",
       "    }\n",
       "\n",
       "    .dataframe tbody tr th {\n",
       "        vertical-align: top;\n",
       "    }\n",
       "\n",
       "    .dataframe thead th {\n",
       "        text-align: right;\n",
       "    }\n",
       "</style>\n",
       "<table border=\"1\" class=\"dataframe\">\n",
       "  <thead>\n",
       "    <tr style=\"text-align: right;\">\n",
       "      <th></th>\n",
       "      <th>imagepaths</th>\n",
       "      <th>labels</th>\n",
       "    </tr>\n",
       "  </thead>\n",
       "  <tbody>\n",
       "    <tr>\n",
       "      <th>0</th>\n",
       "      <td>Training/glioma_tumor/gg (1).jpg</td>\n",
       "      <td>1</td>\n",
       "    </tr>\n",
       "    <tr>\n",
       "      <th>1</th>\n",
       "      <td>Training/glioma_tumor/gg (10).jpg</td>\n",
       "      <td>1</td>\n",
       "    </tr>\n",
       "    <tr>\n",
       "      <th>2</th>\n",
       "      <td>Training/glioma_tumor/gg (100).jpg</td>\n",
       "      <td>1</td>\n",
       "    </tr>\n",
       "    <tr>\n",
       "      <th>3</th>\n",
       "      <td>Training/glioma_tumor/gg (101).jpg</td>\n",
       "      <td>1</td>\n",
       "    </tr>\n",
       "    <tr>\n",
       "      <th>4</th>\n",
       "      <td>Training/glioma_tumor/gg (102).jpg</td>\n",
       "      <td>1</td>\n",
       "    </tr>\n",
       "    <tr>\n",
       "      <th>5</th>\n",
       "      <td>Training/glioma_tumor/gg (103).jpg</td>\n",
       "      <td>1</td>\n",
       "    </tr>\n",
       "    <tr>\n",
       "      <th>6</th>\n",
       "      <td>Training/glioma_tumor/gg (104).jpg</td>\n",
       "      <td>1</td>\n",
       "    </tr>\n",
       "    <tr>\n",
       "      <th>7</th>\n",
       "      <td>Training/glioma_tumor/gg (105).jpg</td>\n",
       "      <td>1</td>\n",
       "    </tr>\n",
       "    <tr>\n",
       "      <th>8</th>\n",
       "      <td>Training/glioma_tumor/gg (106).jpg</td>\n",
       "      <td>1</td>\n",
       "    </tr>\n",
       "    <tr>\n",
       "      <th>9</th>\n",
       "      <td>Training/glioma_tumor/gg (107).jpg</td>\n",
       "      <td>1</td>\n",
       "    </tr>\n",
       "  </tbody>\n",
       "</table>\n",
       "</div>"
      ],
      "text/plain": [
       "                           imagepaths  labels\n",
       "0    Training/glioma_tumor/gg (1).jpg       1\n",
       "1   Training/glioma_tumor/gg (10).jpg       1\n",
       "2  Training/glioma_tumor/gg (100).jpg       1\n",
       "3  Training/glioma_tumor/gg (101).jpg       1\n",
       "4  Training/glioma_tumor/gg (102).jpg       1\n",
       "5  Training/glioma_tumor/gg (103).jpg       1\n",
       "6  Training/glioma_tumor/gg (104).jpg       1\n",
       "7  Training/glioma_tumor/gg (105).jpg       1\n",
       "8  Training/glioma_tumor/gg (106).jpg       1\n",
       "9  Training/glioma_tumor/gg (107).jpg       1"
      ]
     },
     "execution_count": 3,
     "metadata": {},
     "output_type": "execute_result"
    }
   ],
   "source": [
    "training_data.head(10)"
   ]
  },
  {
   "cell_type": "code",
   "execution_count": 4,
   "id": "e82eb92c",
   "metadata": {},
   "outputs": [],
   "source": [
    "# Load Images from the paths and add to the dataset\n",
    "def load_images(img_path):\n",
    "    image = Image.open(img_path)\n",
    "    image = image.resize((256,256))\n",
    "    image = image.convert(\"L\")\n",
    "    return np.array(image)/255.0\n",
    "\n",
    "training_data[\"images\"] = training_data[\"imagepaths\"].apply(load_images)"
   ]
  },
  {
   "cell_type": "code",
   "execution_count": 5,
   "id": "a7671d4f",
   "metadata": {},
   "outputs": [
    {
     "data": {
      "text/html": [
       "<div>\n",
       "<style scoped>\n",
       "    .dataframe tbody tr th:only-of-type {\n",
       "        vertical-align: middle;\n",
       "    }\n",
       "\n",
       "    .dataframe tbody tr th {\n",
       "        vertical-align: top;\n",
       "    }\n",
       "\n",
       "    .dataframe thead th {\n",
       "        text-align: right;\n",
       "    }\n",
       "</style>\n",
       "<table border=\"1\" class=\"dataframe\">\n",
       "  <thead>\n",
       "    <tr style=\"text-align: right;\">\n",
       "      <th></th>\n",
       "      <th>imagepaths</th>\n",
       "      <th>labels</th>\n",
       "      <th>images</th>\n",
       "    </tr>\n",
       "  </thead>\n",
       "  <tbody>\n",
       "    <tr>\n",
       "      <th>0</th>\n",
       "      <td>Training/glioma_tumor/gg (1).jpg</td>\n",
       "      <td>1</td>\n",
       "      <td>[[0.0, 0.0, 0.0, 0.0, 0.0, 0.0, 0.0, 0.0, 0.0,...</td>\n",
       "    </tr>\n",
       "    <tr>\n",
       "      <th>1</th>\n",
       "      <td>Training/glioma_tumor/gg (10).jpg</td>\n",
       "      <td>1</td>\n",
       "      <td>[[0.0, 0.0, 0.0, 0.0, 0.0, 0.0, 0.0, 0.0, 0.0,...</td>\n",
       "    </tr>\n",
       "    <tr>\n",
       "      <th>2</th>\n",
       "      <td>Training/glioma_tumor/gg (100).jpg</td>\n",
       "      <td>1</td>\n",
       "      <td>[[0.0, 0.0, 0.0, 0.0, 0.0, 0.0, 0.0, 0.0, 0.0,...</td>\n",
       "    </tr>\n",
       "    <tr>\n",
       "      <th>3</th>\n",
       "      <td>Training/glioma_tumor/gg (101).jpg</td>\n",
       "      <td>1</td>\n",
       "      <td>[[0.0, 0.0, 0.0, 0.0, 0.0, 0.0, 0.0, 0.0, 0.0,...</td>\n",
       "    </tr>\n",
       "    <tr>\n",
       "      <th>4</th>\n",
       "      <td>Training/glioma_tumor/gg (102).jpg</td>\n",
       "      <td>1</td>\n",
       "      <td>[[0.0, 0.0, 0.0, 0.0, 0.0, 0.0, 0.0, 0.0, 0.0,...</td>\n",
       "    </tr>\n",
       "    <tr>\n",
       "      <th>5</th>\n",
       "      <td>Training/glioma_tumor/gg (103).jpg</td>\n",
       "      <td>1</td>\n",
       "      <td>[[0.0, 0.0, 0.0, 0.0, 0.0, 0.0, 0.0, 0.0, 0.0,...</td>\n",
       "    </tr>\n",
       "    <tr>\n",
       "      <th>6</th>\n",
       "      <td>Training/glioma_tumor/gg (104).jpg</td>\n",
       "      <td>1</td>\n",
       "      <td>[[0.0, 0.0, 0.0, 0.0, 0.0, 0.0, 0.0, 0.0, 0.0,...</td>\n",
       "    </tr>\n",
       "    <tr>\n",
       "      <th>7</th>\n",
       "      <td>Training/glioma_tumor/gg (105).jpg</td>\n",
       "      <td>1</td>\n",
       "      <td>[[0.0, 0.0, 0.0, 0.0, 0.0, 0.0, 0.0, 0.0, 0.0,...</td>\n",
       "    </tr>\n",
       "    <tr>\n",
       "      <th>8</th>\n",
       "      <td>Training/glioma_tumor/gg (106).jpg</td>\n",
       "      <td>1</td>\n",
       "      <td>[[0.0, 0.0, 0.0, 0.0, 0.0, 0.0, 0.0, 0.0, 0.0,...</td>\n",
       "    </tr>\n",
       "    <tr>\n",
       "      <th>9</th>\n",
       "      <td>Training/glioma_tumor/gg (107).jpg</td>\n",
       "      <td>1</td>\n",
       "      <td>[[0.0, 0.0, 0.0, 0.0, 0.0, 0.0, 0.0, 0.0, 0.0,...</td>\n",
       "    </tr>\n",
       "  </tbody>\n",
       "</table>\n",
       "</div>"
      ],
      "text/plain": [
       "                           imagepaths  labels  \\\n",
       "0    Training/glioma_tumor/gg (1).jpg       1   \n",
       "1   Training/glioma_tumor/gg (10).jpg       1   \n",
       "2  Training/glioma_tumor/gg (100).jpg       1   \n",
       "3  Training/glioma_tumor/gg (101).jpg       1   \n",
       "4  Training/glioma_tumor/gg (102).jpg       1   \n",
       "5  Training/glioma_tumor/gg (103).jpg       1   \n",
       "6  Training/glioma_tumor/gg (104).jpg       1   \n",
       "7  Training/glioma_tumor/gg (105).jpg       1   \n",
       "8  Training/glioma_tumor/gg (106).jpg       1   \n",
       "9  Training/glioma_tumor/gg (107).jpg       1   \n",
       "\n",
       "                                              images  \n",
       "0  [[0.0, 0.0, 0.0, 0.0, 0.0, 0.0, 0.0, 0.0, 0.0,...  \n",
       "1  [[0.0, 0.0, 0.0, 0.0, 0.0, 0.0, 0.0, 0.0, 0.0,...  \n",
       "2  [[0.0, 0.0, 0.0, 0.0, 0.0, 0.0, 0.0, 0.0, 0.0,...  \n",
       "3  [[0.0, 0.0, 0.0, 0.0, 0.0, 0.0, 0.0, 0.0, 0.0,...  \n",
       "4  [[0.0, 0.0, 0.0, 0.0, 0.0, 0.0, 0.0, 0.0, 0.0,...  \n",
       "5  [[0.0, 0.0, 0.0, 0.0, 0.0, 0.0, 0.0, 0.0, 0.0,...  \n",
       "6  [[0.0, 0.0, 0.0, 0.0, 0.0, 0.0, 0.0, 0.0, 0.0,...  \n",
       "7  [[0.0, 0.0, 0.0, 0.0, 0.0, 0.0, 0.0, 0.0, 0.0,...  \n",
       "8  [[0.0, 0.0, 0.0, 0.0, 0.0, 0.0, 0.0, 0.0, 0.0,...  \n",
       "9  [[0.0, 0.0, 0.0, 0.0, 0.0, 0.0, 0.0, 0.0, 0.0,...  "
      ]
     },
     "execution_count": 5,
     "metadata": {},
     "output_type": "execute_result"
    }
   ],
   "source": [
    "training_data.head(10)"
   ]
  },
  {
   "cell_type": "code",
   "execution_count": 6,
   "id": "4dcfb29d",
   "metadata": {},
   "outputs": [
    {
     "data": {
      "text/plain": [
       "(2870, 3)"
      ]
     },
     "execution_count": 6,
     "metadata": {},
     "output_type": "execute_result"
    }
   ],
   "source": [
    "training_data.shape"
   ]
  },
  {
   "cell_type": "markdown",
   "id": "e85cca0d",
   "metadata": {},
   "source": [
    "### Testing set"
   ]
  },
  {
   "cell_type": "code",
   "execution_count": 7,
   "id": "482e7498",
   "metadata": {},
   "outputs": [],
   "source": [
    "# Creating a dataframe with 'Imagepaths' and 'labels'\n",
    "testing_path = \"Testing/\"\n",
    "testing_folders = os.listdir(testing_path)\n",
    "\n",
    "images = []\n",
    "img_labels = []\n",
    "\n",
    "for folder in testing_folders:\n",
    "        for img in os.listdir(testing_path+folder):\n",
    "            images.append(testing_path+folder+\"/\"+img)\n",
    "            img_labels.append(labels[folder])\n",
    "\n",
    "testing_data = pd.DataFrame({\"imagepaths\": images, \"labels\": img_labels})"
   ]
  },
  {
   "cell_type": "code",
   "execution_count": 8,
   "id": "00650552",
   "metadata": {},
   "outputs": [
    {
     "data": {
      "text/html": [
       "<div>\n",
       "<style scoped>\n",
       "    .dataframe tbody tr th:only-of-type {\n",
       "        vertical-align: middle;\n",
       "    }\n",
       "\n",
       "    .dataframe tbody tr th {\n",
       "        vertical-align: top;\n",
       "    }\n",
       "\n",
       "    .dataframe thead th {\n",
       "        text-align: right;\n",
       "    }\n",
       "</style>\n",
       "<table border=\"1\" class=\"dataframe\">\n",
       "  <thead>\n",
       "    <tr style=\"text-align: right;\">\n",
       "      <th></th>\n",
       "      <th>imagepaths</th>\n",
       "      <th>labels</th>\n",
       "    </tr>\n",
       "  </thead>\n",
       "  <tbody>\n",
       "    <tr>\n",
       "      <th>0</th>\n",
       "      <td>Testing/glioma_tumor/image(1).jpg</td>\n",
       "      <td>1</td>\n",
       "    </tr>\n",
       "    <tr>\n",
       "      <th>1</th>\n",
       "      <td>Testing/glioma_tumor/image(10).jpg</td>\n",
       "      <td>1</td>\n",
       "    </tr>\n",
       "    <tr>\n",
       "      <th>2</th>\n",
       "      <td>Testing/glioma_tumor/image(100).jpg</td>\n",
       "      <td>1</td>\n",
       "    </tr>\n",
       "    <tr>\n",
       "      <th>3</th>\n",
       "      <td>Testing/glioma_tumor/image(11).jpg</td>\n",
       "      <td>1</td>\n",
       "    </tr>\n",
       "    <tr>\n",
       "      <th>4</th>\n",
       "      <td>Testing/glioma_tumor/image(12).jpg</td>\n",
       "      <td>1</td>\n",
       "    </tr>\n",
       "    <tr>\n",
       "      <th>5</th>\n",
       "      <td>Testing/glioma_tumor/image(13).jpg</td>\n",
       "      <td>1</td>\n",
       "    </tr>\n",
       "    <tr>\n",
       "      <th>6</th>\n",
       "      <td>Testing/glioma_tumor/image(14).jpg</td>\n",
       "      <td>1</td>\n",
       "    </tr>\n",
       "    <tr>\n",
       "      <th>7</th>\n",
       "      <td>Testing/glioma_tumor/image(15).jpg</td>\n",
       "      <td>1</td>\n",
       "    </tr>\n",
       "    <tr>\n",
       "      <th>8</th>\n",
       "      <td>Testing/glioma_tumor/image(16).jpg</td>\n",
       "      <td>1</td>\n",
       "    </tr>\n",
       "    <tr>\n",
       "      <th>9</th>\n",
       "      <td>Testing/glioma_tumor/image(17).jpg</td>\n",
       "      <td>1</td>\n",
       "    </tr>\n",
       "  </tbody>\n",
       "</table>\n",
       "</div>"
      ],
      "text/plain": [
       "                            imagepaths  labels\n",
       "0    Testing/glioma_tumor/image(1).jpg       1\n",
       "1   Testing/glioma_tumor/image(10).jpg       1\n",
       "2  Testing/glioma_tumor/image(100).jpg       1\n",
       "3   Testing/glioma_tumor/image(11).jpg       1\n",
       "4   Testing/glioma_tumor/image(12).jpg       1\n",
       "5   Testing/glioma_tumor/image(13).jpg       1\n",
       "6   Testing/glioma_tumor/image(14).jpg       1\n",
       "7   Testing/glioma_tumor/image(15).jpg       1\n",
       "8   Testing/glioma_tumor/image(16).jpg       1\n",
       "9   Testing/glioma_tumor/image(17).jpg       1"
      ]
     },
     "execution_count": 8,
     "metadata": {},
     "output_type": "execute_result"
    }
   ],
   "source": [
    "testing_data.head(10)"
   ]
  },
  {
   "cell_type": "code",
   "execution_count": 9,
   "id": "3993f78e",
   "metadata": {},
   "outputs": [],
   "source": [
    "# Load Images from the paths and add to the dataset\n",
    "testing_data[\"images\"] = testing_data[\"imagepaths\"].apply(load_images)"
   ]
  },
  {
   "cell_type": "code",
   "execution_count": 10,
   "id": "9a8ab538",
   "metadata": {},
   "outputs": [
    {
     "data": {
      "text/html": [
       "<div>\n",
       "<style scoped>\n",
       "    .dataframe tbody tr th:only-of-type {\n",
       "        vertical-align: middle;\n",
       "    }\n",
       "\n",
       "    .dataframe tbody tr th {\n",
       "        vertical-align: top;\n",
       "    }\n",
       "\n",
       "    .dataframe thead th {\n",
       "        text-align: right;\n",
       "    }\n",
       "</style>\n",
       "<table border=\"1\" class=\"dataframe\">\n",
       "  <thead>\n",
       "    <tr style=\"text-align: right;\">\n",
       "      <th></th>\n",
       "      <th>imagepaths</th>\n",
       "      <th>labels</th>\n",
       "      <th>images</th>\n",
       "    </tr>\n",
       "  </thead>\n",
       "  <tbody>\n",
       "    <tr>\n",
       "      <th>0</th>\n",
       "      <td>Testing/glioma_tumor/image(1).jpg</td>\n",
       "      <td>1</td>\n",
       "      <td>[[0.0, 0.0, 0.0, 0.0, 0.0, 0.0, 0.0, 0.0, 0.0,...</td>\n",
       "    </tr>\n",
       "    <tr>\n",
       "      <th>1</th>\n",
       "      <td>Testing/glioma_tumor/image(10).jpg</td>\n",
       "      <td>1</td>\n",
       "      <td>[[0.0, 0.0, 0.0, 0.0, 0.0, 0.0, 0.0, 0.0, 0.0,...</td>\n",
       "    </tr>\n",
       "    <tr>\n",
       "      <th>2</th>\n",
       "      <td>Testing/glioma_tumor/image(100).jpg</td>\n",
       "      <td>1</td>\n",
       "      <td>[[0.027450980392156862, 0.027450980392156862, ...</td>\n",
       "    </tr>\n",
       "    <tr>\n",
       "      <th>3</th>\n",
       "      <td>Testing/glioma_tumor/image(11).jpg</td>\n",
       "      <td>1</td>\n",
       "      <td>[[0.0, 0.0, 0.0, 0.0, 0.0, 0.0, 0.0, 0.0, 0.0,...</td>\n",
       "    </tr>\n",
       "    <tr>\n",
       "      <th>4</th>\n",
       "      <td>Testing/glioma_tumor/image(12).jpg</td>\n",
       "      <td>1</td>\n",
       "      <td>[[0.0, 0.0, 0.0, 0.0, 0.0, 0.0, 0.0, 0.0, 0.0,...</td>\n",
       "    </tr>\n",
       "    <tr>\n",
       "      <th>5</th>\n",
       "      <td>Testing/glioma_tumor/image(13).jpg</td>\n",
       "      <td>1</td>\n",
       "      <td>[[0.0, 0.0, 0.0, 0.0, 0.0, 0.0, 0.0, 0.0, 0.0,...</td>\n",
       "    </tr>\n",
       "    <tr>\n",
       "      <th>6</th>\n",
       "      <td>Testing/glioma_tumor/image(14).jpg</td>\n",
       "      <td>1</td>\n",
       "      <td>[[0.06274509803921569, 0.011764705882352941, 0...</td>\n",
       "    </tr>\n",
       "    <tr>\n",
       "      <th>7</th>\n",
       "      <td>Testing/glioma_tumor/image(15).jpg</td>\n",
       "      <td>1</td>\n",
       "      <td>[[0.0, 0.0, 0.0, 0.0, 0.0, 0.0, 0.0, 0.0, 0.0,...</td>\n",
       "    </tr>\n",
       "    <tr>\n",
       "      <th>8</th>\n",
       "      <td>Testing/glioma_tumor/image(16).jpg</td>\n",
       "      <td>1</td>\n",
       "      <td>[[0.8196078431372549, 0.37254901960784315, 0.0...</td>\n",
       "    </tr>\n",
       "    <tr>\n",
       "      <th>9</th>\n",
       "      <td>Testing/glioma_tumor/image(17).jpg</td>\n",
       "      <td>1</td>\n",
       "      <td>[[0.043137254901960784, 0.043137254901960784, ...</td>\n",
       "    </tr>\n",
       "  </tbody>\n",
       "</table>\n",
       "</div>"
      ],
      "text/plain": [
       "                            imagepaths  labels  \\\n",
       "0    Testing/glioma_tumor/image(1).jpg       1   \n",
       "1   Testing/glioma_tumor/image(10).jpg       1   \n",
       "2  Testing/glioma_tumor/image(100).jpg       1   \n",
       "3   Testing/glioma_tumor/image(11).jpg       1   \n",
       "4   Testing/glioma_tumor/image(12).jpg       1   \n",
       "5   Testing/glioma_tumor/image(13).jpg       1   \n",
       "6   Testing/glioma_tumor/image(14).jpg       1   \n",
       "7   Testing/glioma_tumor/image(15).jpg       1   \n",
       "8   Testing/glioma_tumor/image(16).jpg       1   \n",
       "9   Testing/glioma_tumor/image(17).jpg       1   \n",
       "\n",
       "                                              images  \n",
       "0  [[0.0, 0.0, 0.0, 0.0, 0.0, 0.0, 0.0, 0.0, 0.0,...  \n",
       "1  [[0.0, 0.0, 0.0, 0.0, 0.0, 0.0, 0.0, 0.0, 0.0,...  \n",
       "2  [[0.027450980392156862, 0.027450980392156862, ...  \n",
       "3  [[0.0, 0.0, 0.0, 0.0, 0.0, 0.0, 0.0, 0.0, 0.0,...  \n",
       "4  [[0.0, 0.0, 0.0, 0.0, 0.0, 0.0, 0.0, 0.0, 0.0,...  \n",
       "5  [[0.0, 0.0, 0.0, 0.0, 0.0, 0.0, 0.0, 0.0, 0.0,...  \n",
       "6  [[0.06274509803921569, 0.011764705882352941, 0...  \n",
       "7  [[0.0, 0.0, 0.0, 0.0, 0.0, 0.0, 0.0, 0.0, 0.0,...  \n",
       "8  [[0.8196078431372549, 0.37254901960784315, 0.0...  \n",
       "9  [[0.043137254901960784, 0.043137254901960784, ...  "
      ]
     },
     "execution_count": 10,
     "metadata": {},
     "output_type": "execute_result"
    }
   ],
   "source": [
    "testing_data.head(10)"
   ]
  },
  {
   "cell_type": "code",
   "execution_count": 11,
   "id": "cfca0ae4",
   "metadata": {},
   "outputs": [
    {
     "data": {
      "text/plain": [
       "(394, 3)"
      ]
     },
     "execution_count": 11,
     "metadata": {},
     "output_type": "execute_result"
    }
   ],
   "source": [
    "testing_data.shape"
   ]
  },
  {
   "cell_type": "markdown",
   "id": "24477d4a",
   "metadata": {},
   "source": [
    "## Data Preprocessing"
   ]
  },
  {
   "cell_type": "code",
   "execution_count": 12,
   "id": "20248134",
   "metadata": {},
   "outputs": [
    {
     "name": "stdout",
     "output_type": "stream",
     "text": [
      "<class 'pandas.core.frame.DataFrame'>\n",
      "RangeIndex: 2870 entries, 0 to 2869\n",
      "Data columns (total 3 columns):\n",
      " #   Column      Non-Null Count  Dtype \n",
      "---  ------      --------------  ----- \n",
      " 0   imagepaths  2870 non-null   object\n",
      " 1   labels      2870 non-null   int64 \n",
      " 2   images      2870 non-null   object\n",
      "dtypes: int64(1), object(2)\n",
      "memory usage: 67.4+ KB\n"
     ]
    }
   ],
   "source": [
    "training_data.info()"
   ]
  },
  {
   "cell_type": "code",
   "execution_count": 13,
   "id": "38861829",
   "metadata": {},
   "outputs": [
    {
     "data": {
      "text/plain": [
       "0    395\n",
       "1    826\n",
       "2    822\n",
       "3    827\n",
       "Name: labels, dtype: int64"
      ]
     },
     "execution_count": 13,
     "metadata": {},
     "output_type": "execute_result"
    }
   ],
   "source": [
    "training_data[\"labels\"].value_counts().sort_index()"
   ]
  },
  {
   "cell_type": "markdown",
   "id": "7af09f87",
   "metadata": {},
   "source": [
    "### Data Visualization"
   ]
  },
  {
   "cell_type": "code",
   "execution_count": 14,
   "id": "b591905a",
   "metadata": {},
   "outputs": [
    {
     "data": {
      "image/png": "[encoded data removed]",
      "text/plain": [
       "<Figure size 720x576 with 1 Axes>"
      ]
     },
     "metadata": {
      "needs_background": "light"
     },
     "output_type": "display_data"
    }
   ],
   "source": [
    "# Barplot\n",
    "plt.figure(figsize=(10,8))\n",
    "labels_count = training_data[\"labels\"].value_counts().sort_index()\n",
    "plt.bar(labels_count.index.astype(str), labels_count.values, width=0.4)\n",
    "plt.xlabel(\"Labels\")\n",
    "plt.ylabel(\"Count\")\n",
    "plt.title(\"Label Counts\")\n",
    "plt.show()"
   ]
  },
  {
   "cell_type": "code",
   "execution_count": 15,
   "id": "a4b5f009",
   "metadata": {},
   "outputs": [
    {
     "data": {
      "image/png": "[encoded data removed]",
      "text/plain": [
       "<Figure size 720x576 with 1 Axes>"
      ]
     },
     "metadata": {},
     "output_type": "display_data"
    }
   ],
   "source": [
    "# Piechart\n",
    "plt.figure(figsize=(10,8))\n",
    "plt.pie(labels_count.values, autopct='%1.1f%%', labels=labels.keys())\n",
    "plt.title(\"Labels Piechart\")\n",
    "plt.show()"
   ]
  },
  {
   "cell_type": "code",
   "execution_count": 16,
   "id": "5ea6a083",
   "metadata": {},
   "outputs": [
    {
     "data": {
      "image/png": "[encoded data removed]",
      "text/plain": [
       "<Figure size 432x288 with 1 Axes>"
      ]
     },
     "metadata": {},
     "output_type": "display_data"
    }
   ],
   "source": [
    "# Shows a random image and it's label from the training set\n",
    "random_img = random.randint(0, training_data.shape[0]-1)\n",
    "\n",
    "img_array = training_data[\"images\"][random_img]\n",
    "plt.xticks([])\n",
    "plt.yticks([])\n",
    "plt.imshow(img_array)\n",
    "plt.grid(False)\n",
    "plt.xlabel({value:key for key,value in labels.items()}[training_data[\"labels\"][random_img]], fontsize=15)\n",
    "plt.show()"
   ]
  },
  {
   "cell_type": "code",
   "execution_count": 17,
   "id": "898a2d2f",
   "metadata": {},
   "outputs": [
    {
     "data": {
      "text/plain": [
       "(array([[0.        , 0.        , 0.        , ..., 0.00392157, 0.00392157,\n",
       "         0.00392157],\n",
       "        [0.        , 0.        , 0.        , ..., 0.00392157, 0.00392157,\n",
       "         0.00392157],\n",
       "        [0.        , 0.        , 0.        , ..., 0.01176471, 0.01176471,\n",
       "         0.01176471],\n",
       "        ...,\n",
       "        [0.01176471, 0.01568627, 0.01568627, ..., 0.01176471, 0.01176471,\n",
       "         0.01176471],\n",
       "        [0.        , 0.        , 0.        , ..., 0.00392157, 0.00392157,\n",
       "         0.00392157],\n",
       "        [0.        , 0.        , 0.        , ..., 0.00392157, 0.00392157,\n",
       "         0.00392157]]),\n",
       " (256, 256))"
      ]
     },
     "execution_count": 17,
     "metadata": {},
     "output_type": "execute_result"
    }
   ],
   "source": [
    "training_data[\"images\"][random_img], training_data[\"images\"][random_img].shape"
   ]
  },
  {
   "cell_type": "markdown",
   "id": "2558ea46",
   "metadata": {},
   "source": [
    "### Preparing data for training and testing"
   ]
  },
  {
   "cell_type": "markdown",
   "id": "083c578b",
   "metadata": {},
   "source": [
    "#### Training set"
   ]
  },
  {
   "cell_type": "code",
   "execution_count": 18,
   "id": "1bafc63d",
   "metadata": {},
   "outputs": [
    {
     "data": {
      "text/html": [
       "<div>\n",
       "<style scoped>\n",
       "    .dataframe tbody tr th:only-of-type {\n",
       "        vertical-align: middle;\n",
       "    }\n",
       "\n",
       "    .dataframe tbody tr th {\n",
       "        vertical-align: top;\n",
       "    }\n",
       "\n",
       "    .dataframe thead th {\n",
       "        text-align: right;\n",
       "    }\n",
       "</style>\n",
       "<table border=\"1\" class=\"dataframe\">\n",
       "  <thead>\n",
       "    <tr style=\"text-align: right;\">\n",
       "      <th></th>\n",
       "      <th>imagepaths</th>\n",
       "      <th>labels</th>\n",
       "      <th>images</th>\n",
       "    </tr>\n",
       "  </thead>\n",
       "  <tbody>\n",
       "    <tr>\n",
       "      <th>0</th>\n",
       "      <td>Training/no_tumor/image(98).jpg</td>\n",
       "      <td>0</td>\n",
       "      <td>[[0.00392156862745098, 0.00392156862745098, 0....</td>\n",
       "    </tr>\n",
       "    <tr>\n",
       "      <th>1</th>\n",
       "      <td>Training/meningioma_tumor/m3 (142).jpg</td>\n",
       "      <td>2</td>\n",
       "      <td>[[0.011764705882352941, 0.011764705882352941, ...</td>\n",
       "    </tr>\n",
       "    <tr>\n",
       "      <th>2</th>\n",
       "      <td>Training/glioma_tumor/gg (671).jpg</td>\n",
       "      <td>1</td>\n",
       "      <td>[[0.0, 0.0, 0.0, 0.0, 0.0, 0.0, 0.0, 0.0, 0.0,...</td>\n",
       "    </tr>\n",
       "    <tr>\n",
       "      <th>3</th>\n",
       "      <td>Training/no_tumor/image(157).jpg</td>\n",
       "      <td>0</td>\n",
       "      <td>[[0.0, 0.0, 0.0, 0.0, 0.0, 0.0, 0.0, 0.0, 0.0,...</td>\n",
       "    </tr>\n",
       "    <tr>\n",
       "      <th>4</th>\n",
       "      <td>Training/meningioma_tumor/m1(44).jpg</td>\n",
       "      <td>2</td>\n",
       "      <td>[[0.0, 0.0, 0.0, 0.0, 0.0, 0.0, 0.0, 0.0, 0.0,...</td>\n",
       "    </tr>\n",
       "  </tbody>\n",
       "</table>\n",
       "</div>"
      ],
      "text/plain": [
       "                               imagepaths  labels  \\\n",
       "0         Training/no_tumor/image(98).jpg       0   \n",
       "1  Training/meningioma_tumor/m3 (142).jpg       2   \n",
       "2      Training/glioma_tumor/gg (671).jpg       1   \n",
       "3        Training/no_tumor/image(157).jpg       0   \n",
       "4    Training/meningioma_tumor/m1(44).jpg       2   \n",
       "\n",
       "                                              images  \n",
       "0  [[0.00392156862745098, 0.00392156862745098, 0....  \n",
       "1  [[0.011764705882352941, 0.011764705882352941, ...  \n",
       "2  [[0.0, 0.0, 0.0, 0.0, 0.0, 0.0, 0.0, 0.0, 0.0,...  \n",
       "3  [[0.0, 0.0, 0.0, 0.0, 0.0, 0.0, 0.0, 0.0, 0.0,...  \n",
       "4  [[0.0, 0.0, 0.0, 0.0, 0.0, 0.0, 0.0, 0.0, 0.0,...  "
      ]
     },
     "execution_count": 18,
     "metadata": {},
     "output_type": "execute_result"
    }
   ],
   "source": [
    "# Shuffling training dataset\n",
    "training_data = training_data.sample(frac=1, random_state=7).reset_index(drop=True)\n",
    "training_data.head()"
   ]
  },
  {
   "cell_type": "code",
   "execution_count": 19,
   "id": "5c15873a",
   "metadata": {},
   "outputs": [
    {
     "data": {
      "text/plain": [
       "(2870, 3)"
      ]
     },
     "execution_count": 19,
     "metadata": {},
     "output_type": "execute_result"
    }
   ],
   "source": [
    "training_data.shape"
   ]
  },
  {
   "cell_type": "code",
   "execution_count": 20,
   "id": "f7048bfa",
   "metadata": {},
   "outputs": [],
   "source": [
    "# Flatten the images\n",
    "def flatten_img(img):\n",
    "    return img.reshape(-1,)\n",
    "\n",
    "training_data[\"images\"] = training_data[\"images\"].apply(flatten_img)"
   ]
  },
  {
   "cell_type": "code",
   "execution_count": 21,
   "id": "15bb26b5",
   "metadata": {},
   "outputs": [
    {
     "data": {
      "text/plain": [
       "(array([0.01176471, 0.01176471, 0.01176471, ..., 0.01176471, 0.01176471,\n",
       "        0.01176471]),\n",
       " (65536,))"
      ]
     },
     "execution_count": 21,
     "metadata": {},
     "output_type": "execute_result"
    }
   ],
   "source": [
    "training_data[\"images\"][1], training_data[\"images\"][1].shape"
   ]
  },
  {
   "cell_type": "code",
   "execution_count": 22,
   "id": "c9d98132",
   "metadata": {},
   "outputs": [],
   "source": [
    "# Spliting training data into train images and train labels\n",
    "train_images = training_data[\"images\"].values\n",
    "train_labels = training_data[\"labels\"].values"
   ]
  },
  {
   "cell_type": "code",
   "execution_count": 23,
   "id": "dc784f3a",
   "metadata": {},
   "outputs": [
    {
     "data": {
      "text/plain": [
       "((2870,), (2870,))"
      ]
     },
     "execution_count": 23,
     "metadata": {},
     "output_type": "execute_result"
    }
   ],
   "source": [
    "train_images.shape,train_labels.shape"
   ]
  },
  {
   "cell_type": "code",
   "execution_count": 24,
   "id": "e275059e",
   "metadata": {},
   "outputs": [
    {
     "data": {
      "text/plain": [
       "array([array([0.00392157, 0.00392157, 0.00392157, ..., 0.        , 0.        ,\n",
       "              0.        ])                                                    ,\n",
       "       array([0.01176471, 0.01176471, 0.01176471, ..., 0.01176471, 0.01176471,\n",
       "              0.01176471])                                                    ,\n",
       "       array([0., 0., 0., ..., 0., 0., 0.]), ...,\n",
       "       array([0., 0., 0., ..., 0., 0., 0.]),\n",
       "       array([0.00392157, 0.00392157, 0.00392157, ..., 0.01568627, 0.01176471,\n",
       "              0.00784314])                                                    ,\n",
       "       array([0., 0., 0., ..., 0., 0., 0.])], dtype=object)"
      ]
     },
     "execution_count": 24,
     "metadata": {},
     "output_type": "execute_result"
    }
   ],
   "source": [
    "train_images"
   ]
  },
  {
   "cell_type": "code",
   "execution_count": 25,
   "id": "e7586e81",
   "metadata": {},
   "outputs": [
    {
     "data": {
      "text/plain": [
       "array([[0.00392157, 0.00392157, 0.00392157, ..., 0.        , 0.        ,\n",
       "        0.        ],\n",
       "       [0.01176471, 0.01176471, 0.01176471, ..., 0.01176471, 0.01176471,\n",
       "        0.01176471],\n",
       "       [0.        , 0.        , 0.        , ..., 0.        , 0.        ,\n",
       "        0.        ],\n",
       "       ...,\n",
       "       [0.        , 0.        , 0.        , ..., 0.        , 0.        ,\n",
       "        0.        ],\n",
       "       [0.00392157, 0.00392157, 0.00392157, ..., 0.01568627, 0.01176471,\n",
       "        0.00784314],\n",
       "       [0.        , 0.        , 0.        , ..., 0.        , 0.        ,\n",
       "        0.        ]])"
      ]
     },
     "execution_count": 25,
     "metadata": {},
     "output_type": "execute_result"
    }
   ],
   "source": [
    "# Converting 1D array into 2D\n",
    "train_images = np.vstack(train_images)\n",
    "train_images"
   ]
  },
  {
   "cell_type": "code",
   "execution_count": 26,
   "id": "4a28d7eb",
   "metadata": {},
   "outputs": [
    {
     "data": {
      "text/plain": [
       "array([0, 2, 1, ..., 1, 2, 1], dtype=int64)"
      ]
     },
     "execution_count": 26,
     "metadata": {},
     "output_type": "execute_result"
    }
   ],
   "source": [
    "train_labels"
   ]
  },
  {
   "cell_type": "code",
   "execution_count": 27,
   "id": "f461def3",
   "metadata": {},
   "outputs": [
    {
     "data": {
      "text/plain": [
       "(2870, 65536)"
      ]
     },
     "execution_count": 27,
     "metadata": {},
     "output_type": "execute_result"
    }
   ],
   "source": [
    "train_images.shape"
   ]
  },
  {
   "cell_type": "markdown",
   "id": "68aa1db3",
   "metadata": {},
   "source": [
    "#### Testing set"
   ]
  },
  {
   "cell_type": "code",
   "execution_count": 28,
   "id": "1d2cace8",
   "metadata": {},
   "outputs": [
    {
     "data": {
      "text/plain": [
       "(array([0., 0., 0., ..., 0., 0., 0.]), (65536,))"
      ]
     },
     "execution_count": 28,
     "metadata": {},
     "output_type": "execute_result"
    }
   ],
   "source": [
    "# Flatten test images\n",
    "testing_data[\"images\"] = testing_data[\"images\"].apply(flatten_img)\n",
    "\n",
    "testing_data[\"images\"][1],testing_data[\"images\"][1].shape"
   ]
  },
  {
   "cell_type": "code",
   "execution_count": 29,
   "id": "27e60f3e",
   "metadata": {},
   "outputs": [],
   "source": [
    "# Spliting testing data into test images and test labels\n",
    "test_images = testing_data[\"images\"].values\n",
    "test_labels = testing_data[\"labels\"].values"
   ]
  },
  {
   "cell_type": "code",
   "execution_count": 30,
   "id": "a99cbadc",
   "metadata": {},
   "outputs": [
    {
     "data": {
      "text/plain": [
       "((394,), (394,))"
      ]
     },
     "execution_count": 30,
     "metadata": {},
     "output_type": "execute_result"
    }
   ],
   "source": [
    "test_images.shape, test_labels.shape"
   ]
  },
  {
   "cell_type": "code",
   "execution_count": 31,
   "id": "e5b7a0b4",
   "metadata": {},
   "outputs": [
    {
     "data": {
      "text/plain": [
       "array([array([0., 0., 0., ..., 0., 0., 0.]),\n",
       "       array([0., 0., 0., ..., 0., 0., 0.]),\n",
       "       array([0.02745098, 0.02745098, 0.02745098, ..., 0.01960784, 0.01960784,\n",
       "              0.01568627])                                                    ,\n",
       "       array([0., 0., 0., ..., 0., 0., 0.]),\n",
       "       array([0., 0., 0., ..., 0., 0., 0.]),\n",
       "       array([0., 0., 0., ..., 0., 0., 0.]),\n",
       "       array([0.0627451 , 0.01176471, 0.00784314, ..., 0.05490196, 0.05882353,\n",
       "              0.08235294])                                                    ,\n",
       "       array([0.        , 0.        , 0.        , ..., 0.        , 0.00392157,\n",
       "              0.01176471])                                                    ,\n",
       "       array([0.81960784, 0.37254902, 0.        , ..., 0.        , 0.        ,\n",
       "              0.        ])                                                    ,\n",
       "       array([0.04313725, 0.04313725, 0.04313725, ..., 0.03921569, 0.03921569,\n",
       "              0.03921569])                                                    ,\n",
       "       array([0., 0., 0., ..., 0., 0., 0.]),\n",
       "       array([0.00784314, 0.00784314, 0.00392157, ..., 0.        , 0.        ,\n",
       "              0.        ])                                                    ,\n",
       "       array([0.04313725, 0.03529412, 0.03529412, ..., 0.03921569, 0.03529412,\n",
       "              0.03529412])                                                    ,\n",
       "       array([0., 0., 0., ..., 0., 0., 0.]),\n",
       "       array([0., 0., 0., ..., 0., 0., 0.]),\n",
       "       array([0.03921569, 0.03529412, 0.02745098, ..., 0.01568627, 0.01568627,\n",
       "              0.02352941])                                                    ,\n",
       "       array([0.06666667, 0.06666667, 0.06666667, ..., 0.02745098, 0.02745098,\n",
       "              0.02745098])                                                    ,\n",
       "       array([0., 0., 0., ..., 0., 0., 0.]),\n",
       "       array([0.09803922, 0.09803922, 0.10196078, ..., 0.05882353, 0.05882353,\n",
       "              0.05882353])                                                    ,\n",
       "       array([0., 0., 0., ..., 0., 0., 0.]),\n",
       "       array([0.94509804, 0.81568627, 0.82352941, ..., 0.82352941, 0.82745098,\n",
       "              0.96470588])                                                    ,\n",
       "       array([0.98823529, 0.99607843, 1.        , ..., 0.98823529, 0.98039216,\n",
       "              0.96862745])                                                    ,\n",
       "       array([0.98823529, 0.99607843, 1.        , ..., 0.98823529, 0.98039216,\n",
       "              0.96862745])                                                    ,\n",
       "       array([0., 0., 0., ..., 0., 0., 0.]),\n",
       "       array([0.00392157, 0.00392157, 0.00392157, ..., 0.00392157, 0.00392157,\n",
       "              0.00392157])                                                    ,\n",
       "       array([0., 0., 0., ..., 0., 0., 0.]),\n",
       "       array([0.1372549 , 0.06666667, 0.07058824, ..., 0.06666667, 0.07058824,\n",
       "              0.12941176])                                                    ,\n",
       "       array([0.01176471, 0.01176471, 0.00784314, ..., 0.        , 0.        ,\n",
       "              0.        ])                                                    ,\n",
       "       array([0.08627451, 0.10196078, 0.10980392, ..., 0.        , 0.00392157,\n",
       "              0.01960784])                                                    ,\n",
       "       array([0.05098039, 0.05098039, 0.05098039, ..., 0.05098039, 0.05098039,\n",
       "              0.05098039])                                                    ,\n",
       "       array([0.01960784, 0.01176471, 0.01176471, ..., 0.00392157, 0.00392157,\n",
       "              0.00392157])                                                    ,\n",
       "       array([0.02352941, 0.01960784, 0.00392157, ..., 0.00392157, 0.00392157,\n",
       "              0.00392157])                                                    ,\n",
       "       array([0., 0., 0., ..., 0., 0., 0.]),\n",
       "       array([0., 0., 0., ..., 0., 0., 0.]),\n",
       "       array([0., 0., 0., ..., 0., 0., 0.]),\n",
       "       array([0.00392157, 0.00392157, 0.00392157, ..., 0.00392157, 0.00392157,\n",
       "              0.00392157])                                                    ,\n",
       "       array([0.57647059, 0.56078431, 0.58431373, ..., 0.45098039, 0.45098039,\n",
       "              0.45098039])                                                    ,\n",
       "       array([0.20392157, 0.20392157, 0.2       , ..., 0.9254902 , 0.9254902 ,\n",
       "              0.9254902 ])                                                    ,\n",
       "       array([0.0627451, 0.0627451, 0.0627451, ..., 0.0627451, 0.0627451,\n",
       "              0.0627451])                                                ,\n",
       "       array([0.        , 0.        , 0.        , ..., 0.02352941, 0.04705882,\n",
       "              0.05098039])                                                    ,\n",
       "       array([0.00392157, 0.00392157, 0.00392157, ..., 0.00392157, 0.00392157,\n",
       "              0.00392157])                                                    ,\n",
       "       array([0., 0., 0., ..., 0., 0., 0.]),\n",
       "       array([0., 0., 0., ..., 0., 0., 0.]),\n",
       "       array([0.        , 0.00392157, 0.00392157, ..., 0.00392157, 0.00392157,\n",
       "              0.        ])                                                    ,\n",
       "       array([0., 0., 0., ..., 0., 0., 0.]),\n",
       "       array([0.13333333, 0.1372549 , 0.1372549 , ..., 0.94509804, 0.76470588,\n",
       "              0.71764706])                                                    ,\n",
       "       array([0.24313725, 0.24313725, 0.24313725, ..., 0.23921569, 0.23921569,\n",
       "              0.23921569])                                                    ,\n",
       "       array([0.        , 0.08235294, 0.03137255, ..., 0.00392157, 0.00392157,\n",
       "              0.00392157])                                                    ,\n",
       "       array([0.01568627, 0.00392157, 0.01176471, ..., 0.00784314, 0.00392157,\n",
       "              0.00392157])                                                    ,\n",
       "       array([0., 0., 0., ..., 0., 0., 0.]),\n",
       "       array([0., 0., 0., ..., 0., 0., 0.]),\n",
       "       array([0.24313725, 0.24313725, 0.24313725, ..., 0.23921569, 0.23921569,\n",
       "              0.23921569])                                                    ,\n",
       "       array([0., 0., 0., ..., 0., 0., 0.]),\n",
       "       array([0.02352941, 0.02352941, 0.02352941, ..., 0.02352941, 0.02352941,\n",
       "              0.02352941])                                                    ,\n",
       "       array([0.57254902, 0.56470588, 0.63137255, ..., 0.58431373, 0.59215686,\n",
       "              0.58823529])                                                    ,\n",
       "       array([0., 0., 0., ..., 0., 0., 0.]),\n",
       "       array([0., 0., 0., ..., 0., 0., 0.]),\n",
       "       array([0., 0., 0., ..., 0., 0., 0.]),\n",
       "       array([0., 0., 0., ..., 0., 0., 0.]),\n",
       "       array([0., 0., 0., ..., 0., 0., 0.]),\n",
       "       array([0., 0., 0., ..., 0., 0., 0.]),\n",
       "       array([0., 0., 0., ..., 0., 0., 0.]),\n",
       "       array([0., 0., 0., ..., 0., 0., 0.]),\n",
       "       array([0., 0., 0., ..., 0., 0., 0.]),\n",
       "       array([0., 0., 0., ..., 0., 0., 0.]),\n",
       "       array([0., 0., 0., ..., 0., 0., 0.]),\n",
       "       array([0., 0., 0., ..., 0., 0., 0.]),\n",
       "       array([0., 0., 0., ..., 0., 0., 0.]),\n",
       "       array([0., 0., 0., ..., 0., 0., 0.]),\n",
       "       array([0., 0., 0., ..., 0., 0., 0.]),\n",
       "       array([0., 0., 0., ..., 0., 0., 0.]),\n",
       "       array([0., 0., 0., ..., 0., 0., 0.]),\n",
       "       array([0., 0., 0., ..., 0., 0., 0.]),\n",
       "       array([0., 0., 0., ..., 0., 0., 0.]),\n",
       "       array([0., 0., 0., ..., 0., 0., 0.]),\n",
       "       array([0.39607843, 0.36470588, 0.3254902 , ..., 0.03137255, 0.03137255,\n",
       "              0.03137255])                                                    ,\n",
       "       array([0., 0., 0., ..., 0., 0., 0.]),\n",
       "       array([0.98823529, 0.99607843, 1.        , ..., 0.98823529, 0.98039216,\n",
       "              0.96862745])                                                    ,\n",
       "       array([0.0745098, 0.0745098, 0.0745098, ..., 0.0627451, 0.0627451,\n",
       "              0.0627451])                                                ,\n",
       "       array([0.39607843, 0.36470588, 0.3254902 , ..., 0.03137255, 0.03137255,\n",
       "              0.03137255])                                                    ,\n",
       "       array([0., 0., 0., ..., 0., 0., 0.]),\n",
       "       array([0., 0., 0., ..., 0., 0., 0.]),\n",
       "       array([0.        , 0.        , 0.00392157, ..., 0.00392157, 0.00392157,\n",
       "              0.00392157])                                                    ,\n",
       "       array([0.00392157, 0.00392157, 0.00392157, ..., 0.00392157, 0.00392157,\n",
       "              0.00392157])                                                    ,\n",
       "       array([0.03921569, 0.03921569, 0.03921569, ..., 0.03921569, 0.03921569,\n",
       "              0.03921569])                                                    ,\n",
       "       array([0., 0., 0., ..., 0., 0., 0.]),\n",
       "       array([0.        , 0.        , 0.        , ..., 0.08627451, 0.09803922,\n",
       "              0.04313725])                                                    ,\n",
       "       array([0., 0., 0., ..., 0., 0., 0.]),\n",
       "       array([0.00784314, 0.00784314, 0.00784314, ..., 0.        , 0.        ,\n",
       "              0.        ])                                                    ,\n",
       "       array([0.45882353, 0.        , 0.00392157, ..., 0.        , 0.        ,\n",
       "              0.        ])                                                    ,\n",
       "       array([0., 0., 0., ..., 0., 0., 0.]),\n",
       "       array([0.        , 0.        , 0.        , ..., 0.83921569, 0.83921569,\n",
       "              0.84705882])                                                    ,\n",
       "       array([0.0627451 , 0.07843137, 0.07843137, ..., 0.05098039, 0.0627451 ,\n",
       "              0.04705882])                                                    ,\n",
       "       array([0.        , 0.        , 0.01960784, ..., 0.        , 0.        ,\n",
       "              0.00784314])                                                    ,\n",
       "       array([0.        , 0.        , 0.01960784, ..., 0.        , 0.        ,\n",
       "              0.00784314])                                                    ,\n",
       "       array([0., 0., 0., ..., 0., 0., 0.]),\n",
       "       array([0., 0., 0., ..., 0., 0., 0.]),\n",
       "       array([0.01568627, 0.01568627, 0.01176471, ..., 0.00784314, 0.00392157,\n",
       "              0.00392157])                                                    ,\n",
       "       array([0.01568627, 0.01568627, 0.01176471, ..., 0.00784314, 0.00392157,\n",
       "              0.00392157])                                                    ,\n",
       "       array([0., 0., 0., ..., 0., 0., 0.]),\n",
       "       array([0.72156863, 0.67843137, 0.58431373, ..., 0.57254902, 0.65490196,\n",
       "              0.75294118])                                                    ,\n",
       "       array([0.01960784, 0.01960784, 0.01568627, ..., 0.01176471, 0.01176471,\n",
       "              0.01176471])                                                    ,\n",
       "       array([0.14117647, 0.14117647, 0.14117647, ..., 0.1372549 , 0.13333333,\n",
       "              0.12941176])                                                    ,\n",
       "       array([0.08627451, 0.08627451, 0.08627451, ..., 0.09019608, 0.09019608,\n",
       "              0.09019608])                                                    ,\n",
       "       array([0., 0., 0., ..., 0., 0., 0.]),\n",
       "       array([0., 0., 0., ..., 0., 0., 0.]),\n",
       "       array([0.55294118, 0.55294118, 0.55294118, ..., 0.01568627, 0.04313725,\n",
       "              0.1372549 ])                                                    ,\n",
       "       array([0.03529412, 0.03921569, 0.03529412, ..., 0.03529412, 0.02745098,\n",
       "              0.06666667])                                                    ,\n",
       "       array([0.00392157, 0.00392157, 0.00392157, ..., 0.01568627, 0.01176471,\n",
       "              0.00784314])                                                    ,\n",
       "       array([0.02745098, 0.02745098, 0.02745098, ..., 0.07058824, 0.0745098 ,\n",
       "              0.07843137])                                                    ,\n",
       "       array([0.01960784, 0.01960784, 0.01960784, ..., 0.01960784, 0.01960784,\n",
       "              0.01960784])                                                    ,\n",
       "       array([0.00392157, 0.00392157, 0.00392157, ..., 0.        , 0.22745098,\n",
       "              0.72941176])                                                    ,\n",
       "       array([0.07058824, 0.07843137, 0.09019608, ..., 0.09019608, 0.09411765,\n",
       "              0.09411765])                                                    ,\n",
       "       array([0.45490196, 0.14117647, 0.16862745, ..., 0.03137255, 0.02745098,\n",
       "              0.01568627])                                                    ,\n",
       "       array([1., 1., 1., ..., 1., 1., 1.]),\n",
       "       array([0., 0., 0., ..., 0., 0., 0.]),\n",
       "       array([0., 0., 0., ..., 0., 0., 0.]),\n",
       "       array([0., 0., 0., ..., 0., 0., 0.]),\n",
       "       array([0.02352941, 0.02352941, 0.02352941, ..., 0.01568627, 0.01568627,\n",
       "              0.01568627])                                                    ,\n",
       "       array([0.04313725, 0.03529412, 0.03137255, ..., 0.03921569, 0.03137255,\n",
       "              0.03137255])                                                    ,\n",
       "       array([0.09411765, 0.05490196, 0.05098039, ..., 0.        , 0.00784314,\n",
       "              0.01176471])                                                    ,\n",
       "       array([0.10196078, 0.10588235, 0.10588235, ..., 0.11372549, 0.1254902 ,\n",
       "              0.13333333])                                                    ,\n",
       "       array([0.02745098, 0.02745098, 0.02745098, ..., 0.54901961, 0.4       ,\n",
       "              0.31764706])                                                    ,\n",
       "       array([0.04705882, 0.04705882, 0.05098039, ..., 0.04705882, 0.04705882,\n",
       "              0.04705882])                                                    ,\n",
       "       array([0., 0., 0., ..., 0., 0., 0.]),\n",
       "       array([0.03921569, 0.03921569, 0.03921569, ..., 0.03529412, 0.03921569,\n",
       "              0.03921569])                                                    ,\n",
       "       array([0.        , 0.00392157, 0.00392157, ..., 0.00392157, 0.        ,\n",
       "              0.        ])                                                    ,\n",
       "       array([0., 0., 0., ..., 0., 0., 0.]),\n",
       "       array([0., 0., 0., ..., 0., 0., 0.]),\n",
       "       array([0.00784314, 0.        , 0.        , ..., 0.00392157, 0.00392157,\n",
       "              0.        ])                                                    ,\n",
       "       array([0.00784314, 0.01960784, 0.01176471, ..., 0.00392157, 0.00392157,\n",
       "              0.00392157])                                                    ,\n",
       "       array([0.01960784, 0.01960784, 0.01960784, ..., 0.01960784, 0.01960784,\n",
       "              0.01960784])                                                    ,\n",
       "       array([0., 0., 0., ..., 0., 0., 0.]),\n",
       "       array([0.45098039, 0.16470588, 0.16470588, ..., 0.36862745, 0.33333333,\n",
       "              0.5372549 ])                                                    ,\n",
       "       array([0., 0., 0., ..., 0., 0., 0.]),\n",
       "       array([0., 0., 0., ..., 0., 0., 0.]),\n",
       "       array([0.        , 0.        , 0.        , ..., 0.        , 0.        ,\n",
       "              0.00392157])                                                    ,\n",
       "       array([0., 0., 0., ..., 0., 0., 0.]),\n",
       "       array([0.        , 0.00392157, 0.01176471, ..., 0.05098039, 0.05098039,\n",
       "              0.05098039])                                                    ,\n",
       "       array([0.        , 0.        , 0.        , ..., 0.14117647, 0.2627451 ,\n",
       "              0.50196078])                                                    ,\n",
       "       array([0., 0., 0., ..., 0., 0., 0.]),\n",
       "       array([0., 0., 0., ..., 0., 0., 0.]),\n",
       "       array([0.        , 0.        , 0.        , ..., 0.00784314, 0.00784314,\n",
       "              0.01568627])                                                    ,\n",
       "       array([0., 0., 0., ..., 0., 0., 0.]),\n",
       "       array([0., 0., 0., ..., 0., 0., 0.]),\n",
       "       array([0., 0., 0., ..., 0., 0., 0.]),\n",
       "       array([0., 0., 0., ..., 0., 0., 0.]),\n",
       "       array([0.06666667, 0.06666667, 0.06666667, ..., 0.04705882, 0.04705882,\n",
       "              0.04705882])                                                    ,\n",
       "       array([0., 0., 0., ..., 0., 0., 0.]),\n",
       "       array([0.07843137, 0.07058824, 0.06666667, ..., 0.0745098 , 0.07843137,\n",
       "              0.07843137])                                                    ,\n",
       "       array([0., 0., 0., ..., 0., 0., 0.]),\n",
       "       array([0.0745098 , 0.0745098 , 0.0745098 , ..., 0.14509804, 0.1254902 ,\n",
       "              0.11372549])                                                    ,\n",
       "       array([0.00392157, 0.00392157, 0.        , ..., 0.        , 0.        ,\n",
       "              0.        ])                                                    ,\n",
       "       array([0.00392157, 0.00392157, 0.00392157, ..., 0.        , 0.        ,\n",
       "              0.        ])                                                    ,\n",
       "       array([0.        , 0.        , 0.        , ..., 0.00784314, 0.01176471,\n",
       "              0.01568627])                                                    ,\n",
       "       array([0., 0., 0., ..., 0., 0., 0.]),\n",
       "       array([0.00392157, 0.00392157, 0.00392157, ..., 0.00392157, 0.00392157,\n",
       "              0.00392157])                                                    ,\n",
       "       array([0.02352941, 0.01176471, 0.02352941, ..., 0.04313725, 0.07058824,\n",
       "              0.09019608])                                                    ,\n",
       "       array([0., 0., 0., ..., 0., 0., 0.]),\n",
       "       array([0., 0., 0., ..., 0., 0., 0.]),\n",
       "       array([0.11764706, 0.11764706, 0.11764706, ..., 0.12156863, 0.12156863,\n",
       "              0.1254902 ])                                                    ,\n",
       "       array([0.92941176, 0.80392157, 0.79215686, ..., 0.92941176, 0.88627451,\n",
       "              0.94509804])                                                    ,\n",
       "       array([0.15294118, 0.06666667, 0.05098039, ..., 0.06666667, 0.09803922,\n",
       "              0.13333333])                                                    ,\n",
       "       array([0.        , 0.        , 0.        , ..., 0.00784314, 0.00784314,\n",
       "              0.00392157])                                                    ,\n",
       "       array([1.        , 0.84705882, 0.72941176, ..., 0.01176471, 0.05882353,\n",
       "              0.10196078])                                                    ,\n",
       "       array([0., 0., 0., ..., 0., 0., 0.]),\n",
       "       array([0.00392157, 0.00392157, 0.00392157, ..., 0.00392157, 0.00392157,\n",
       "              0.00392157])                                                    ,\n",
       "       array([0.00392157, 0.00392157, 0.00392157, ..., 0.        , 0.        ,\n",
       "              0.        ])                                                    ,\n",
       "       array([0.        , 0.        , 0.        , ..., 0.00392157, 0.        ,\n",
       "              0.        ])                                                    ,\n",
       "       array([0.00392157, 0.01176471, 0.01176471, ..., 0.9372549 , 0.93333333,\n",
       "              0.9372549 ])                                                    ,\n",
       "       array([0.0627451 , 0.0745098 , 0.06666667, ..., 0.0627451 , 0.05490196,\n",
       "              0.0627451 ])                                                    ,\n",
       "       array([0.0627451 , 0.01568627, 0.        , ..., 0.00784314, 0.00784314,\n",
       "              0.00784314])                                                    ,\n",
       "       array([0.02745098, 0.02745098, 0.01960784, ..., 0.        , 0.        ,\n",
       "              0.        ])                                                    ,\n",
       "       array([0.0627451 , 0.01568627, 0.        , ..., 0.00784314, 0.00784314,\n",
       "              0.00784314])                                                    ,\n",
       "       array([0.09803922, 0.09803922, 0.09803922, ..., 0.09803922, 0.09803922,\n",
       "              0.10588235])                                                    ,\n",
       "       array([0.00784314, 0.00784314, 0.00784314, ..., 0.00392157, 0.00392157,\n",
       "              0.00392157])                                                    ,\n",
       "       array([0., 0., 0., ..., 0., 0., 0.]),\n",
       "       array([0., 0., 0., ..., 0., 0., 0.]),\n",
       "       array([0., 0., 0., ..., 0., 0., 0.]),\n",
       "       array([0.69411765, 0.4745098 , 0.44313725, ..., 0.41176471, 0.49411765,\n",
       "              0.76470588])                                                    ,\n",
       "       array([0., 0., 0., ..., 0., 0., 0.]),\n",
       "       array([0.02745098, 0.09019608, 0.08235294, ..., 0.10588235, 0.10588235,\n",
       "              0.10980392])                                                    ,\n",
       "       array([0.        , 0.        , 0.        , ..., 0.03529412, 0.03529412,\n",
       "              0.03529412])                                                    ,\n",
       "       array([0.14509804, 0.14509804, 0.14509804, ..., 0.15686275, 0.16078431,\n",
       "              0.16078431])                                                    ,\n",
       "       array([0.05882353, 0.0627451 , 0.0627451 , ..., 0.07058824, 0.07058824,\n",
       "              0.07058824])                                                    ,\n",
       "       array([0.11372549, 0.09411765, 0.07058824, ..., 0.06666667, 0.0745098 ,\n",
       "              0.08235294])                                                    ,\n",
       "       array([0.04313725, 0.04313725, 0.04313725, ..., 0.04313725, 0.04313725,\n",
       "              0.03921569])                                                    ,\n",
       "       array([0.00392157, 0.00392157, 0.00392157, ..., 0.00392157, 0.00392157,\n",
       "              0.00392157])                                                    ,\n",
       "       array([0.12156863, 0.12156863, 0.12156863, ..., 0.6       , 0.34901961,\n",
       "              0.08627451])                                                    ,\n",
       "       array([0.11372549, 0.11372549, 0.11372549, ..., 0.11372549, 0.11372549,\n",
       "              0.11372549])                                                    ,\n",
       "       array([0.2627451 , 0.25882353, 0.25490196, ..., 0.21568627, 0.21568627,\n",
       "              0.21568627])                                                    ,\n",
       "       array([0.01568627, 0.01176471, 0.00784314, ..., 0.        , 0.        ,\n",
       "              0.        ])                                                    ,\n",
       "       array([0.00784314, 0.00784314, 0.00784314, ..., 0.00784314, 0.00784314,\n",
       "              0.00784314])                                                    ,\n",
       "       array([0., 0., 0., ..., 0., 0., 0.]),\n",
       "       array([0., 0., 0., ..., 0., 0., 0.]),\n",
       "       array([0.        , 0.        , 0.        , ..., 0.00392157, 0.00392157,\n",
       "              0.        ])                                                    ,\n",
       "       array([0.42745098, 0.17254902, 0.12941176, ..., 0.03921569, 0.05098039,\n",
       "              0.01960784])                                                    ,\n",
       "       array([0.66666667, 0.66666667, 0.66666667, ..., 0.6       , 0.75686275,\n",
       "              1.        ])                                                    ,\n",
       "       array([0.20392157, 0.08627451, 0.16470588, ..., 0.14509804, 0.12941176,\n",
       "              0.16078431])                                                    ,\n",
       "       array([0., 0., 0., ..., 0., 0., 0.]),\n",
       "       array([0.03529412, 0.03529412, 0.03529412, ..., 0.03529412, 0.03529412,\n",
       "              0.03529412])                                                    ,\n",
       "       array([0., 0., 0., ..., 0., 0., 0.]),\n",
       "       array([0., 0., 0., ..., 0., 0., 0.]),\n",
       "       array([0., 0., 0., ..., 0., 0., 0.]),\n",
       "       array([0.03921569, 0.03921569, 0.03921569, ..., 0.03921569, 0.03921569,\n",
       "              0.03921569])                                                    ,\n",
       "       array([0.02745098, 0.02745098, 0.02745098, ..., 0.58823529, 0.59215686,\n",
       "              0.59215686])                                                    ,\n",
       "       array([0., 0., 0., ..., 0., 0., 0.]),\n",
       "       array([0., 0., 0., ..., 0., 0., 0.]),\n",
       "       array([0., 0., 0., ..., 0., 0., 0.]),\n",
       "       array([0., 0., 0., ..., 0., 0., 0.]),\n",
       "       array([0., 0., 0., ..., 0., 0., 0.]),\n",
       "       array([0.03137255, 0.03137255, 0.03137255, ..., 0.03529412, 0.03529412,\n",
       "              0.03529412])                                                    ,\n",
       "       array([0., 0., 0., ..., 0., 0., 0.]),\n",
       "       array([0.61960784, 0.23137255, 0.16470588, ..., 0.        , 0.        ,\n",
       "              0.        ])                                                    ,\n",
       "       array([0., 0., 0., ..., 0., 0., 0.]),\n",
       "       array([0.00392157, 0.00392157, 0.00392157, ..., 0.00392157, 0.00392157,\n",
       "              0.00392157])                                                    ,\n",
       "       array([0.05098039, 0.05882353, 0.0627451 , ..., 0.05490196, 0.05490196,\n",
       "              0.05490196])                                                    ,\n",
       "       array([0., 0., 0., ..., 0., 0., 0.]),\n",
       "       array([0.15294118, 0.15294118, 0.15294118, ..., 0.05490196, 0.05490196,\n",
       "              0.05490196])                                                    ,\n",
       "       array([0.08235294, 0.09019608, 0.07843137, ..., 0.00392157, 0.01960784,\n",
       "              0.09803922])                                                    ,\n",
       "       array([0.08627451, 0.08627451, 0.08627451, ..., 0.04313725, 0.04313725,\n",
       "              0.04313725])                                                    ,\n",
       "       array([0.        , 0.        , 0.        , ..., 0.00392157, 0.00392157,\n",
       "              0.00392157])                                                    ,\n",
       "       array([0.10980392, 0.11372549, 0.12156863, ..., 0.12156863, 0.12156863,\n",
       "              0.1254902 ])                                                    ,\n",
       "       array([0.21568627, 0.23921569, 0.24705882, ..., 0.02352941, 0.02745098,\n",
       "              0.24705882])                                                    ,\n",
       "       array([0.        , 0.        , 0.        , ..., 0.00392157, 0.00392157,\n",
       "              0.00784314])                                                    ,\n",
       "       array([0.        , 0.        , 0.        , ..., 0.00392157, 0.00392157,\n",
       "              0.00392157])                                                    ,\n",
       "       array([0., 0., 0., ..., 0., 0., 0.]),\n",
       "       array([0., 0., 0., ..., 0., 0., 0.]),\n",
       "       array([0.05490196, 0.04705882, 0.04313725, ..., 0.18431373, 0.13333333,\n",
       "              0.08235294])                                                    ,\n",
       "       array([0.30588235, 0.30588235, 0.30588235, ..., 0.        , 0.        ,\n",
       "              0.        ])                                                    ,\n",
       "       array([0.03529412, 0.03529412, 0.03529412, ..., 0.04313725, 0.04313725,\n",
       "              0.04313725])                                                    ,\n",
       "       array([0., 0., 0., ..., 0., 0., 0.]),\n",
       "       array([0.10980392, 0.10980392, 0.10980392, ..., 0.23137255, 0.23529412,\n",
       "              0.23921569])                                                    ,\n",
       "       array([0., 0., 0., ..., 0., 0., 0.]),\n",
       "       array([0.04705882, 0.05098039, 0.05490196, ..., 0.05098039, 0.05098039,\n",
       "              0.05098039])                                                    ,\n",
       "       array([0., 0., 0., ..., 0., 0., 0.]),\n",
       "       array([0., 0., 0., ..., 0., 0., 0.]),\n",
       "       array([0.        , 0.00784314, 0.01960784, ..., 0.02745098, 0.02352941,\n",
       "              0.02352941])                                                    ,\n",
       "       array([0.1372549 , 0.14509804, 0.14509804, ..., 0.        , 0.03529412,\n",
       "              0.31372549])                                                    ,\n",
       "       array([0.10588235, 0.10588235, 0.10588235, ..., 0.00392157, 0.00392157,\n",
       "              0.        ])                                                    ,\n",
       "       array([0.17647059, 0.17647059, 0.17647059, ..., 0.17254902, 0.17254902,\n",
       "              0.17647059])                                                    ,\n",
       "       array([0.43921569, 0.15294118, 0.12941176, ..., 0.        , 0.03137255,\n",
       "              0.30980392])                                                    ,\n",
       "       array([0.01176471, 0.01176471, 0.01176471, ..., 0.        , 0.        ,\n",
       "              0.        ])                                                    ,\n",
       "       array([0.00392157, 0.01960784, 0.02352941, ..., 0.        , 0.00392157,\n",
       "              0.00392157])                                                    ,\n",
       "       array([0., 0., 0., ..., 0., 0., 0.]),\n",
       "       array([0., 0., 0., ..., 0., 0., 0.]),\n",
       "       array([0.05098039, 0.05882353, 0.0627451 , ..., 0.05490196, 0.05490196,\n",
       "              0.05490196])                                                    ,\n",
       "       array([0.1372549 , 0.14117647, 0.1372549 , ..., 0.        , 0.00784314,\n",
       "              0.00784314])                                                    ,\n",
       "       array([0.00392157, 0.00392157, 0.00392157, ..., 0.        , 0.        ,\n",
       "              0.        ])                                                    ,\n",
       "       array([0.        , 0.        , 0.        , ..., 0.00392157, 0.00392157,\n",
       "              0.00392157])                                                    ,\n",
       "       array([0.0627451, 0.0627451, 0.0627451, ..., 0.0627451, 0.0627451,\n",
       "              0.0627451])                                                ,\n",
       "       array([0., 0., 0., ..., 0., 0., 0.]),\n",
       "       array([0.12941176, 0.1372549 , 0.14509804, ..., 0.00392157, 0.03529412,\n",
       "              0.33333333])                                                    ,\n",
       "       array([0., 0., 0., ..., 0., 0., 0.]),\n",
       "       array([0.84705882, 0.59215686, 0.65098039, ..., 0.58039216, 0.61176471,\n",
       "              0.86666667])                                                    ,\n",
       "       array([0., 0., 0., ..., 0., 0., 0.]),\n",
       "       array([0.00392157, 0.00392157, 0.00392157, ..., 0.00392157, 0.00392157,\n",
       "              0.00392157])                                                    ,\n",
       "       array([0., 0., 0., ..., 0., 0., 0.]),\n",
       "       array([0., 0., 0., ..., 0., 0., 0.]),\n",
       "       array([0., 0., 0., ..., 0., 0., 0.]),\n",
       "       array([0.0745098, 0.0745098, 0.0745098, ..., 0.0745098, 0.0745098,\n",
       "              0.0745098])                                                ,\n",
       "       array([0.44313725, 0.15686275, 0.12941176, ..., 0.        , 0.00392157,\n",
       "              0.00784314])                                                    ,\n",
       "       array([0.00392157, 0.00392157, 0.00392157, ..., 0.00392157, 0.00392157,\n",
       "              0.00392157])                                                    ,\n",
       "       array([0., 0., 0., ..., 0., 0., 0.]),\n",
       "       array([0., 0., 0., ..., 0., 0., 0.]),\n",
       "       array([0.0745098, 0.0745098, 0.0745098, ..., 0.0745098, 0.0745098,\n",
       "              0.0745098])                                                ,\n",
       "       array([0., 0., 0., ..., 0., 0., 0.]),\n",
       "       array([0., 0., 0., ..., 0., 0., 0.]),\n",
       "       array([0., 0., 0., ..., 0., 0., 0.]),\n",
       "       array([0.0745098, 0.0745098, 0.0745098, ..., 0.0745098, 0.0745098,\n",
       "              0.0745098])                                                ,\n",
       "       array([0., 0., 0., ..., 0., 0., 0.]),\n",
       "       array([0.00392157, 0.00392157, 0.00392157, ..., 0.00392157, 0.00392157,\n",
       "              0.00392157])                                                    ,\n",
       "       array([0., 0., 0., ..., 0., 0., 0.]),\n",
       "       array([0., 0., 0., ..., 0., 0., 0.]),\n",
       "       array([0., 0., 0., ..., 0., 0., 0.]),\n",
       "       array([0.12941176, 0.1372549 , 0.14509804, ..., 0.02745098, 0.03921569,\n",
       "              0.30588235])                                                    ,\n",
       "       array([0., 0., 0., ..., 0., 0., 0.]),\n",
       "       array([0.04705882, 0.05098039, 0.05490196, ..., 0.05098039, 0.05098039,\n",
       "              0.05098039])                                                    ,\n",
       "       array([0.        , 0.        , 0.        , ..., 0.00392157, 0.00392157,\n",
       "              0.00392157])                                                    ,\n",
       "       array([0.44313725, 0.15686275, 0.12941176, ..., 0.        , 0.00784314,\n",
       "              0.03529412])                                                    ,\n",
       "       array([0., 0., 0., ..., 0., 0., 0.]),\n",
       "       array([0.44705882, 0.23137255, 0.23921569, ..., 0.01960784, 0.03137255,\n",
       "              0.03137255])                                                    ,\n",
       "       array([0.05098039, 0.05882353, 0.0627451 , ..., 0.05490196, 0.05490196,\n",
       "              0.05490196])                                                    ,\n",
       "       array([0., 0., 0., ..., 0., 0., 0.]),\n",
       "       array([0., 0., 0., ..., 0., 0., 0.]),\n",
       "       array([0., 0., 0., ..., 0., 0., 0.]),\n",
       "       array([0.00392157, 0.00392157, 0.00392157, ..., 0.00392157, 0.00392157,\n",
       "              0.00392157])                                                    ,\n",
       "       array([0., 0., 0., ..., 0., 0., 0.]),\n",
       "       array([0.04705882, 0.05098039, 0.05490196, ..., 0.05098039, 0.05098039,\n",
       "              0.05098039])                                                    ,\n",
       "       array([0.10980392, 0.10980392, 0.10980392, ..., 0.23137255, 0.23137255,\n",
       "              0.23137255])                                                    ,\n",
       "       array([0.        , 0.00784314, 0.01960784, ..., 0.02745098, 0.02352941,\n",
       "              0.02352941])                                                    ,\n",
       "       array([0.42352941, 0.15294118, 0.12941176, ..., 0.00784314, 0.00784314,\n",
       "              0.00784314])                                                    ,\n",
       "       array([0.00392157, 0.00392157, 0.00392157, ..., 0.00392157, 0.00392157,\n",
       "              0.00392157])                                                    ,\n",
       "       array([0.44705882, 0.23137255, 0.23921569, ..., 0.01568627, 0.01568627,\n",
       "              0.01568627])                                                    ,\n",
       "       array([0.10588235, 0.10588235, 0.10588235, ..., 0.        , 0.        ,\n",
       "              0.        ])                                                    ,\n",
       "       array([0.01176471, 0.01176471, 0.01176471, ..., 0.00392157, 0.00784314,\n",
       "              0.00784314])                                                    ,\n",
       "       array([0.0627451, 0.0627451, 0.0627451, ..., 0.0627451, 0.0627451,\n",
       "              0.0627451])                                                ,\n",
       "       array([0.00392157, 0.00392157, 0.00392157, ..., 0.00392157, 0.00392157,\n",
       "              0.00392157])                                                    ,\n",
       "       array([0., 0., 0., ..., 0., 0., 0.]),\n",
       "       array([0.05098039, 0.05882353, 0.0627451 , ..., 0.05490196, 0.05490196,\n",
       "              0.05490196])                                                    ,\n",
       "       array([0.00392157, 0.00392157, 0.00392157, ..., 0.00392157, 0.00392157,\n",
       "              0.00392157])                                                    ,\n",
       "       array([0.00392157, 0.00392157, 0.00392157, ..., 0.00392157, 0.00392157,\n",
       "              0.00392157])                                                    ,\n",
       "       array([0., 0., 0., ..., 0., 0., 0.]),\n",
       "       array([0.10980392, 0.11372549, 0.12156863, ..., 0.12156863, 0.12156863,\n",
       "              0.1254902 ])                                                    ,\n",
       "       array([0.00392157, 0.00392157, 0.00392157, ..., 0.00392157, 0.00392157,\n",
       "              0.00392157])                                                    ,\n",
       "       array([0., 0., 0., ..., 0., 0., 0.]),\n",
       "       array([0.        , 0.01176471, 0.01176471, ..., 0.02745098, 0.02745098,\n",
       "              0.02745098])                                                    ,\n",
       "       array([0., 0., 0., ..., 0., 0., 0.]),\n",
       "       array([0., 0., 0., ..., 0., 0., 0.]),\n",
       "       array([0.        , 0.        , 0.        , ..., 0.00392157, 0.00392157,\n",
       "              0.00392157])                                                    ,\n",
       "       array([0., 0., 0., ..., 0., 0., 0.]),\n",
       "       array([0.00392157, 0.00392157, 0.00392157, ..., 0.00392157, 0.00392157,\n",
       "              0.00392157])                                                    ,\n",
       "       array([0.0627451 , 0.04313725, 0.03529412, ..., 0.09019608, 0.07843137,\n",
       "              0.01568627])                                                    ,\n",
       "       array([0., 0., 0., ..., 0., 0., 0.]),\n",
       "       array([0.05882353, 0.11372549, 0.04313725, ..., 0.        , 0.        ,\n",
       "              0.        ])                                                    ,\n",
       "       array([0., 0., 0., ..., 0., 0., 0.]),\n",
       "       array([0.15294118, 0.15294118, 0.15294118, ..., 0.0745098 , 0.0745098 ,\n",
       "              0.0745098 ])                                                    ,\n",
       "       array([0.01176471, 0.01176471, 0.01176471, ..., 0.01176471, 0.01176471,\n",
       "              0.01176471])                                                    ,\n",
       "       array([0.00784314, 0.00784314, 0.00784314, ..., 0.00392157, 0.        ,\n",
       "              0.        ])                                                    ,\n",
       "       array([0.0627451, 0.0627451, 0.0627451, ..., 0.0627451, 0.0627451,\n",
       "              0.0627451])                                                ,\n",
       "       array([0.        , 0.        , 0.        , ..., 0.00392157, 0.00392157,\n",
       "              0.00392157])                                                    ,\n",
       "       array([0.08627451, 0.08627451, 0.08627451, ..., 0.09019608, 0.09019608,\n",
       "              0.07843137])                                                    ,\n",
       "       array([0.74509804, 0.49019608, 0.49803922, ..., 0.50196078, 0.49411765,\n",
       "              0.74509804])                                                    ,\n",
       "       array([1.        , 0.96470588, 0.99215686, ..., 0.57254902, 0.63529412,\n",
       "              0.89803922])                                                    ,\n",
       "       array([0., 0., 0., ..., 0., 0., 0.]),\n",
       "       array([0.44313725, 0.14509804, 0.16470588, ..., 0.07843137, 0.0745098 ,\n",
       "              0.0745098 ])                                                    ,\n",
       "       array([0.00392157, 0.00392157, 0.00392157, ..., 0.00784314, 0.        ,\n",
       "              0.09803922])                                                    ,\n",
       "       array([0.        , 0.        , 0.        , ..., 0.00392157, 0.00392157,\n",
       "              0.00392157])                                                    ,\n",
       "       array([0.00392157, 0.00392157, 0.00392157, ..., 0.00784314, 0.        ,\n",
       "              0.09803922])                                                    ,\n",
       "       array([0.00392157, 0.00392157, 0.00392157, ..., 0.00784314, 0.        ,\n",
       "              0.09803922])                                                    ,\n",
       "       array([0.08235294, 0.03921569, 0.03921569, ..., 0.03921569, 0.03529412,\n",
       "              0.07843137])                                                    ,\n",
       "       array([0.08235294, 0.03921569, 0.03921569, ..., 0.03921569, 0.03529412,\n",
       "              0.07843137])                                                    ,\n",
       "       array([0.43137255, 0.14509804, 0.16078431, ..., 0.70196078, 0.46666667,\n",
       "              0.2745098 ])                                                    ,\n",
       "       array([0.43137255, 0.14509804, 0.16078431, ..., 0.70196078, 0.46666667,\n",
       "              0.2745098 ])                                                    ,\n",
       "       array([0.        , 0.        , 0.        , ..., 0.00392157, 0.00392157,\n",
       "              0.00392157])                                                    ,\n",
       "       array([0.00392157, 0.00392157, 0.00392157, ..., 0.00392157, 0.        ,\n",
       "              0.11372549])                                                    ,\n",
       "       array([0.03921569, 0.03921569, 0.03921569, ..., 0.0627451 , 0.0627451 ,\n",
       "              0.0627451 ])                                                    ,\n",
       "       array([0.        , 0.        , 0.        , ..., 0.03137255, 0.02352941,\n",
       "              0.01960784])                                                    ,\n",
       "       array([0., 0., 0., ..., 0., 0., 0.]),\n",
       "       array([0., 0., 0., ..., 0., 0., 0.]),\n",
       "       array([0., 0., 0., ..., 0., 0., 0.]),\n",
       "       array([0.        , 0.        , 0.        , ..., 0.56078431, 0.48235294,\n",
       "              0.36470588])                                                    ,\n",
       "       array([0.42745098, 0.15294118, 0.16078431, ..., 0.        , 0.        ,\n",
       "              0.        ])                                                    ,\n",
       "       array([0.42745098, 0.15294118, 0.16078431, ..., 0.        , 0.        ,\n",
       "              0.        ])                                                    ,\n",
       "       array([0.42745098, 0.15294118, 0.16078431, ..., 0.        , 0.        ,\n",
       "              0.        ])                                                    ,\n",
       "       array([0.43137255, 0.14509804, 0.14901961, ..., 0.02352941, 0.02352941,\n",
       "              0.01568627])                                                    ,\n",
       "       array([0.43137255, 0.14509804, 0.14901961, ..., 0.02352941, 0.02352941,\n",
       "              0.01568627])                                                    ,\n",
       "       array([0.43137255, 0.14509804, 0.14901961, ..., 0.02352941, 0.02352941,\n",
       "              0.01568627])                                                    ,\n",
       "       array([0., 0., 0., ..., 0., 0., 0.]),\n",
       "       array([0., 0., 0., ..., 0., 0., 0.]),\n",
       "       array([0., 0., 0., ..., 0., 0., 0.]),\n",
       "       array([0.3372549 , 0.20784314, 0.19607843, ..., 0.19215686, 0.18823529,\n",
       "              0.60784314])                                                    ,\n",
       "       array([0.        , 0.        , 0.        , ..., 0.56078431, 0.48235294,\n",
       "              0.36470588])                                                    ,\n",
       "       array([0.        , 0.        , 0.        , ..., 0.56078431, 0.48235294,\n",
       "              0.36470588])                                                    ,\n",
       "       array([0.43137255, 0.14509804, 0.14901961, ..., 0.01960784, 0.01176471,\n",
       "              0.01176471])                                                    ,\n",
       "       array([0.43137255, 0.14509804, 0.14901961, ..., 0.01960784, 0.01176471,\n",
       "              0.01176471])                                                    ,\n",
       "       array([0.43137255, 0.14509804, 0.14901961, ..., 0.01960784, 0.01176471,\n",
       "              0.01176471])                                                    ,\n",
       "       array([0.        , 0.        , 0.        , ..., 0.00392157, 0.00392157,\n",
       "              0.        ])                                                    ,\n",
       "       array([0.        , 0.        , 0.        , ..., 0.00392157, 0.00392157,\n",
       "              0.        ])                                                    ,\n",
       "       array([0.3372549 , 0.20784314, 0.19607843, ..., 0.19215686, 0.18823529,\n",
       "              0.60784314])                                                    ,\n",
       "       array([0.42745098, 0.15294118, 0.16470588, ..., 0.00392157, 0.        ,\n",
       "              0.        ])                                                    ,\n",
       "       array([0.42745098, 0.15294118, 0.16470588, ..., 0.00392157, 0.        ,\n",
       "              0.        ])                                                    ,\n",
       "       array([1.        , 0.99215686, 1.        , ..., 0.59215686, 0.6627451 ,\n",
       "              0.94117647])                                                    ,\n",
       "       array([1.        , 0.99215686, 1.        , ..., 0.59215686, 0.6627451 ,\n",
       "              0.94117647])                                                    ,\n",
       "       array([0.45882353, 0.04313725, 0.        , ..., 0.05882353, 0.05882353,\n",
       "              0.05882353])                                                    ,\n",
       "       array([0.45882353, 0.04313725, 0.        , ..., 0.05882353, 0.05882353,\n",
       "              0.05882353])                                                    ,\n",
       "       array([0.        , 0.        , 0.        , ..., 0.01176471, 0.01176471,\n",
       "              0.01176471])                                                    ,\n",
       "       array([0.        , 0.        , 0.        , ..., 0.01176471, 0.01176471,\n",
       "              0.01176471])                                                    ,\n",
       "       array([0.42352941, 0.14901961, 0.17254902, ..., 0.        , 0.        ,\n",
       "              0.00392157])                                                    ,\n",
       "       array([0.01176471, 0.00784314, 0.        , ..., 0.01176471, 0.01176471,\n",
       "              0.00784314])                                                    ,\n",
       "       array([0.42352941, 0.14901961, 0.17254902, ..., 0.        , 0.        ,\n",
       "              0.00392157])                                                    ,\n",
       "       array([0., 0., 0., ..., 0., 0., 0.]),\n",
       "       array([0., 0., 0., ..., 0., 0., 0.]),\n",
       "       array([0., 0., 0., ..., 0., 0., 0.]),\n",
       "       array([0., 0., 0., ..., 0., 0., 0.]),\n",
       "       array([0., 0., 0., ..., 0., 0., 0.]),\n",
       "       array([0.01176471, 0.00784314, 0.        , ..., 0.01176471, 0.01176471,\n",
       "              0.00784314])                                                    ,\n",
       "       array([0., 0., 0., ..., 0., 0., 0.]),\n",
       "       array([0., 0., 0., ..., 0., 0., 0.]),\n",
       "       array([0., 0., 0., ..., 0., 0., 0.]),\n",
       "       array([0., 0., 0., ..., 0., 0., 0.]),\n",
       "       array([0.        , 0.        , 0.        , ..., 0.01568627, 0.03137255,\n",
       "              0.03137255])                                                    ,\n",
       "       array([0.        , 0.        , 0.        , ..., 0.01568627, 0.03137255,\n",
       "              0.03137255])                                                    ,\n",
       "       array([0.05490196, 0.05490196, 0.05490196, ..., 0.09411765, 0.09803922,\n",
       "              0.09019608])                                                    ,\n",
       "       array([0.05490196, 0.05490196, 0.05490196, ..., 0.09411765, 0.09803922,\n",
       "              0.09019608])                                                    ,\n",
       "       array([0.05490196, 0.05490196, 0.05490196, ..., 0.09411765, 0.09803922,\n",
       "              0.09019608])                                                    ,\n",
       "       array([0.00784314, 0.00784314, 0.00784314, ..., 0.00392157, 0.00392157,\n",
       "              0.00392157])                                                    ,\n",
       "       array([0.00784314, 0.00784314, 0.00784314, ..., 0.00392157, 0.00392157,\n",
       "              0.00392157])                                                    ,\n",
       "       array([0.01176471, 0.01176471, 0.01176471, ..., 0.        , 0.        ,\n",
       "              0.        ])                                                    ,\n",
       "       array([0.01176471, 0.01176471, 0.01176471, ..., 0.        , 0.        ,\n",
       "              0.        ])                                                    ,\n",
       "       array([0.00784314, 0.00784314, 0.00784314, ..., 0.00392157, 0.00392157,\n",
       "              0.00392157])                                                    ,\n",
       "       array([0.00784314, 0.00784314, 0.00784314, ..., 0.00392157, 0.00392157,\n",
       "              0.00392157])                                                    ,\n",
       "       array([0.0745098 , 0.0745098 , 0.0745098 , ..., 0.01176471, 0.01176471,\n",
       "              0.01176471])                                                    ,\n",
       "       array([0., 0., 0., ..., 0., 0., 0.])], dtype=object)"
      ]
     },
     "execution_count": 31,
     "metadata": {},
     "output_type": "execute_result"
    }
   ],
   "source": [
    "test_images"
   ]
  },
  {
   "cell_type": "code",
   "execution_count": 32,
   "id": "c2787ff3",
   "metadata": {},
   "outputs": [
    {
     "data": {
      "text/plain": [
       "array([[0.        , 0.        , 0.        , ..., 0.        , 0.        ,\n",
       "        0.        ],\n",
       "       [0.        , 0.        , 0.        , ..., 0.        , 0.        ,\n",
       "        0.        ],\n",
       "       [0.02745098, 0.02745098, 0.02745098, ..., 0.01960784, 0.01960784,\n",
       "        0.01568627],\n",
       "       ...,\n",
       "       [0.00784314, 0.00784314, 0.00784314, ..., 0.00392157, 0.00392157,\n",
       "        0.00392157],\n",
       "       [0.0745098 , 0.0745098 , 0.0745098 , ..., 0.01176471, 0.01176471,\n",
       "        0.01176471],\n",
       "       [0.        , 0.        , 0.        , ..., 0.        , 0.        ,\n",
       "        0.        ]])"
      ]
     },
     "execution_count": 32,
     "metadata": {},
     "output_type": "execute_result"
    }
   ],
   "source": [
    "# Converting 1D array into 2D\n",
    "test_images = np.vstack(test_images)\n",
    "test_images"
   ]
  },
  {
   "cell_type": "code",
   "execution_count": 33,
   "id": "91d2e520",
   "metadata": {},
   "outputs": [
    {
     "data": {
      "text/plain": [
       "(394, 65536)"
      ]
     },
     "execution_count": 33,
     "metadata": {},
     "output_type": "execute_result"
    }
   ],
   "source": [
    "test_images.shape"
   ]
  },
  {
   "cell_type": "markdown",
   "id": "232f9cc8",
   "metadata": {},
   "source": [
    "## Section - 1"
   ]
  },
  {
   "cell_type": "markdown",
   "id": "f01463e1",
   "metadata": {},
   "source": [
    "### Using TensorFlow"
   ]
  },
  {
   "cell_type": "markdown",
   "id": "cb733a91",
   "metadata": {},
   "source": [
    "#### Model Building"
   ]
  },
  {
   "cell_type": "code",
   "execution_count": 70,
   "id": "b2708553",
   "metadata": {},
   "outputs": [],
   "source": [
    "model = tf.keras.Sequential([\n",
    "    tf.keras.layers.Dense(512, activation=\"relu\", input_shape=(256*256,)),\n",
    "    tf.keras.layers.Dense(256, activation=\"relu\"),\n",
    "    tf.keras.layers.Dense(128, activation=\"relu\"),\n",
    "    tf.keras.layers.Dense(64, activation=\"relu\"),\n",
    "    tf.keras.layers.Dense(4, activation=\"softmax\")\n",
    "])"
   ]
  },
  {
   "cell_type": "code",
   "execution_count": 71,
   "id": "98938ac8",
   "metadata": {},
   "outputs": [],
   "source": [
    "model.compile(optimizer=\"adam\",\n",
    "             loss='sparse_categorical_crossentropy',\n",
    "             metrics=[\"accuracy\"])"
   ]
  },
  {
   "cell_type": "code",
   "execution_count": 72,
   "id": "4ae3bc6a",
   "metadata": {},
   "outputs": [
    {
     "name": "stdout",
     "output_type": "stream",
     "text": [
      "Model: \"sequential_7\"\n",
      "_________________________________________________________________\n",
      " Layer (type)                Output Shape              Param #   \n",
      "=================================================================\n",
      " dense_33 (Dense)            (None, 512)               33554944  \n",
      "                                                                 \n",
      " dense_34 (Dense)            (None, 256)               131328    \n",
      "                                                                 \n",
      " dense_35 (Dense)            (None, 128)               32896     \n",
      "                                                                 \n",
      " dense_36 (Dense)            (None, 64)                8256      \n",
      "                                                                 \n",
      " dense_37 (Dense)            (None, 4)                 260       \n",
      "                                                                 \n",
      "=================================================================\n",
      "Total params: 33,727,684\n",
      "Trainable params: 33,727,684\n",
      "Non-trainable params: 0\n",
      "_________________________________________________________________\n"
     ]
    }
   ],
   "source": [
    "model.summary()"
   ]
  },
  {
   "cell_type": "markdown",
   "id": "de1e3d0b",
   "metadata": {},
   "source": [
    "#### Training the model"
   ]
  },
  {
   "cell_type": "code",
   "execution_count": 73,
   "id": "bd324a37",
   "metadata": {},
   "outputs": [],
   "source": [
    "checkpoint = tf.keras.callbacks.ModelCheckpoint(\"best_model.h5\",\n",
    "                                               monitor=\"accuracy\",\n",
    "                                               verbose=1,\n",
    "                                               save_best_only=True,\n",
    "                                               mode=\"max\")"
   ]
  },
  {
   "cell_type": "code",
   "execution_count": 74,
   "id": "f3f57725",
   "metadata": {},
   "outputs": [
    {
     "name": "stdout",
     "output_type": "stream",
     "text": [
      "Epoch 1/20\n",
      "180/180 [==============================] - ETA: 0s - loss: 1.6140 - accuracy: 0.4850\n",
      "Epoch 1: accuracy improved from -inf to 0.48502, saving model to best_model.h5\n",
      "180/180 [==============================] - 62s 340ms/step - loss: 1.6140 - accuracy: 0.4850\n",
      "Epoch 2/20\n",
      "180/180 [==============================] - ETA: 0s - loss: 0.8595 - accuracy: 0.6348\n",
      "Epoch 2: accuracy improved from 0.48502 to 0.63484, saving model to best_model.h5\n",
      "180/180 [==============================] - 64s 358ms/step - loss: 0.8595 - accuracy: 0.6348\n",
      "Epoch 3/20\n",
      "180/180 [==============================] - ETA: 0s - loss: 0.7190 - accuracy: 0.7024\n",
      "Epoch 3: accuracy improved from 0.63484 to 0.70244, saving model to best_model.h5\n",
      "180/180 [==============================] - 66s 368ms/step - loss: 0.7190 - accuracy: 0.7024\n",
      "Epoch 4/20\n",
      "180/180 [==============================] - ETA: 0s - loss: 0.5913 - accuracy: 0.7498\n",
      "Epoch 4: accuracy improved from 0.70244 to 0.74983, saving model to best_model.h5\n",
      "180/180 [==============================] - 66s 365ms/step - loss: 0.5913 - accuracy: 0.7498\n",
      "Epoch 5/20\n",
      "180/180 [==============================] - ETA: 0s - loss: 0.5769 - accuracy: 0.7627\n",
      "Epoch 5: accuracy improved from 0.74983 to 0.76272, saving model to best_model.h5\n",
      "180/180 [==============================] - 63s 351ms/step - loss: 0.5769 - accuracy: 0.7627\n",
      "Epoch 6/20\n",
      "180/180 [==============================] - ETA: 0s - loss: 0.4803 - accuracy: 0.8045\n",
      "Epoch 6: accuracy improved from 0.76272 to 0.80453, saving model to best_model.h5\n",
      "180/180 [==============================] - 64s 358ms/step - loss: 0.4803 - accuracy: 0.8045\n",
      "Epoch 7/20\n",
      "180/180 [==============================] - ETA: 0s - loss: 0.4093 - accuracy: 0.8380\n",
      "Epoch 7: accuracy improved from 0.80453 to 0.83798, saving model to best_model.h5\n",
      "180/180 [==============================] - 63s 348ms/step - loss: 0.4093 - accuracy: 0.8380\n",
      "Epoch 8/20\n",
      "180/180 [==============================] - ETA: 0s - loss: 0.3408 - accuracy: 0.8571\n",
      "Epoch 8: accuracy improved from 0.83798 to 0.85714, saving model to best_model.h5\n",
      "180/180 [==============================] - 63s 351ms/step - loss: 0.3408 - accuracy: 0.8571\n",
      "Epoch 9/20\n",
      "180/180 [==============================] - ETA: 0s - loss: 0.3331 - accuracy: 0.8780\n",
      "Epoch 9: accuracy improved from 0.85714 to 0.87805, saving model to best_model.h5\n",
      "180/180 [==============================] - 60s 334ms/step - loss: 0.3331 - accuracy: 0.8780\n",
      "Epoch 10/20\n",
      "180/180 [==============================] - ETA: 0s - loss: 0.2856 - accuracy: 0.8892\n",
      "Epoch 10: accuracy improved from 0.87805 to 0.88920, saving model to best_model.h5\n",
      "180/180 [==============================] - 64s 355ms/step - loss: 0.2856 - accuracy: 0.8892\n",
      "Epoch 11/20\n",
      "180/180 [==============================] - ETA: 0s - loss: 0.2507 - accuracy: 0.9077\n",
      "Epoch 11: accuracy improved from 0.88920 to 0.90767, saving model to best_model.h5\n",
      "180/180 [==============================] - 62s 342ms/step - loss: 0.2507 - accuracy: 0.9077\n",
      "Epoch 12/20\n",
      "180/180 [==============================] - ETA: 0s - loss: 0.2238 - accuracy: 0.9230\n",
      "Epoch 12: accuracy improved from 0.90767 to 0.92300, saving model to best_model.h5\n",
      "180/180 [==============================] - 65s 362ms/step - loss: 0.2238 - accuracy: 0.9230\n",
      "Epoch 13/20\n",
      "180/180 [==============================] - ETA: 0s - loss: 0.1995 - accuracy: 0.9303\n",
      "Epoch 13: accuracy improved from 0.92300 to 0.93031, saving model to best_model.h5\n",
      "180/180 [==============================] - 64s 357ms/step - loss: 0.1995 - accuracy: 0.9303\n",
      "Epoch 14/20\n",
      "180/180 [==============================] - ETA: 0s - loss: 0.2425 - accuracy: 0.9178\n",
      "Epoch 14: accuracy did not improve from 0.93031\n",
      "180/180 [==============================] - 57s 314ms/step - loss: 0.2425 - accuracy: 0.9178\n",
      "Epoch 15/20\n",
      "180/180 [==============================] - ETA: 0s - loss: 0.1804 - accuracy: 0.9352\n",
      "Epoch 15: accuracy improved from 0.93031 to 0.93519, saving model to best_model.h5\n",
      "180/180 [==============================] - 63s 350ms/step - loss: 0.1804 - accuracy: 0.9352\n",
      "Epoch 16/20\n",
      "180/180 [==============================] - ETA: 0s - loss: 0.1829 - accuracy: 0.9324\n",
      "Epoch 16: accuracy did not improve from 0.93519\n",
      "180/180 [==============================] - 67s 374ms/step - loss: 0.1829 - accuracy: 0.9324\n",
      "Epoch 17/20\n",
      "180/180 [==============================] - ETA: 0s - loss: 0.1722 - accuracy: 0.9422\n",
      "Epoch 17: accuracy improved from 0.93519 to 0.94216, saving model to best_model.h5\n",
      "180/180 [==============================] - 68s 373ms/step - loss: 0.1722 - accuracy: 0.9422\n",
      "Epoch 18/20\n",
      "180/180 [==============================] - ETA: 0s - loss: 0.1070 - accuracy: 0.9700\n",
      "Epoch 18: accuracy improved from 0.94216 to 0.97003, saving model to best_model.h5\n",
      "180/180 [==============================] - 58s 323ms/step - loss: 0.1070 - accuracy: 0.9700\n",
      "Epoch 19/20\n",
      "180/180 [==============================] - ETA: 0s - loss: 0.1356 - accuracy: 0.9568\n",
      "Epoch 19: accuracy did not improve from 0.97003\n",
      "180/180 [==============================] - 58s 323ms/step - loss: 0.1356 - accuracy: 0.9568\n",
      "Epoch 20/20\n",
      "180/180 [==============================] - ETA: 0s - loss: 0.0948 - accuracy: 0.9686\n",
      "Epoch 20: accuracy did not improve from 0.97003\n",
      "180/180 [==============================] - 59s 327ms/step - loss: 0.0948 - accuracy: 0.9686\n"
     ]
    },
    {
     "data": {
      "text/plain": [
       "<keras.callbacks.History at 0x1c8bab3ce80>"
      ]
     },
     "execution_count": 74,
     "metadata": {},
     "output_type": "execute_result"
    }
   ],
   "source": [
    "model.fit(train_images, train_labels, epochs=20, batch_size=16, callbacks=[checkpoint])"
   ]
  },
  {
   "cell_type": "markdown",
   "id": "327b7ba5",
   "metadata": {},
   "source": [
    "#### Evaluating"
   ]
  },
  {
   "cell_type": "code",
   "execution_count": 76,
   "id": "f5ef94d5",
   "metadata": {},
   "outputs": [],
   "source": [
    "best_model = tf.keras.models.load_model('best_model.h5')"
   ]
  },
  {
   "cell_type": "code",
   "execution_count": 77,
   "id": "cf561caf",
   "metadata": {},
   "outputs": [
    {
     "name": "stdout",
     "output_type": "stream",
     "text": [
      "13/13 [==============================] - 1s 43ms/step - loss: 2.9226 - accuracy: 0.7081\n"
     ]
    }
   ],
   "source": [
    "test_loss, test_acc = best_model.evaluate(test_images, test_labels)"
   ]
  },
  {
   "cell_type": "code",
   "execution_count": 78,
   "id": "6f184534",
   "metadata": {},
   "outputs": [
    {
     "name": "stdout",
     "output_type": "stream",
     "text": [
      "Test Loss: 2.9225943088531494\n",
      "Test Accuracy: 0.7081218361854553\n"
     ]
    }
   ],
   "source": [
    "print(f\"Test Loss: {test_loss}\")\n",
    "print(f\"Test Accuracy: {test_acc}\")"
   ]
  }
 ],
 "metadata": {
  "kernelspec": {
   "display_name": "Python 3 (ipykernel)",
   "language": "python",
   "name": "python3"
  },
  "language_info": {
   "codemirror_mode": {
    "name": "ipython",
    "version": 3
   },
   "file_extension": ".py",
   "mimetype": "text/x-python",
   "name": "python",
   "nbconvert_exporter": "python",
   "pygments_lexer": "ipython3",
   "version": "3.10.2"
  }
 },
 "nbformat": 4,
 "nbformat_minor": 5
}
