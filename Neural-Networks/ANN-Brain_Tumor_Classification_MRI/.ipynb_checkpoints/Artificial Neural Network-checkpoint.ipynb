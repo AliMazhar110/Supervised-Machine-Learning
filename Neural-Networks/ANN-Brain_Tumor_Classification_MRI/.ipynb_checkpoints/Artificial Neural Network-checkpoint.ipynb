{
 "cells": [
  {
   "cell_type": "markdown",
   "id": "c88a279f",
   "metadata": {},
   "source": [
    "# ANN - Brain Tumor MRI Classification"
   ]
  },
  {
   "cell_type": "markdown",
   "id": "23ae1ed5",
   "metadata": {},
   "source": [
    "Brain tumors are abnormal growths of cells within the brain, which can be life-threatening and require accurate diagnosis for effective treatment. MRI (Magnetic Resonance Imaging) is a non-invasive imaging technique widely used for the diagnosis and monitoring of brain tumors. In this notebook, we will develop a classification model to identify different types of brain tumors from MRI images using Artificial Neural Networks (ANN).\n",
    "\n",
    "### Dataset Details\n",
    "The dataset used in this notebook contains MRI images classified into four categories of brain tumors:\n",
    "\n",
    "No Tumor - 0, Glioma Tumor - 1, Meningioma Tumor - 2, Pituitary Tumor - 3\n",
    "\n",
    "Each MRI image is labeled according to these categories, allowing us to train and evaluate our classification models effectively.\n",
    "\n",
    "### Section 1: Brain Tumor Classification Using TensorFlow\n",
    "In this section, we will leverage TensorFlow, a powerful and widely-used deep learning library, to create, train, and evaluate a neural network model for classifying brain tumors from MRI images. TensorFlow provides high-level APIs that simplify the process of building and training neural networks, allowing us to focus on the overall architecture and performance of our model.\n",
    "\n",
    "### Section 2: Brain Tumor Classification by Manually Implementing an ANN\n",
    "In this section, we will take a deeper dive into the workings of neural networks by manually implementing all the necessary components from scratch. This includes defining the network architecture, initializing weights, implementing forward and backward propagation, and training the network. By doing so, we will gain a deeper understanding of the inner workings of ANNs and the mathematical principles behind them.\n",
    "\n",
    "#### Let's get started!"
   ]
  },
  {
   "cell_type": "markdown",
   "id": "59f5c593",
   "metadata": {},
   "source": [
    "## Importing Libraries"
   ]
  },
  {
   "cell_type": "code",
   "execution_count": 23,
   "id": "82f6a1d5",
   "metadata": {},
   "outputs": [],
   "source": [
    "import os\n",
    "import pandas as pd\n",
    "import numpy as np\n",
    "import matplotlib.pyplot as plt\n",
    "import seaborn as sns\n",
    "from PIL import Image"
   ]
  },
  {
   "cell_type": "markdown",
   "id": "9ca33b3c",
   "metadata": {},
   "source": [
    "## Importing Data"
   ]
  },
  {
   "cell_type": "markdown",
   "id": "36a00bfa",
   "metadata": {},
   "source": [
    "### Training set"
   ]
  },
  {
   "cell_type": "code",
   "execution_count": 19,
   "id": "55f001fe",
   "metadata": {},
   "outputs": [],
   "source": [
    "training_path = \"Training/\"\n",
    "training_folders = os.listdir(training_path)\n",
    "\n",
    "labels = {\n",
    "    \"no_tumor\" : 0,\n",
    "    \"glioma_tumor\": 1,\n",
    "    \"meningioma_tumor\": 2,\n",
    "    \"pituitary_tumor\": 3\n",
    "}\n",
    "\n",
    "images = []\n",
    "img_labels = []\n",
    "\n",
    "for folder in training_folders:\n",
    "        for img in os.listdir(training_path+folder):\n",
    "            images.append(training_path+folder+\"/\"+img)\n",
    "            img_labels.append(labels[folder])\n",
    "\n",
    "training_data = pd.DataFrame({\"filepath\": images, \"labels\": img_labels})"
   ]
  },
  {
   "cell_type": "code",
   "execution_count": 22,
   "id": "6b62fe6b",
   "metadata": {},
   "outputs": [
    {
     "data": {
      "text/html": [
       "<div>\n",
       "<style scoped>\n",
       "    .dataframe tbody tr th:only-of-type {\n",
       "        vertical-align: middle;\n",
       "    }\n",
       "\n",
       "    .dataframe tbody tr th {\n",
       "        vertical-align: top;\n",
       "    }\n",
       "\n",
       "    .dataframe thead th {\n",
       "        text-align: right;\n",
       "    }\n",
       "</style>\n",
       "<table border=\"1\" class=\"dataframe\">\n",
       "  <thead>\n",
       "    <tr style=\"text-align: right;\">\n",
       "      <th></th>\n",
       "      <th>filepath</th>\n",
       "      <th>labels</th>\n",
       "    </tr>\n",
       "  </thead>\n",
       "  <tbody>\n",
       "    <tr>\n",
       "      <th>0</th>\n",
       "      <td>Training/glioma_tumor/gg (1).jpg</td>\n",
       "      <td>1</td>\n",
       "    </tr>\n",
       "    <tr>\n",
       "      <th>1</th>\n",
       "      <td>Training/glioma_tumor/gg (10).jpg</td>\n",
       "      <td>1</td>\n",
       "    </tr>\n",
       "    <tr>\n",
       "      <th>2</th>\n",
       "      <td>Training/glioma_tumor/gg (100).jpg</td>\n",
       "      <td>1</td>\n",
       "    </tr>\n",
       "    <tr>\n",
       "      <th>3</th>\n",
       "      <td>Training/glioma_tumor/gg (101).jpg</td>\n",
       "      <td>1</td>\n",
       "    </tr>\n",
       "    <tr>\n",
       "      <th>4</th>\n",
       "      <td>Training/glioma_tumor/gg (102).jpg</td>\n",
       "      <td>1</td>\n",
       "    </tr>\n",
       "    <tr>\n",
       "      <th>5</th>\n",
       "      <td>Training/glioma_tumor/gg (103).jpg</td>\n",
       "      <td>1</td>\n",
       "    </tr>\n",
       "    <tr>\n",
       "      <th>6</th>\n",
       "      <td>Training/glioma_tumor/gg (104).jpg</td>\n",
       "      <td>1</td>\n",
       "    </tr>\n",
       "    <tr>\n",
       "      <th>7</th>\n",
       "      <td>Training/glioma_tumor/gg (105).jpg</td>\n",
       "      <td>1</td>\n",
       "    </tr>\n",
       "    <tr>\n",
       "      <th>8</th>\n",
       "      <td>Training/glioma_tumor/gg (106).jpg</td>\n",
       "      <td>1</td>\n",
       "    </tr>\n",
       "    <tr>\n",
       "      <th>9</th>\n",
       "      <td>Training/glioma_tumor/gg (107).jpg</td>\n",
       "      <td>1</td>\n",
       "    </tr>\n",
       "  </tbody>\n",
       "</table>\n",
       "</div>"
      ],
      "text/plain": [
       "                             filepath  labels\n",
       "0    Training/glioma_tumor/gg (1).jpg       1\n",
       "1   Training/glioma_tumor/gg (10).jpg       1\n",
       "2  Training/glioma_tumor/gg (100).jpg       1\n",
       "3  Training/glioma_tumor/gg (101).jpg       1\n",
       "4  Training/glioma_tumor/gg (102).jpg       1\n",
       "5  Training/glioma_tumor/gg (103).jpg       1\n",
       "6  Training/glioma_tumor/gg (104).jpg       1\n",
       "7  Training/glioma_tumor/gg (105).jpg       1\n",
       "8  Training/glioma_tumor/gg (106).jpg       1\n",
       "9  Training/glioma_tumor/gg (107).jpg       1"
      ]
     },
     "execution_count": 22,
     "metadata": {},
     "output_type": "execute_result"
    }
   ],
   "source": [
    "training_data.head(10)"
   ]
  },
  {
   "cell_type": "code",
   "execution_count": 24,
   "id": "e82eb92c",
   "metadata": {},
   "outputs": [],
   "source": [
    "## Load Images\n",
    "def load_images(img_path):\n",
    "    image = Image.open(img_path)\n",
    "    image = image.resize((256,256))\n",
    "    return np.array(image)\n",
    "\n",
    "training_data[\"image\"] = training_data[\"filepath\"].apply(load_images)"
   ]
  },
  {
   "cell_type": "code",
   "execution_count": 25,
   "id": "a7671d4f",
   "metadata": {},
   "outputs": [
    {
     "data": {
      "text/html": [
       "<div>\n",
       "<style scoped>\n",
       "    .dataframe tbody tr th:only-of-type {\n",
       "        vertical-align: middle;\n",
       "    }\n",
       "\n",
       "    .dataframe tbody tr th {\n",
       "        vertical-align: top;\n",
       "    }\n",
       "\n",
       "    .dataframe thead th {\n",
       "        text-align: right;\n",
       "    }\n",
       "</style>\n",
       "<table border=\"1\" class=\"dataframe\">\n",
       "  <thead>\n",
       "    <tr style=\"text-align: right;\">\n",
       "      <th></th>\n",
       "      <th>filepath</th>\n",
       "      <th>labels</th>\n",
       "      <th>image</th>\n",
       "    </tr>\n",
       "  </thead>\n",
       "  <tbody>\n",
       "    <tr>\n",
       "      <th>0</th>\n",
       "      <td>Training/glioma_tumor/gg (1).jpg</td>\n",
       "      <td>1</td>\n",
       "      <td>[[[0, 0, 0], [0, 0, 0], [0, 0, 0], [0, 0, 0], ...</td>\n",
       "    </tr>\n",
       "    <tr>\n",
       "      <th>1</th>\n",
       "      <td>Training/glioma_tumor/gg (10).jpg</td>\n",
       "      <td>1</td>\n",
       "      <td>[[[0, 0, 0], [0, 0, 0], [0, 0, 0], [0, 0, 0], ...</td>\n",
       "    </tr>\n",
       "    <tr>\n",
       "      <th>2</th>\n",
       "      <td>Training/glioma_tumor/gg (100).jpg</td>\n",
       "      <td>1</td>\n",
       "      <td>[[[0, 0, 0], [0, 0, 0], [0, 0, 0], [0, 0, 0], ...</td>\n",
       "    </tr>\n",
       "    <tr>\n",
       "      <th>3</th>\n",
       "      <td>Training/glioma_tumor/gg (101).jpg</td>\n",
       "      <td>1</td>\n",
       "      <td>[[[0, 0, 0], [0, 0, 0], [0, 0, 0], [0, 0, 0], ...</td>\n",
       "    </tr>\n",
       "    <tr>\n",
       "      <th>4</th>\n",
       "      <td>Training/glioma_tumor/gg (102).jpg</td>\n",
       "      <td>1</td>\n",
       "      <td>[[[0, 0, 0], [0, 0, 0], [0, 0, 0], [0, 0, 0], ...</td>\n",
       "    </tr>\n",
       "    <tr>\n",
       "      <th>5</th>\n",
       "      <td>Training/glioma_tumor/gg (103).jpg</td>\n",
       "      <td>1</td>\n",
       "      <td>[[[0, 0, 0], [0, 0, 0], [0, 0, 0], [0, 0, 0], ...</td>\n",
       "    </tr>\n",
       "    <tr>\n",
       "      <th>6</th>\n",
       "      <td>Training/glioma_tumor/gg (104).jpg</td>\n",
       "      <td>1</td>\n",
       "      <td>[[[0, 0, 0], [0, 0, 0], [0, 0, 0], [0, 0, 0], ...</td>\n",
       "    </tr>\n",
       "    <tr>\n",
       "      <th>7</th>\n",
       "      <td>Training/glioma_tumor/gg (105).jpg</td>\n",
       "      <td>1</td>\n",
       "      <td>[[[0, 0, 0], [0, 0, 0], [0, 0, 0], [0, 0, 0], ...</td>\n",
       "    </tr>\n",
       "    <tr>\n",
       "      <th>8</th>\n",
       "      <td>Training/glioma_tumor/gg (106).jpg</td>\n",
       "      <td>1</td>\n",
       "      <td>[[[0, 0, 0], [0, 0, 0], [0, 0, 0], [0, 0, 0], ...</td>\n",
       "    </tr>\n",
       "    <tr>\n",
       "      <th>9</th>\n",
       "      <td>Training/glioma_tumor/gg (107).jpg</td>\n",
       "      <td>1</td>\n",
       "      <td>[[[0, 0, 0], [0, 0, 0], [0, 0, 0], [0, 0, 0], ...</td>\n",
       "    </tr>\n",
       "  </tbody>\n",
       "</table>\n",
       "</div>"
      ],
      "text/plain": [
       "                             filepath  labels  \\\n",
       "0    Training/glioma_tumor/gg (1).jpg       1   \n",
       "1   Training/glioma_tumor/gg (10).jpg       1   \n",
       "2  Training/glioma_tumor/gg (100).jpg       1   \n",
       "3  Training/glioma_tumor/gg (101).jpg       1   \n",
       "4  Training/glioma_tumor/gg (102).jpg       1   \n",
       "5  Training/glioma_tumor/gg (103).jpg       1   \n",
       "6  Training/glioma_tumor/gg (104).jpg       1   \n",
       "7  Training/glioma_tumor/gg (105).jpg       1   \n",
       "8  Training/glioma_tumor/gg (106).jpg       1   \n",
       "9  Training/glioma_tumor/gg (107).jpg       1   \n",
       "\n",
       "                                               image  \n",
       "0  [[[0, 0, 0], [0, 0, 0], [0, 0, 0], [0, 0, 0], ...  \n",
       "1  [[[0, 0, 0], [0, 0, 0], [0, 0, 0], [0, 0, 0], ...  \n",
       "2  [[[0, 0, 0], [0, 0, 0], [0, 0, 0], [0, 0, 0], ...  \n",
       "3  [[[0, 0, 0], [0, 0, 0], [0, 0, 0], [0, 0, 0], ...  \n",
       "4  [[[0, 0, 0], [0, 0, 0], [0, 0, 0], [0, 0, 0], ...  \n",
       "5  [[[0, 0, 0], [0, 0, 0], [0, 0, 0], [0, 0, 0], ...  \n",
       "6  [[[0, 0, 0], [0, 0, 0], [0, 0, 0], [0, 0, 0], ...  \n",
       "7  [[[0, 0, 0], [0, 0, 0], [0, 0, 0], [0, 0, 0], ...  \n",
       "8  [[[0, 0, 0], [0, 0, 0], [0, 0, 0], [0, 0, 0], ...  \n",
       "9  [[[0, 0, 0], [0, 0, 0], [0, 0, 0], [0, 0, 0], ...  "
      ]
     },
     "execution_count": 25,
     "metadata": {},
     "output_type": "execute_result"
    }
   ],
   "source": [
    "training_data.head(10)"
   ]
  },
  {
   "cell_type": "code",
   "execution_count": 35,
   "id": "4dcfb29d",
   "metadata": {},
   "outputs": [
    {
     "data": {
      "text/plain": [
       "(2870, 3)"
      ]
     },
     "execution_count": 35,
     "metadata": {},
     "output_type": "execute_result"
    }
   ],
   "source": [
    "training_data.shape"
   ]
  },
  {
   "cell_type": "markdown",
   "id": "e85cca0d",
   "metadata": {},
   "source": [
    "### Testing set"
   ]
  },
  {
   "cell_type": "code",
   "execution_count": 27,
   "id": "482e7498",
   "metadata": {},
   "outputs": [],
   "source": [
    "testing_path = \"Testing/\"\n",
    "testing_folders = os.listdir(testing_path)\n",
    "\n",
    "images = []\n",
    "img_labels = []\n",
    "\n",
    "for folder in testing_folders:\n",
    "        for img in os.listdir(testing_path+folder):\n",
    "            images.append(testing_path+folder+\"/\"+img)\n",
    "            img_labels.append(labels[folder])\n",
    "\n",
    "testing_data = pd.DataFrame({\"filepath\": images, \"labels\": img_labels})"
   ]
  },
  {
   "cell_type": "code",
   "execution_count": 30,
   "id": "00650552",
   "metadata": {},
   "outputs": [
    {
     "data": {
      "text/html": [
       "<div>\n",
       "<style scoped>\n",
       "    .dataframe tbody tr th:only-of-type {\n",
       "        vertical-align: middle;\n",
       "    }\n",
       "\n",
       "    .dataframe tbody tr th {\n",
       "        vertical-align: top;\n",
       "    }\n",
       "\n",
       "    .dataframe thead th {\n",
       "        text-align: right;\n",
       "    }\n",
       "</style>\n",
       "<table border=\"1\" class=\"dataframe\">\n",
       "  <thead>\n",
       "    <tr style=\"text-align: right;\">\n",
       "      <th></th>\n",
       "      <th>filepath</th>\n",
       "      <th>labels</th>\n",
       "    </tr>\n",
       "  </thead>\n",
       "  <tbody>\n",
       "    <tr>\n",
       "      <th>0</th>\n",
       "      <td>Testing/glioma_tumor/image(1).jpg</td>\n",
       "      <td>1</td>\n",
       "    </tr>\n",
       "    <tr>\n",
       "      <th>1</th>\n",
       "      <td>Testing/glioma_tumor/image(10).jpg</td>\n",
       "      <td>1</td>\n",
       "    </tr>\n",
       "    <tr>\n",
       "      <th>2</th>\n",
       "      <td>Testing/glioma_tumor/image(100).jpg</td>\n",
       "      <td>1</td>\n",
       "    </tr>\n",
       "    <tr>\n",
       "      <th>3</th>\n",
       "      <td>Testing/glioma_tumor/image(11).jpg</td>\n",
       "      <td>1</td>\n",
       "    </tr>\n",
       "    <tr>\n",
       "      <th>4</th>\n",
       "      <td>Testing/glioma_tumor/image(12).jpg</td>\n",
       "      <td>1</td>\n",
       "    </tr>\n",
       "    <tr>\n",
       "      <th>5</th>\n",
       "      <td>Testing/glioma_tumor/image(13).jpg</td>\n",
       "      <td>1</td>\n",
       "    </tr>\n",
       "    <tr>\n",
       "      <th>6</th>\n",
       "      <td>Testing/glioma_tumor/image(14).jpg</td>\n",
       "      <td>1</td>\n",
       "    </tr>\n",
       "    <tr>\n",
       "      <th>7</th>\n",
       "      <td>Testing/glioma_tumor/image(15).jpg</td>\n",
       "      <td>1</td>\n",
       "    </tr>\n",
       "    <tr>\n",
       "      <th>8</th>\n",
       "      <td>Testing/glioma_tumor/image(16).jpg</td>\n",
       "      <td>1</td>\n",
       "    </tr>\n",
       "    <tr>\n",
       "      <th>9</th>\n",
       "      <td>Testing/glioma_tumor/image(17).jpg</td>\n",
       "      <td>1</td>\n",
       "    </tr>\n",
       "  </tbody>\n",
       "</table>\n",
       "</div>"
      ],
      "text/plain": [
       "                              filepath  labels\n",
       "0    Testing/glioma_tumor/image(1).jpg       1\n",
       "1   Testing/glioma_tumor/image(10).jpg       1\n",
       "2  Testing/glioma_tumor/image(100).jpg       1\n",
       "3   Testing/glioma_tumor/image(11).jpg       1\n",
       "4   Testing/glioma_tumor/image(12).jpg       1\n",
       "5   Testing/glioma_tumor/image(13).jpg       1\n",
       "6   Testing/glioma_tumor/image(14).jpg       1\n",
       "7   Testing/glioma_tumor/image(15).jpg       1\n",
       "8   Testing/glioma_tumor/image(16).jpg       1\n",
       "9   Testing/glioma_tumor/image(17).jpg       1"
      ]
     },
     "execution_count": 30,
     "metadata": {},
     "output_type": "execute_result"
    }
   ],
   "source": [
    "testing_data.head(10)"
   ]
  },
  {
   "cell_type": "code",
   "execution_count": 31,
   "id": "3993f78e",
   "metadata": {},
   "outputs": [],
   "source": [
    "testing_data[\"image\"] = testing_data[\"filepath\"].apply(load_images)"
   ]
  },
  {
   "cell_type": "code",
   "execution_count": 32,
   "id": "9a8ab538",
   "metadata": {},
   "outputs": [
    {
     "data": {
      "text/html": [
       "<div>\n",
       "<style scoped>\n",
       "    .dataframe tbody tr th:only-of-type {\n",
       "        vertical-align: middle;\n",
       "    }\n",
       "\n",
       "    .dataframe tbody tr th {\n",
       "        vertical-align: top;\n",
       "    }\n",
       "\n",
       "    .dataframe thead th {\n",
       "        text-align: right;\n",
       "    }\n",
       "</style>\n",
       "<table border=\"1\" class=\"dataframe\">\n",
       "  <thead>\n",
       "    <tr style=\"text-align: right;\">\n",
       "      <th></th>\n",
       "      <th>filepath</th>\n",
       "      <th>labels</th>\n",
       "      <th>image</th>\n",
       "    </tr>\n",
       "  </thead>\n",
       "  <tbody>\n",
       "    <tr>\n",
       "      <th>0</th>\n",
       "      <td>Testing/glioma_tumor/image(1).jpg</td>\n",
       "      <td>1</td>\n",
       "      <td>[[[0, 0, 0], [0, 0, 0], [0, 0, 0], [0, 0, 0], ...</td>\n",
       "    </tr>\n",
       "    <tr>\n",
       "      <th>1</th>\n",
       "      <td>Testing/glioma_tumor/image(10).jpg</td>\n",
       "      <td>1</td>\n",
       "      <td>[[[0, 0, 0], [0, 0, 0], [0, 0, 0], [0, 0, 0], ...</td>\n",
       "    </tr>\n",
       "    <tr>\n",
       "      <th>2</th>\n",
       "      <td>Testing/glioma_tumor/image(100).jpg</td>\n",
       "      <td>1</td>\n",
       "      <td>[[[7, 7, 7], [7, 7, 7], [7, 7, 7], [7, 7, 7], ...</td>\n",
       "    </tr>\n",
       "    <tr>\n",
       "      <th>3</th>\n",
       "      <td>Testing/glioma_tumor/image(11).jpg</td>\n",
       "      <td>1</td>\n",
       "      <td>[[[0, 0, 0], [0, 0, 0], [0, 0, 0], [0, 0, 0], ...</td>\n",
       "    </tr>\n",
       "    <tr>\n",
       "      <th>4</th>\n",
       "      <td>Testing/glioma_tumor/image(12).jpg</td>\n",
       "      <td>1</td>\n",
       "      <td>[[[0, 0, 0], [0, 0, 0], [0, 0, 0], [0, 0, 0], ...</td>\n",
       "    </tr>\n",
       "    <tr>\n",
       "      <th>5</th>\n",
       "      <td>Testing/glioma_tumor/image(13).jpg</td>\n",
       "      <td>1</td>\n",
       "      <td>[[[0, 0, 0], [0, 0, 0], [0, 0, 0], [0, 0, 0], ...</td>\n",
       "    </tr>\n",
       "    <tr>\n",
       "      <th>6</th>\n",
       "      <td>Testing/glioma_tumor/image(14).jpg</td>\n",
       "      <td>1</td>\n",
       "      <td>[[[16, 16, 16], [3, 3, 3], [2, 2, 2], [0, 0, 0...</td>\n",
       "    </tr>\n",
       "    <tr>\n",
       "      <th>7</th>\n",
       "      <td>Testing/glioma_tumor/image(15).jpg</td>\n",
       "      <td>1</td>\n",
       "      <td>[[[0, 0, 0], [0, 0, 0], [0, 0, 0], [0, 0, 0], ...</td>\n",
       "    </tr>\n",
       "    <tr>\n",
       "      <th>8</th>\n",
       "      <td>Testing/glioma_tumor/image(16).jpg</td>\n",
       "      <td>1</td>\n",
       "      <td>[[[209, 209, 209], [95, 95, 95], [0, 0, 0], [0...</td>\n",
       "    </tr>\n",
       "    <tr>\n",
       "      <th>9</th>\n",
       "      <td>Testing/glioma_tumor/image(17).jpg</td>\n",
       "      <td>1</td>\n",
       "      <td>[[[11, 11, 11], [11, 11, 11], [11, 11, 11], [1...</td>\n",
       "    </tr>\n",
       "  </tbody>\n",
       "</table>\n",
       "</div>"
      ],
      "text/plain": [
       "                              filepath  labels  \\\n",
       "0    Testing/glioma_tumor/image(1).jpg       1   \n",
       "1   Testing/glioma_tumor/image(10).jpg       1   \n",
       "2  Testing/glioma_tumor/image(100).jpg       1   \n",
       "3   Testing/glioma_tumor/image(11).jpg       1   \n",
       "4   Testing/glioma_tumor/image(12).jpg       1   \n",
       "5   Testing/glioma_tumor/image(13).jpg       1   \n",
       "6   Testing/glioma_tumor/image(14).jpg       1   \n",
       "7   Testing/glioma_tumor/image(15).jpg       1   \n",
       "8   Testing/glioma_tumor/image(16).jpg       1   \n",
       "9   Testing/glioma_tumor/image(17).jpg       1   \n",
       "\n",
       "                                               image  \n",
       "0  [[[0, 0, 0], [0, 0, 0], [0, 0, 0], [0, 0, 0], ...  \n",
       "1  [[[0, 0, 0], [0, 0, 0], [0, 0, 0], [0, 0, 0], ...  \n",
       "2  [[[7, 7, 7], [7, 7, 7], [7, 7, 7], [7, 7, 7], ...  \n",
       "3  [[[0, 0, 0], [0, 0, 0], [0, 0, 0], [0, 0, 0], ...  \n",
       "4  [[[0, 0, 0], [0, 0, 0], [0, 0, 0], [0, 0, 0], ...  \n",
       "5  [[[0, 0, 0], [0, 0, 0], [0, 0, 0], [0, 0, 0], ...  \n",
       "6  [[[16, 16, 16], [3, 3, 3], [2, 2, 2], [0, 0, 0...  \n",
       "7  [[[0, 0, 0], [0, 0, 0], [0, 0, 0], [0, 0, 0], ...  \n",
       "8  [[[209, 209, 209], [95, 95, 95], [0, 0, 0], [0...  \n",
       "9  [[[11, 11, 11], [11, 11, 11], [11, 11, 11], [1...  "
      ]
     },
     "execution_count": 32,
     "metadata": {},
     "output_type": "execute_result"
    }
   ],
   "source": [
    "testing_data.head(10)"
   ]
  },
  {
   "cell_type": "code",
   "execution_count": 36,
   "id": "cfca0ae4",
   "metadata": {},
   "outputs": [
    {
     "data": {
      "text/plain": [
       "(394, 3)"
      ]
     },
     "execution_count": 36,
     "metadata": {},
     "output_type": "execute_result"
    }
   ],
   "source": [
    "testing_data.shape"
   ]
  },
  {
   "cell_type": "markdown",
   "id": "24477d4a",
   "metadata": {},
   "source": [
    "## Data Preprocessing"
   ]
  },
  {
   "cell_type": "code",
   "execution_count": null,
   "id": "38861829",
   "metadata": {},
   "outputs": [],
   "source": []
  }
 ],
 "metadata": {
  "kernelspec": {
   "display_name": "Python 3 (ipykernel)",
   "language": "python",
   "name": "python3"
  },
  "language_info": {
   "codemirror_mode": {
    "name": "ipython",
    "version": 3
   },
   "file_extension": ".py",
   "mimetype": "text/x-python",
   "name": "python",
   "nbconvert_exporter": "python",
   "pygments_lexer": "ipython3",
   "version": "3.10.2"
  }
 },
 "nbformat": 4,
 "nbformat_minor": 5
}
